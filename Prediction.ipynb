{
 "cells": [
  {
   "cell_type": "code",
   "execution_count": 1,
   "metadata": {},
   "outputs": [],
   "source": [
    "import torch\n",
    "from torchvision import transforms\n",
    "import torch.nn.functional as F\n",
    "from torch.utils.data import DataLoader\n",
    "from datasets.mpr_dataset import MPR_Dataset\n",
    "from tqdm import tqdm\n",
    "import yaml\n",
    "import pandas as pd\n",
    "import numpy as np\n",
    "from models import ShuffleNetv2\n",
    "from sklearn.metrics import accuracy_score, f1_score\n",
    "from ast import literal_eval\n",
    "# from visualize_results import label_predictions_to_images\n",
    "import os\n",
    "import cv2\n",
    "import copy\n",
    "import matplotlib.pyplot as plt"
   ]
  },
  {
   "cell_type": "code",
   "execution_count": 3,
   "metadata": {},
   "outputs": [
    {
     "name": "stdout",
     "output_type": "stream",
     "text": [
      "1\n",
      "1\n"
     ]
    }
   ],
   "source": [
    "with open('./config.yaml', 'r') as f:\n",
    "    config = yaml.load(f, Loader=yaml.FullLoader)\n",
    "\n",
    "config['device'] = 'cpu'\n",
    "root_dir = config[\"data\"][\"root_dir\"]\n",
    "transform = transforms.Compose([\n",
    "    transforms.ToTensor(),\n",
    "    # transforms.Normalize([0.485, 0.456, 0.406], [0.229, 0.224, 0.225])\n",
    "])\n",
    "\n",
    "train_dataset = MPR_Dataset(root_dir, partition=\"train\", config=config[\"data\"], transform=transform)\n",
    "\n",
    "test_loader = DataLoader(\n",
    "    MPR_Dataset(root_dir, partition=\"test\", config=config[\"data\"], transform=transform), shuffle=False,\n",
    "    batch_size=32)"
   ]
  },
  {
   "cell_type": "code",
   "execution_count": 4,
   "metadata": {},
   "outputs": [
    {
     "data": {
      "text/plain": [
       "ShuffleNetv2(\n",
       "  (model): ShuffleNetV2(\n",
       "    (conv1): Sequential(\n",
       "      (0): Conv2d(3, 24, kernel_size=(3, 3), stride=(2, 2), padding=(1, 1), bias=False)\n",
       "      (1): BatchNorm2d(24, eps=1e-05, momentum=0.1, affine=True, track_running_stats=True)\n",
       "      (2): ReLU(inplace=True)\n",
       "    )\n",
       "    (maxpool): MaxPool2d(kernel_size=3, stride=2, padding=1, dilation=1, ceil_mode=False)\n",
       "    (stage2): Sequential(\n",
       "      (0): InvertedResidual(\n",
       "        (branch1): Sequential(\n",
       "          (0): Conv2d(24, 24, kernel_size=(3, 3), stride=(2, 2), padding=(1, 1), groups=24, bias=False)\n",
       "          (1): BatchNorm2d(24, eps=1e-05, momentum=0.1, affine=True, track_running_stats=True)\n",
       "          (2): Conv2d(24, 58, kernel_size=(1, 1), stride=(1, 1), bias=False)\n",
       "          (3): BatchNorm2d(58, eps=1e-05, momentum=0.1, affine=True, track_running_stats=True)\n",
       "          (4): ReLU(inplace=True)\n",
       "        )\n",
       "        (branch2): Sequential(\n",
       "          (0): Conv2d(24, 58, kernel_size=(1, 1), stride=(1, 1), bias=False)\n",
       "          (1): BatchNorm2d(58, eps=1e-05, momentum=0.1, affine=True, track_running_stats=True)\n",
       "          (2): ReLU(inplace=True)\n",
       "          (3): Conv2d(58, 58, kernel_size=(3, 3), stride=(2, 2), padding=(1, 1), groups=58, bias=False)\n",
       "          (4): BatchNorm2d(58, eps=1e-05, momentum=0.1, affine=True, track_running_stats=True)\n",
       "          (5): Conv2d(58, 58, kernel_size=(1, 1), stride=(1, 1), bias=False)\n",
       "          (6): BatchNorm2d(58, eps=1e-05, momentum=0.1, affine=True, track_running_stats=True)\n",
       "          (7): ReLU(inplace=True)\n",
       "        )\n",
       "      )\n",
       "      (1): InvertedResidual(\n",
       "        (branch2): Sequential(\n",
       "          (0): Conv2d(58, 58, kernel_size=(1, 1), stride=(1, 1), bias=False)\n",
       "          (1): BatchNorm2d(58, eps=1e-05, momentum=0.1, affine=True, track_running_stats=True)\n",
       "          (2): ReLU(inplace=True)\n",
       "          (3): Conv2d(58, 58, kernel_size=(3, 3), stride=(1, 1), padding=(1, 1), groups=58, bias=False)\n",
       "          (4): BatchNorm2d(58, eps=1e-05, momentum=0.1, affine=True, track_running_stats=True)\n",
       "          (5): Conv2d(58, 58, kernel_size=(1, 1), stride=(1, 1), bias=False)\n",
       "          (6): BatchNorm2d(58, eps=1e-05, momentum=0.1, affine=True, track_running_stats=True)\n",
       "          (7): ReLU(inplace=True)\n",
       "        )\n",
       "      )\n",
       "      (2): InvertedResidual(\n",
       "        (branch2): Sequential(\n",
       "          (0): Conv2d(58, 58, kernel_size=(1, 1), stride=(1, 1), bias=False)\n",
       "          (1): BatchNorm2d(58, eps=1e-05, momentum=0.1, affine=True, track_running_stats=True)\n",
       "          (2): ReLU(inplace=True)\n",
       "          (3): Conv2d(58, 58, kernel_size=(3, 3), stride=(1, 1), padding=(1, 1), groups=58, bias=False)\n",
       "          (4): BatchNorm2d(58, eps=1e-05, momentum=0.1, affine=True, track_running_stats=True)\n",
       "          (5): Conv2d(58, 58, kernel_size=(1, 1), stride=(1, 1), bias=False)\n",
       "          (6): BatchNorm2d(58, eps=1e-05, momentum=0.1, affine=True, track_running_stats=True)\n",
       "          (7): ReLU(inplace=True)\n",
       "        )\n",
       "      )\n",
       "      (3): InvertedResidual(\n",
       "        (branch2): Sequential(\n",
       "          (0): Conv2d(58, 58, kernel_size=(1, 1), stride=(1, 1), bias=False)\n",
       "          (1): BatchNorm2d(58, eps=1e-05, momentum=0.1, affine=True, track_running_stats=True)\n",
       "          (2): ReLU(inplace=True)\n",
       "          (3): Conv2d(58, 58, kernel_size=(3, 3), stride=(1, 1), padding=(1, 1), groups=58, bias=False)\n",
       "          (4): BatchNorm2d(58, eps=1e-05, momentum=0.1, affine=True, track_running_stats=True)\n",
       "          (5): Conv2d(58, 58, kernel_size=(1, 1), stride=(1, 1), bias=False)\n",
       "          (6): BatchNorm2d(58, eps=1e-05, momentum=0.1, affine=True, track_running_stats=True)\n",
       "          (7): ReLU(inplace=True)\n",
       "        )\n",
       "      )\n",
       "    )\n",
       "    (stage3): Sequential(\n",
       "      (0): InvertedResidual(\n",
       "        (branch1): Sequential(\n",
       "          (0): Conv2d(116, 116, kernel_size=(3, 3), stride=(2, 2), padding=(1, 1), groups=116, bias=False)\n",
       "          (1): BatchNorm2d(116, eps=1e-05, momentum=0.1, affine=True, track_running_stats=True)\n",
       "          (2): Conv2d(116, 116, kernel_size=(1, 1), stride=(1, 1), bias=False)\n",
       "          (3): BatchNorm2d(116, eps=1e-05, momentum=0.1, affine=True, track_running_stats=True)\n",
       "          (4): ReLU(inplace=True)\n",
       "        )\n",
       "        (branch2): Sequential(\n",
       "          (0): Conv2d(116, 116, kernel_size=(1, 1), stride=(1, 1), bias=False)\n",
       "          (1): BatchNorm2d(116, eps=1e-05, momentum=0.1, affine=True, track_running_stats=True)\n",
       "          (2): ReLU(inplace=True)\n",
       "          (3): Conv2d(116, 116, kernel_size=(3, 3), stride=(2, 2), padding=(1, 1), groups=116, bias=False)\n",
       "          (4): BatchNorm2d(116, eps=1e-05, momentum=0.1, affine=True, track_running_stats=True)\n",
       "          (5): Conv2d(116, 116, kernel_size=(1, 1), stride=(1, 1), bias=False)\n",
       "          (6): BatchNorm2d(116, eps=1e-05, momentum=0.1, affine=True, track_running_stats=True)\n",
       "          (7): ReLU(inplace=True)\n",
       "        )\n",
       "      )\n",
       "      (1): InvertedResidual(\n",
       "        (branch2): Sequential(\n",
       "          (0): Conv2d(116, 116, kernel_size=(1, 1), stride=(1, 1), bias=False)\n",
       "          (1): BatchNorm2d(116, eps=1e-05, momentum=0.1, affine=True, track_running_stats=True)\n",
       "          (2): ReLU(inplace=True)\n",
       "          (3): Conv2d(116, 116, kernel_size=(3, 3), stride=(1, 1), padding=(1, 1), groups=116, bias=False)\n",
       "          (4): BatchNorm2d(116, eps=1e-05, momentum=0.1, affine=True, track_running_stats=True)\n",
       "          (5): Conv2d(116, 116, kernel_size=(1, 1), stride=(1, 1), bias=False)\n",
       "          (6): BatchNorm2d(116, eps=1e-05, momentum=0.1, affine=True, track_running_stats=True)\n",
       "          (7): ReLU(inplace=True)\n",
       "        )\n",
       "      )\n",
       "      (2): InvertedResidual(\n",
       "        (branch2): Sequential(\n",
       "          (0): Conv2d(116, 116, kernel_size=(1, 1), stride=(1, 1), bias=False)\n",
       "          (1): BatchNorm2d(116, eps=1e-05, momentum=0.1, affine=True, track_running_stats=True)\n",
       "          (2): ReLU(inplace=True)\n",
       "          (3): Conv2d(116, 116, kernel_size=(3, 3), stride=(1, 1), padding=(1, 1), groups=116, bias=False)\n",
       "          (4): BatchNorm2d(116, eps=1e-05, momentum=0.1, affine=True, track_running_stats=True)\n",
       "          (5): Conv2d(116, 116, kernel_size=(1, 1), stride=(1, 1), bias=False)\n",
       "          (6): BatchNorm2d(116, eps=1e-05, momentum=0.1, affine=True, track_running_stats=True)\n",
       "          (7): ReLU(inplace=True)\n",
       "        )\n",
       "      )\n",
       "      (3): InvertedResidual(\n",
       "        (branch2): Sequential(\n",
       "          (0): Conv2d(116, 116, kernel_size=(1, 1), stride=(1, 1), bias=False)\n",
       "          (1): BatchNorm2d(116, eps=1e-05, momentum=0.1, affine=True, track_running_stats=True)\n",
       "          (2): ReLU(inplace=True)\n",
       "          (3): Conv2d(116, 116, kernel_size=(3, 3), stride=(1, 1), padding=(1, 1), groups=116, bias=False)\n",
       "          (4): BatchNorm2d(116, eps=1e-05, momentum=0.1, affine=True, track_running_stats=True)\n",
       "          (5): Conv2d(116, 116, kernel_size=(1, 1), stride=(1, 1), bias=False)\n",
       "          (6): BatchNorm2d(116, eps=1e-05, momentum=0.1, affine=True, track_running_stats=True)\n",
       "          (7): ReLU(inplace=True)\n",
       "        )\n",
       "      )\n",
       "      (4): InvertedResidual(\n",
       "        (branch2): Sequential(\n",
       "          (0): Conv2d(116, 116, kernel_size=(1, 1), stride=(1, 1), bias=False)\n",
       "          (1): BatchNorm2d(116, eps=1e-05, momentum=0.1, affine=True, track_running_stats=True)\n",
       "          (2): ReLU(inplace=True)\n",
       "          (3): Conv2d(116, 116, kernel_size=(3, 3), stride=(1, 1), padding=(1, 1), groups=116, bias=False)\n",
       "          (4): BatchNorm2d(116, eps=1e-05, momentum=0.1, affine=True, track_running_stats=True)\n",
       "          (5): Conv2d(116, 116, kernel_size=(1, 1), stride=(1, 1), bias=False)\n",
       "          (6): BatchNorm2d(116, eps=1e-05, momentum=0.1, affine=True, track_running_stats=True)\n",
       "          (7): ReLU(inplace=True)\n",
       "        )\n",
       "      )\n",
       "      (5): InvertedResidual(\n",
       "        (branch2): Sequential(\n",
       "          (0): Conv2d(116, 116, kernel_size=(1, 1), stride=(1, 1), bias=False)\n",
       "          (1): BatchNorm2d(116, eps=1e-05, momentum=0.1, affine=True, track_running_stats=True)\n",
       "          (2): ReLU(inplace=True)\n",
       "          (3): Conv2d(116, 116, kernel_size=(3, 3), stride=(1, 1), padding=(1, 1), groups=116, bias=False)\n",
       "          (4): BatchNorm2d(116, eps=1e-05, momentum=0.1, affine=True, track_running_stats=True)\n",
       "          (5): Conv2d(116, 116, kernel_size=(1, 1), stride=(1, 1), bias=False)\n",
       "          (6): BatchNorm2d(116, eps=1e-05, momentum=0.1, affine=True, track_running_stats=True)\n",
       "          (7): ReLU(inplace=True)\n",
       "        )\n",
       "      )\n",
       "      (6): InvertedResidual(\n",
       "        (branch2): Sequential(\n",
       "          (0): Conv2d(116, 116, kernel_size=(1, 1), stride=(1, 1), bias=False)\n",
       "          (1): BatchNorm2d(116, eps=1e-05, momentum=0.1, affine=True, track_running_stats=True)\n",
       "          (2): ReLU(inplace=True)\n",
       "          (3): Conv2d(116, 116, kernel_size=(3, 3), stride=(1, 1), padding=(1, 1), groups=116, bias=False)\n",
       "          (4): BatchNorm2d(116, eps=1e-05, momentum=0.1, affine=True, track_running_stats=True)\n",
       "          (5): Conv2d(116, 116, kernel_size=(1, 1), stride=(1, 1), bias=False)\n",
       "          (6): BatchNorm2d(116, eps=1e-05, momentum=0.1, affine=True, track_running_stats=True)\n",
       "          (7): ReLU(inplace=True)\n",
       "        )\n",
       "      )\n",
       "      (7): InvertedResidual(\n",
       "        (branch2): Sequential(\n",
       "          (0): Conv2d(116, 116, kernel_size=(1, 1), stride=(1, 1), bias=False)\n",
       "          (1): BatchNorm2d(116, eps=1e-05, momentum=0.1, affine=True, track_running_stats=True)\n",
       "          (2): ReLU(inplace=True)\n",
       "          (3): Conv2d(116, 116, kernel_size=(3, 3), stride=(1, 1), padding=(1, 1), groups=116, bias=False)\n",
       "          (4): BatchNorm2d(116, eps=1e-05, momentum=0.1, affine=True, track_running_stats=True)\n",
       "          (5): Conv2d(116, 116, kernel_size=(1, 1), stride=(1, 1), bias=False)\n",
       "          (6): BatchNorm2d(116, eps=1e-05, momentum=0.1, affine=True, track_running_stats=True)\n",
       "          (7): ReLU(inplace=True)\n",
       "        )\n",
       "      )\n",
       "    )\n",
       "    (stage4): Sequential(\n",
       "      (0): InvertedResidual(\n",
       "        (branch1): Sequential(\n",
       "          (0): Conv2d(232, 232, kernel_size=(3, 3), stride=(2, 2), padding=(1, 1), groups=232, bias=False)\n",
       "          (1): BatchNorm2d(232, eps=1e-05, momentum=0.1, affine=True, track_running_stats=True)\n",
       "          (2): Conv2d(232, 232, kernel_size=(1, 1), stride=(1, 1), bias=False)\n",
       "          (3): BatchNorm2d(232, eps=1e-05, momentum=0.1, affine=True, track_running_stats=True)\n",
       "          (4): ReLU(inplace=True)\n",
       "        )\n",
       "        (branch2): Sequential(\n",
       "          (0): Conv2d(232, 232, kernel_size=(1, 1), stride=(1, 1), bias=False)\n",
       "          (1): BatchNorm2d(232, eps=1e-05, momentum=0.1, affine=True, track_running_stats=True)\n",
       "          (2): ReLU(inplace=True)\n",
       "          (3): Conv2d(232, 232, kernel_size=(3, 3), stride=(2, 2), padding=(1, 1), groups=232, bias=False)\n",
       "          (4): BatchNorm2d(232, eps=1e-05, momentum=0.1, affine=True, track_running_stats=True)\n",
       "          (5): Conv2d(232, 232, kernel_size=(1, 1), stride=(1, 1), bias=False)\n",
       "          (6): BatchNorm2d(232, eps=1e-05, momentum=0.1, affine=True, track_running_stats=True)\n",
       "          (7): ReLU(inplace=True)\n",
       "        )\n",
       "      )\n",
       "      (1): InvertedResidual(\n",
       "        (branch2): Sequential(\n",
       "          (0): Conv2d(232, 232, kernel_size=(1, 1), stride=(1, 1), bias=False)\n",
       "          (1): BatchNorm2d(232, eps=1e-05, momentum=0.1, affine=True, track_running_stats=True)\n",
       "          (2): ReLU(inplace=True)\n",
       "          (3): Conv2d(232, 232, kernel_size=(3, 3), stride=(1, 1), padding=(1, 1), groups=232, bias=False)\n",
       "          (4): BatchNorm2d(232, eps=1e-05, momentum=0.1, affine=True, track_running_stats=True)\n",
       "          (5): Conv2d(232, 232, kernel_size=(1, 1), stride=(1, 1), bias=False)\n",
       "          (6): BatchNorm2d(232, eps=1e-05, momentum=0.1, affine=True, track_running_stats=True)\n",
       "          (7): ReLU(inplace=True)\n",
       "        )\n",
       "      )\n",
       "      (2): InvertedResidual(\n",
       "        (branch2): Sequential(\n",
       "          (0): Conv2d(232, 232, kernel_size=(1, 1), stride=(1, 1), bias=False)\n",
       "          (1): BatchNorm2d(232, eps=1e-05, momentum=0.1, affine=True, track_running_stats=True)\n",
       "          (2): ReLU(inplace=True)\n",
       "          (3): Conv2d(232, 232, kernel_size=(3, 3), stride=(1, 1), padding=(1, 1), groups=232, bias=False)\n",
       "          (4): BatchNorm2d(232, eps=1e-05, momentum=0.1, affine=True, track_running_stats=True)\n",
       "          (5): Conv2d(232, 232, kernel_size=(1, 1), stride=(1, 1), bias=False)\n",
       "          (6): BatchNorm2d(232, eps=1e-05, momentum=0.1, affine=True, track_running_stats=True)\n",
       "          (7): ReLU(inplace=True)\n",
       "        )\n",
       "      )\n",
       "      (3): InvertedResidual(\n",
       "        (branch2): Sequential(\n",
       "          (0): Conv2d(232, 232, kernel_size=(1, 1), stride=(1, 1), bias=False)\n",
       "          (1): BatchNorm2d(232, eps=1e-05, momentum=0.1, affine=True, track_running_stats=True)\n",
       "          (2): ReLU(inplace=True)\n",
       "          (3): Conv2d(232, 232, kernel_size=(3, 3), stride=(1, 1), padding=(1, 1), groups=232, bias=False)\n",
       "          (4): BatchNorm2d(232, eps=1e-05, momentum=0.1, affine=True, track_running_stats=True)\n",
       "          (5): Conv2d(232, 232, kernel_size=(1, 1), stride=(1, 1), bias=False)\n",
       "          (6): BatchNorm2d(232, eps=1e-05, momentum=0.1, affine=True, track_running_stats=True)\n",
       "          (7): ReLU(inplace=True)\n",
       "        )\n",
       "      )\n",
       "    )\n",
       "    (conv5): Sequential(\n",
       "      (0): Conv2d(464, 1024, kernel_size=(1, 1), stride=(1, 1), bias=False)\n",
       "      (1): BatchNorm2d(1024, eps=1e-05, momentum=0.1, affine=True, track_running_stats=True)\n",
       "      (2): ReLU(inplace=True)\n",
       "    )\n",
       "    (fc): Linear(in_features=1024, out_features=3, bias=True)\n",
       "  )\n",
       ")"
      ]
     },
     "execution_count": 4,
     "metadata": {},
     "output_type": "execute_result"
    }
   ],
   "source": [
    "device = torch.device(\"cuda:0\")\n",
    "model = ShuffleNetv2(n_classes=3)\n",
    "# PATH_WEIGHTS = '/home/petryshak/CoronaryArteryPlaqueIdentification/experiments/exp2/models/'\n",
    "PATH_WEIGHTS = 'model_model_34_val_f1=0.9360136.pth'\n",
    "# model.load_state_dict(torch.load(PATH_WEIGHTS, map_location={'cuda:0': 'cpu'}))\n",
    "model.load_state_dict(torch.load(PATH_WEIGHTS))\n",
    "model.to(device)\n",
    "model.eval()"
   ]
  },
  {
   "cell_type": "code",
   "execution_count": 5,
   "metadata": {},
   "outputs": [],
   "source": [
    "# sum(p.numel() for p in model.parameters() if p.requires_grad)"
   ]
  },
  {
   "cell_type": "code",
   "execution_count": 6,
   "metadata": {},
   "outputs": [
    {
     "name": "stderr",
     "output_type": "stream",
     "text": [
      "760it [03:14,  3.90it/s]\n"
     ]
    }
   ],
   "source": [
    "predictions = [] \n",
    "\n",
    "for step, (x, y) in tqdm(enumerate(test_loader)):\n",
    "    x = x.to(device)\n",
    "    y = y.to(device)\n",
    "    output = model(x)\n",
    "    _, predicted = torch.max(output, 1)\n",
    "    predictions.extend(predicted.cpu().detach().numpy())"
   ]
  },
  {
   "cell_type": "code",
   "execution_count": 7,
   "metadata": {},
   "outputs": [
    {
     "data": {
      "text/plain": [
       "24300"
      ]
     },
     "execution_count": 7,
     "metadata": {},
     "output_type": "execute_result"
    }
   ],
   "source": [
    "len(predictions)"
   ]
  },
  {
   "cell_type": "code",
   "execution_count": 8,
   "metadata": {},
   "outputs": [],
   "source": [
    "p_test_df = pd.read_csv(\"/home/petryshak/CoronaryArteryPlaqueIdentification/data/all_branches_with_pda_plv/test/labels.csv\")\n",
    "\n",
    "p_test_df = p_test_df[p_test_df['MPR_VIEWPOINT_INDEX']%1 == 0].reset_index()\n",
    "p_test_df['PRED'] = pd.Series(predictions)\n",
    "p_test_df[\"STENOSIS_SCORE\"] = p_test_df[\"STENOSIS_SCORE\"].apply(literal_eval)\n",
    "p_test_df['PATIENT'] = p_test_df['IMG_PATH'].apply(lambda s: s.split('/')[1])\n",
    "mapper = {}\n",
    "for group, values in config['data']['groups'].items():\n",
    "    for value in values:\n",
    "        mapper[value] = group\n",
    "p_test_df[\"LABELS\"] = p_test_df[\"STENOSIS_SCORE\"].apply(lambda x: max([mapper[el] for el in x])).tolist()"
   ]
  },
  {
   "cell_type": "code",
   "execution_count": 9,
   "metadata": {},
   "outputs": [],
   "source": [
    "p_test_df.to_csv('WIMLsubmitted_predictions.csv', index=False)"
   ]
  },
  {
   "cell_type": "code",
   "execution_count": 2,
   "metadata": {},
   "outputs": [
    {
     "data": {
      "text/plain": [
       "(486, 9)"
      ]
     },
     "execution_count": 2,
     "metadata": {},
     "output_type": "execute_result"
    }
   ],
   "source": [
    "p_test_df = pd.read_csv('WIMLsubmitted_predictions.csv')\n",
    "df = p_test_df.iloc[::50, :]\n",
    "df.shape"
   ]
  },
  {
   "cell_type": "code",
   "execution_count": 3,
   "metadata": {},
   "outputs": [
    {
     "name": "stderr",
     "output_type": "stream",
     "text": [
      "/home/maria/cad/lib/python3.5/site-packages/ipykernel_launcher.py:1: SettingWithCopyWarning: \n",
      "A value is trying to be set on a copy of a slice from a DataFrame.\n",
      "Try using .loc[row_indexer,col_indexer] = value instead\n",
      "\n",
      "See the caveats in the documentation: http://pandas.pydata.org/pandas-docs/stable/indexing.html#indexing-view-versus-copy\n",
      "  \"\"\"Entry point for launching an IPython kernel.\n"
     ]
    }
   ],
   "source": [
    "df['STENOSIS'] = df['STENOSIS_SCORE'].apply(lambda x: str(x)[1:-1])"
   ]
  },
  {
   "cell_type": "markdown",
   "metadata": {},
   "source": [
    "## Visualize"
   ]
  },
  {
   "cell_type": "code",
   "execution_count": 7,
   "metadata": {},
   "outputs": [
    {
     "data": {
      "image/png": "[encoded data removed]",
      "text/plain": [
       "<Figure size 432x288 with 1 Axes>"
      ]
     },
     "metadata": {
      "needs_background": "light"
     },
     "output_type": "display_data"
    }
   ],
   "source": [
    "partition = 'test'\n",
    "p_data = '/home/petryshak/CoronaryArteryPlaqueIdentification/data/data_/all_branches_with_pda_plv/{}/'.format(partition)\n",
    "path_save = './result/'\n",
    "\n",
    "folder_imag = path_save  + '/imgs'\n",
    "folder_imag_correct =  path_save + 'correct'\n",
    "folder_imag_mistakes = path_save + 'mistakes'\n",
    "if not os.path.exists(folder_imag):\n",
    "    os.mkdir(folder_imag)\n",
    "if not os.path.exists(folder_imag_correct):\n",
    "    os.mkdir(folder_imag_correct)\n",
    "if not os.path.exists(folder_imag_mistakes):\n",
    "    os.mkdir(folder_imag_mistakes)\n",
    "\n",
    "for index,a in df.iterrows():\n",
    "    im_name = p_data + a['IMG_PATH']\n",
    "    img = cv2.imread(im_name)\n",
    "    plt.imshow(img)\n",
    "    \n",
    "    label_text = 'Label:       ' + str(a['LABELS']) + '  stenosis: ' + str(a['STENOSIS']) \n",
    "    pred_text = 'Prediction: ' + str(a['PRED']) \n",
    "    \n",
    "    font = cv2.FONT_HERSHEY_COMPLEX\n",
    "    new_img = copy.deepcopy(img)\n",
    "    cv2.putText(new_img, label_text,(30,470), font, 0.4,(255,255,255),1,cv2.LINE_AA)\n",
    "    cv2.putText(new_img, pred_text,(30,490), font, 0.4,(255,255,255),1,cv2.LINE_AA)\n",
    "    \n",
    "    if a['LABELS'] == a['PRED']:\n",
    "        cv2.imwrite( os.path.join(folder_imag_correct, str(index)+'.png'), new_img )\n",
    "    else:\n",
    "        cv2.imwrite( os.path.join(folder_imag_mistakes, str(index)+'.png'), new_img ) "
   ]
  },
  {
   "cell_type": "code",
   "execution_count": 202,
   "metadata": {},
   "outputs": [],
   "source": [
    "# dict_artery = {'LAD': ['D-1', 'D-2', 'LAD', 'D-3', '2D-2', 'D-1Original', 'LADOriginal', 'D-4'],\n",
    "#                    'LCX': ['LCX', 'OM-2', 'OM-1', 'OM-3', 'OM', 'LCX-PLB', 'LCX-PDA', 'PLV_LCX', 'PDA_LCX'],\n",
    "#                    'RCA': ['RCA', 'RCA-PLB', 'RCA-PDA', 'PLV_RCA']}\n",
    "    \n",
    "# p_test_df['artery'] = p_test_df['ARTERY_SECTION'].apply(lambda x: [k for k in dict_artery.keys() if x in dict_artery[k]][0])"
   ]
  },
  {
   "cell_type": "code",
   "execution_count": 11,
   "metadata": {},
   "outputs": [
    {
     "data": {
      "text/plain": [
       "ARTERY_SECTION\n",
       "D-1        4950\n",
       "D-2        2400\n",
       "D-3         150\n",
       "LAD        5250\n",
       "LCX        4150\n",
       "OM          100\n",
       "OM-1        750\n",
       "OM-2       1850\n",
       "OM-3        200\n",
       "PDA_LCX      50\n",
       "PLV_LCX      50\n",
       "PLV_RCA    4050\n",
       "RCA         350\n",
       "Name: LABELS, dtype: int64"
      ]
     },
     "execution_count": 11,
     "metadata": {},
     "output_type": "execute_result"
    }
   ],
   "source": [
    "p_test_df.groupby('ARTERY_SECTION').count().LABELS"
   ]
  },
  {
   "cell_type": "code",
   "execution_count": 12,
   "metadata": {},
   "outputs": [],
   "source": [
    "def calculate_metrics(col_section, col_ids, col_preds, col_labels):\n",
    "    \"\"\"\n",
    "    Calculate final auc and f1 metrics on three levels: per patient, per section and per artery\n",
    "    :return: {dict} each metric as a key and its calculated metric as a value\n",
    "    \"\"\"\n",
    "    assert len(col_section) == len(col_ids) == len(col_preds) == len(col_labels)\n",
    "\n",
    "    metrics = {'ACC_section': 0, 'ACC_patient': 0, 'ACC_artery': 0, 'F1_section': 0, 'F1_patient': 0, 'F1_artery': 0}\n",
    "    dict_artery = {'LAD': ['D-1', 'D-2', 'LAD', 'D-3', '2D-2', 'D-1Original', 'LADOriginal', 'D-4'],\n",
    "                   'LCX': ['LCX', 'OM-2', 'OM-1', 'OM-3', 'OM', 'LCX-PLB', 'LCX-PDA', 'PLV_LCX', 'PDA_LCX'],\n",
    "                   'RCA': ['RCA', 'RCA-PLB', 'RCA-PDA', 'PLV_RCA']}\n",
    "    \n",
    "    df = pd.concat([col_ids, col_section, col_preds, col_labels], axis=1)\n",
    "    df = df.rename(columns={col_section.name: 'section', col_ids.name: 'patient', col_preds.name:\n",
    "        'preds', col_labels.name: 'labels'})\n",
    "    df['artery'] = df['section'].apply(lambda x: [k for k in dict_artery.keys() if x in dict_artery[k]][0])\n",
    "\n",
    "    # SECTION\n",
    "    section_labels =  df[['preds', 'labels','section', 'artery','patient']].groupby(['patient', 'section']).agg(lambda x: max(x))\n",
    "    preds_section = df[['preds', 'labels','section','artery', 'patient']].groupby(['patient', 'section']).agg(lambda x: x.value_counts().index[0])\n",
    "    acc = accuracy_score(preds_section['preds'], section_labels['labels'])\n",
    "    f1 = f1_score(preds_section['preds'], section_labels['labels'], average='weighted')\n",
    "    metrics['ACC_section'], metrics['F1_section'] = acc, f1\n",
    "\n",
    "    # ARTERY\n",
    "    sect = section_labels.reset_index()\n",
    "    artery_labels = sect.groupby(['patient', 'artery']).agg(lambda x: max(x))['labels']\n",
    "    preds_artery = preds_section.reset_index().groupby(['patient', 'artery']).agg(lambda x: max(x) )['preds'] #x.value_counts().index[0])['preds']\n",
    "    acc = accuracy_score(preds_artery, artery_labels)\n",
    "    f1 = f1_score(preds_artery, artery_labels, average='weighted')\n",
    "    metrics['ACC_artery'], metrics['F1_artery'] = acc, f1\n",
    "    \n",
    "    # PATIENT\n",
    "    art = artery_labels.reset_index()\n",
    "    patient_labels = art.groupby(['patient']).agg(lambda x: max(x))['labels']    \n",
    "#     print(preds_artery.reset_index())\n",
    "    preds_patient = preds_artery.reset_index().groupby(['patient']).agg(lambda x: max(x) )['preds'] #x.value_counts().index[0])['preds']\n",
    "    acc = accuracy_score(preds_patient, patient_labels)\n",
    "    f1 = f1_score(preds_patient, patient_labels, average='weighted')\n",
    "    metrics['ACC_patient'], metrics['F1_patient'] = acc, f1\n",
    "    \n",
    "    return metrics\n"
   ]
  },
  {
   "cell_type": "code",
   "execution_count": 205,
   "metadata": {},
   "outputs": [
    {
     "data": {
      "text/plain": [
       "{'ACC_artery': 0.7922535211267606,\n",
       " 'ACC_patient': 0.7428571428571429,\n",
       " 'ACC_section': 0.7921810699588477,\n",
       " 'F1_artery': 0.7931451906248129,\n",
       " 'F1_patient': 0.7407340485601355,\n",
       " 'F1_section': 0.7906829687520956}"
      ]
     },
     "execution_count": 205,
     "metadata": {},
     "output_type": "execute_result"
    }
   ],
   "source": [
    "\"\"\"OHEM: RECALL model_model_8_val_recall=0.551746.pth\"\"\"\n",
    "calculate_metrics(p_test_df['ARTERY_SECTION'], p_test_df['PATIENT'], p_test_df['PRED'], p_test_df['LABELS'])"
   ]
  },
  {
   "cell_type": "code",
   "execution_count": 197,
   "metadata": {},
   "outputs": [
    {
     "data": {
      "text/plain": [
       "{'ACC_artery': 0.7852112676056338,\n",
       " 'ACC_patient': 0.7428571428571429,\n",
       " 'ACC_section': 0.8045267489711934,\n",
       " 'F1_artery': 0.790260757262212,\n",
       " 'F1_patient': 0.7443554028566115,\n",
       " 'F1_section': 0.8111830846183204}"
      ]
     },
     "execution_count": 197,
     "metadata": {},
     "output_type": "execute_result"
    }
   ],
   "source": [
    "\"\"\"new_result_cross_entropy.pth\"\"\"\n",
    "calculate_metrics(p_test_df['ARTERY_SECTION'], p_test_df['PATIENT'], p_test_df['PRED'], p_test_df['LABELS'])"
   ]
  },
  {
   "cell_type": "code",
   "execution_count": 179,
   "metadata": {},
   "outputs": [
    {
     "data": {
      "text/plain": [
       "{'ACC_artery': 0.7887323943661971,\n",
       " 'ACC_patient': 0.7428571428571429,\n",
       " 'ACC_section': 0.8065843621399177,\n",
       " 'F1_artery': 0.7905444945404247,\n",
       " 'F1_patient': 0.741420715969027,\n",
       " 'F1_section': 0.809236972038155}"
      ]
     },
     "execution_count": 179,
     "metadata": {},
     "output_type": "execute_result"
    }
   ],
   "source": [
    "\"\"\"CrossEntropy: RECALL model_model_3_val_recall=0.568254\"\"\"\n",
    "calculate_metrics(p_test_df['ARTERY_SECTION'], p_test_df['PATIENT'], p_test_df['PRED'], p_test_df['LABELS'])"
   ]
  },
  {
   "cell_type": "code",
   "execution_count": 172,
   "metadata": {},
   "outputs": [
    {
     "data": {
      "text/plain": [
       "{'ACC_artery': 0.721830985915493,\n",
       " 'ACC_patient': 0.6,\n",
       " 'ACC_section': 0.7304526748971193,\n",
       " 'F1_artery': 0.7116879867839019,\n",
       " 'F1_patient': 0.634249684741488,\n",
       " 'F1_section': 0.7192057923947303}"
      ]
     },
     "execution_count": 172,
     "metadata": {},
     "output_type": "execute_result"
    }
   ],
   "source": [
    "\"\"\"OHEM: RECALL model_model_3_val_recall=0.568254\"\"\"\n",
    "calculate_metrics(p_test_df['ARTERY_SECTION'], p_test_df['PATIENT'], p_test_df['PRED'], p_test_df['LABELS'])"
   ]
  },
  {
   "cell_type": "code",
   "execution_count": 166,
   "metadata": {},
   "outputs": [
    {
     "data": {
      "text/plain": [
       "{'ACC_artery': 0.7676056338028169,\n",
       " 'ACC_patient': 0.7047619047619048,\n",
       " 'ACC_section': 0.7654320987654321,\n",
       " 'F1_artery': 0.765664176773691,\n",
       " 'F1_patient': 0.7021960896097714,\n",
       " 'F1_section': 0.7625994556523691}"
      ]
     },
     "execution_count": 166,
     "metadata": {},
     "output_type": "execute_result"
    }
   ],
   "source": [
    "\"\"\"model_model_5_val_recall=0.5493651.pth\"\"\"\n",
    "calculate_metrics(p_test_df['ARTERY_SECTION'], p_test_df['PATIENT'], p_test_df['PRED'], p_test_df['LABELS'])"
   ]
  },
  {
   "cell_type": "code",
   "execution_count": 160,
   "metadata": {},
   "outputs": [
    {
     "data": {
      "text/plain": [
       "{'ACC_artery': 0.7640845070422535,\n",
       " 'ACC_patient': 0.6761904761904762,\n",
       " 'ACC_section': 0.7613168724279835,\n",
       " 'F1_artery': 0.7643554265609628,\n",
       " 'F1_patient': 0.67910592808552,\n",
       " 'F1_section': 0.7604900955788793}"
      ]
     },
     "execution_count": 160,
     "metadata": {},
     "output_type": "execute_result"
    }
   ],
   "source": [
    "\"\"\"OHEM: RECALL model_model_4_val_recall=0.5263492.pth\"\"\"\n",
    "calculate_metrics(p_test_df['ARTERY_SECTION'], p_test_df['PATIENT'], p_test_df['PRED'], p_test_df['LABELS'])"
   ]
  },
  {
   "cell_type": "code",
   "execution_count": 151,
   "metadata": {},
   "outputs": [
    {
     "data": {
      "text/plain": [
       "{'ACC_artery': 0.8169014084507042,\n",
       " 'ACC_patient': 0.7904761904761904,\n",
       " 'ACC_section': 0.808641975308642,\n",
       " 'F1_artery': 0.819036436847041,\n",
       " 'F1_patient': 0.7897633598646553,\n",
       " 'F1_section': 0.8119016363789144}"
      ]
     },
     "execution_count": 151,
     "metadata": {},
     "output_type": "execute_result"
    }
   ],
   "source": [
    "\"\"\"model_model_34_val_f1=0.9360136.pth\"\"\"\n",
    "calculate_metrics(p_test_df['ARTERY_SECTION'], p_test_df['PATIENT'], p_test_df['PRED'], p_test_df['LABELS'])"
   ]
  },
  {
   "cell_type": "code",
   "execution_count": 13,
   "metadata": {},
   "outputs": [
    {
     "data": {
      "text/plain": [
       "{'ACC_artery': 0.8133802816901409,\n",
       " 'ACC_patient': 0.8,\n",
       " 'ACC_section': 0.8127572016460906,\n",
       " 'F1_artery': 0.8165002306466748,\n",
       " 'F1_patient': 0.7985063149683836,\n",
       " 'F1_section': 0.8168061694121129}"
      ]
     },
     "execution_count": 13,
     "metadata": {},
     "output_type": "execute_result"
    }
   ],
   "source": [
    "\"\"\"model_model_34_val_f1=0.9360136.pth  ||| FOR EVERY IMAGE\"\"\"  \n",
    "calculate_metrics(p_test_df['ARTERY_SECTION'], p_test_df['PATIENT'], p_test_df['PRED'], p_test_df['LABELS'])"
   ]
  },
  {
   "cell_type": "code",
   "execution_count": 145,
   "metadata": {},
   "outputs": [
    {
     "data": {
      "text/plain": [
       "{'ACC_artery': 0.795774647887324,\n",
       " 'ACC_patient': 0.7523809523809524,\n",
       " 'ACC_section': 0.7983539094650206,\n",
       " 'F1_artery': 0.7985533463694142,\n",
       " 'F1_patient': 0.7518179864795623,\n",
       " 'F1_section': 0.8018839170790958}"
      ]
     },
     "execution_count": 145,
     "metadata": {},
     "output_type": "execute_result"
    }
   ],
   "source": [
    "\"\"\"model_model_55_val_recall=0.9719569.pth\"\"\"`\n",
    "calculate_metrics(p_test_df['ARTERY_SECTION'], p_test_df['PATIENT'], p_test_df['PRED'], p_test_df['LABELS'])"
   ]
  },
  {
   "cell_type": "code",
   "execution_count": 122,
   "metadata": {
    "scrolled": false
   },
   "outputs": [
    {
     "data": {
      "text/plain": [
       "{'ACC_artery': 0.8169014084507042,\n",
       " 'ACC_patient': 0.7904761904761904,\n",
       " 'ACC_section': 0.808641975308642,\n",
       " 'F1_artery': 0.819036436847041,\n",
       " 'F1_patient': 0.7897633598646553,\n",
       " 'F1_section': 0.8119016363789144}"
      ]
     },
     "execution_count": 122,
     "metadata": {},
     "output_type": "execute_result"
    }
   ],
   "source": [
    "\"\"\"model_model_22_val_recall=0.9540059.pth\"\"\"\n",
    "calculate_metrics(p_test_df['ARTERY_SECTION'], p_test_df['PATIENT'], p_test_df['PRED'], p_test_df['LABELS'])"
   ]
  },
  {
   "cell_type": "code",
   "execution_count": 26,
   "metadata": {},
   "outputs": [
    {
     "data": {
      "text/plain": [
       "{'ACC_artery': 0.8063380281690141,\n",
       " 'ACC_patient': 0.7904761904761904,\n",
       " 'ACC_section': 0.7921810699588477,\n",
       " 'F1_artery': 0.8134732319013579,\n",
       " 'F1_patient': 0.8037101300259195,\n",
       " 'F1_section': 0.7906627269839427}"
      ]
     },
     "execution_count": 26,
     "metadata": {},
     "output_type": "execute_result"
    }
   ],
   "source": [
    "\"\"\"model_model_22_val_recall=0.9540059.pth\"\"\"\n",
    "calculate_metrics(p_test_df['ARTERY_SECTION'], p_test_df['PATIENT'], p_test_df['PRED'], p_test_df['LABELS'])"
   ]
  },
  {
   "cell_type": "code",
   "execution_count": 18,
   "metadata": {},
   "outputs": [
    {
     "data": {
      "text/plain": [
       "{'ACC_artery': 0.8063380281690141,\n",
       " 'ACC_patient': 0.7904761904761904,\n",
       " 'ACC_section': 0.7921810699588477,\n",
       " 'F1_artery': 0.8134732319013579,\n",
       " 'F1_patient': 0.8037101300259195,\n",
       " 'F1_section': 0.7906627269839427}"
      ]
     },
     "execution_count": 18,
     "metadata": {},
     "output_type": "execute_result"
    }
   ],
   "source": [
    "\"\"\"model_model_22_val_loss=0.1947409.pth\"\"\"\n",
    "calculate_metrics(p_test_df['ARTERY_SECTION'], p_test_df['PATIENT'], p_test_df['PRED'], p_test_df['LABELS'])"
   ]
  },
  {
   "cell_type": "code",
   "execution_count": 10,
   "metadata": {},
   "outputs": [
    {
     "data": {
      "text/plain": [
       "{'ACC_artery': 0.8063380281690141,\n",
       " 'ACC_patient': 0.7904761904761904,\n",
       " 'ACC_section': 0.7921810699588477,\n",
       " 'F1_artery': 0.8134732319013579,\n",
       " 'F1_patient': 0.8037101300259195,\n",
       " 'F1_section': 0.7906627269839427}"
      ]
     },
     "execution_count": 10,
     "metadata": {},
     "output_type": "execute_result"
    }
   ],
   "source": [
    "\"\"\"model_model_22_val_f1=0.9197989.pth\"\"\"\n",
    "calculate_metrics(p_test_df['ARTERY_SECTION'], p_test_df['PATIENT'], p_test_df['PRED'], p_test_df['LABELS'])"
   ]
  },
  {
   "cell_type": "code",
   "execution_count": 18,
   "metadata": {},
   "outputs": [
    {
     "data": {
      "text/plain": [
       "{'ACC_artery': 0.7676056338028169,\n",
       " 'ACC_patient': 0.780952380952381,\n",
       " 'ACC_section': 0.8045267489711934,\n",
       " 'F1_artery': 0.7870589395452511,\n",
       " 'F1_patient': 0.8049199477770905,\n",
       " 'F1_section': 0.8111830846183204}"
      ]
     },
     "execution_count": 18,
     "metadata": {},
     "output_type": "execute_result"
    }
   ],
   "source": [
    "calculate_metrics(p_test_df['ARTERY_SECTION'], p_test_df['PATIENT'], p_test_df['PRED'], p_test_df['LABELS'])"
   ]
  },
  {
   "cell_type": "code",
   "execution_count": 31,
   "metadata": {
    "scrolled": false
   },
   "outputs": [
    {
     "data": {
      "text/plain": [
       "{'ACC_artery': 0.7535211267605634,\n",
       " 'ACC_patient': 0.8,\n",
       " 'ACC_section': 0.7777777777777778,\n",
       " 'F1_artery': 0.7642437374831741,\n",
       " 'F1_patient': 0.8120863086148641,\n",
       " 'F1_section': 0.7786485076379231}"
      ]
     },
     "execution_count": 31,
     "metadata": {},
     "output_type": "execute_result"
    }
   ],
   "source": [
    "calculate_metrics(p_test_df['ARTERY_SECTION'], p_test_df['PATIENT'], p_test_df['PRED'], p_test_df['LABELS'])"
   ]
  },
  {
   "cell_type": "code",
   "execution_count": 33,
   "metadata": {},
   "outputs": [
    {
     "data": {
      "text/plain": [
       "ARTERY_SECTION  LABELS\n",
       "D-1             0         1120\n",
       "                1          336\n",
       "                2          128\n",
       "D-2             0          608\n",
       "                1          112\n",
       "                2           48\n",
       "D-3             0           48\n",
       "LAD             0          640\n",
       "                1          752\n",
       "                2          288\n",
       "LCX             0          912\n",
       "                1          352\n",
       "                2           64\n",
       "OM              1           16\n",
       "                2           16\n",
       "OM-1            0          240\n",
       "OM-2            0          512\n",
       "                1           64\n",
       "                2           16\n",
       "OM-3            0           64\n",
       "PDA_LCX         0           16\n",
       "PLV_LCX         0           16\n",
       "PLV_RCA         0         1104\n",
       "                1          144\n",
       "                2           48\n",
       "RCA             0           96\n",
       "                1           16\n",
       "Name: index, dtype: int64"
      ]
     },
     "execution_count": 33,
     "metadata": {},
     "output_type": "execute_result"
    }
   ],
   "source": [
    "p_test_df.groupby(['ARTERY_SECTION', 'LABELS']).count()['index']"
   ]
  },
  {
   "cell_type": "markdown",
   "metadata": {},
   "source": [
    "## Group and analyze predictions"
   ]
  },
  {
   "cell_type": "code",
   "execution_count": 34,
   "metadata": {},
   "outputs": [
    {
     "name": "stdout",
     "output_type": "stream",
     "text": [
      "ARTERY SEGMENT: D-2\n",
      "{'F1_patient': 0.7835022522522522, 'ACC_section': 0.7916666666666666, 'F1_section': 0.7835022522522522, 'ACC_patient': 0.7916666666666666, 'F1_artery': 0.7835022522522522, 'ACC_artery': 0.7916666666666666}\n",
      "\n",
      "ARTERY SEGMENT: PLV_RCA\n"
     ]
    },
    {
     "name": "stderr",
     "output_type": "stream",
     "text": [
      "/home/maria/cad/lib/python3.5/site-packages/sklearn/metrics/classification.py:1439: UndefinedMetricWarning: F-score is ill-defined and being set to 0.0 in labels with no true samples.\n",
      "  'recall', 'true', average, warn_for)\n"
     ]
    },
    {
     "name": "stdout",
     "output_type": "stream",
     "text": [
      "{'F1_patient': 0.8789102385593613, 'ACC_section': 0.8641975308641975, 'F1_section': 0.8789102385593613, 'ACC_patient': 0.8641975308641975, 'F1_artery': 0.8789102385593613, 'ACC_artery': 0.8641975308641975}\n",
      "\n",
      "ARTERY SEGMENT: LCX\n",
      "{'F1_patient': 0.7490155744930943, 'ACC_section': 0.7349397590361446, 'F1_section': 0.7490155744930943, 'ACC_patient': 0.7349397590361446, 'F1_artery': 0.7490155744930943, 'ACC_artery': 0.7349397590361446}\n",
      "\n",
      "ARTERY SEGMENT: D-1\n",
      "{'F1_patient': 0.7588733105974484, 'ACC_section': 0.7474747474747475, 'F1_section': 0.7588733105974484, 'ACC_patient': 0.7474747474747475, 'F1_artery': 0.7588733105974484, 'ACC_artery': 0.7474747474747475}\n",
      "\n",
      "ARTERY SEGMENT: LAD\n",
      "{'F1_patient': 0.704347065512114, 'ACC_section': 0.7047619047619048, 'F1_section': 0.704347065512114, 'ACC_patient': 0.7047619047619048, 'F1_artery': 0.704347065512114, 'ACC_artery': 0.7047619047619048}\n",
      "\n",
      "ARTERY SEGMENT: OM-2\n",
      "{'F1_patient': 0.8355393516683839, 'ACC_section': 0.8378378378378378, 'F1_section': 0.8355393516683839, 'ACC_patient': 0.8378378378378378, 'F1_artery': 0.8355393516683839, 'ACC_artery': 0.8378378378378378}\n",
      "\n",
      "ARTERY SEGMENT: RCA\n",
      "{'F1_patient': 1.0, 'ACC_section': 1.0, 'F1_section': 1.0, 'ACC_patient': 1.0, 'F1_artery': 1.0, 'ACC_artery': 1.0}\n",
      "\n",
      "ARTERY SEGMENT: PLV_LCX\n",
      "{'F1_patient': 1.0, 'ACC_section': 1.0, 'F1_section': 1.0, 'ACC_patient': 1.0, 'F1_artery': 1.0, 'ACC_artery': 1.0}\n",
      "\n",
      "ARTERY SEGMENT: OM-3\n",
      "{'F1_patient': 0.6428571428571428, 'ACC_section': 0.75, 'F1_section': 0.6428571428571428, 'ACC_patient': 0.75, 'F1_artery': 0.6428571428571428, 'ACC_artery': 0.75}\n",
      "\n",
      "ARTERY SEGMENT: PDA_LCX\n",
      "{'F1_patient': 1.0, 'ACC_section': 1.0, 'F1_section': 1.0, 'ACC_patient': 1.0, 'F1_artery': 1.0, 'ACC_artery': 1.0}\n",
      "\n",
      "ARTERY SEGMENT: OM-1\n",
      "{'F1_patient': 0.9011494252873563, 'ACC_section': 0.9333333333333333, 'F1_section': 0.9011494252873563, 'ACC_patient': 0.9333333333333333, 'F1_artery': 0.9011494252873563, 'ACC_artery': 0.9333333333333333}\n",
      "\n",
      "ARTERY SEGMENT: OM\n",
      "{'F1_patient': 0.6666666666666666, 'ACC_section': 0.5, 'F1_section': 0.6666666666666666, 'ACC_patient': 0.5, 'F1_artery': 0.6666666666666666, 'ACC_artery': 0.5}\n",
      "\n",
      "ARTERY SEGMENT: D-3\n",
      "{'F1_patient': 1.0, 'ACC_section': 1.0, 'F1_section': 1.0, 'ACC_patient': 1.0, 'F1_artery': 1.0, 'ACC_artery': 1.0}\n",
      "\n"
     ]
    },
    {
     "name": "stderr",
     "output_type": "stream",
     "text": [
      "/home/maria/cad/lib/python3.5/site-packages/sklearn/metrics/classification.py:1437: UndefinedMetricWarning: F-score is ill-defined and being set to 0.0 in labels with no predicted samples.\n",
      "  'precision', 'predicted', average, warn_for)\n"
     ]
    }
   ],
   "source": [
    "for segm in p_test_df['ARTERY_SECTION'].unique():\n",
    "    print('ARTERY SEGMENT: {}'.format(segm))\n",
    "    df = p_test_df[p_test_df['ARTERY_SECTION']==segm]\n",
    "    rec_dict = calculate_metrics(df['ARTERY_SECTION'], df['PATIENT'], df['PRED'], df['LABELS'])\n",
    "    print(rec_dict)\n",
    "    print()"
   ]
  },
  {
   "cell_type": "code",
   "execution_count": null,
   "metadata": {},
   "outputs": [],
   "source": []
  }
 ],
 "metadata": {
  "kernelspec": {
   "display_name": "Python 2",
   "language": "python",
   "name": "python2"
  },
  "language_info": {
   "codemirror_mode": {
    "name": "ipython",
    "version": 2
   },
   "file_extension": ".py",
   "mimetype": "text/x-python",
   "name": "python",
   "nbconvert_exporter": "python",
   "pygments_lexer": "ipython2",
   "version": "2.7.12"
  }
 },
 "nbformat": 4,
 "nbformat_minor": 2
}
