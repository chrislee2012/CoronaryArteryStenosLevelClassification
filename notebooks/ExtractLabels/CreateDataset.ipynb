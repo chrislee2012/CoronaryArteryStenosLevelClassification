{
 "cells": [
  {
   "cell_type": "code",
   "execution_count": 1,
   "metadata": {},
   "outputs": [],
   "source": [
    "import pandas as pd\n",
    "import os\n",
    "from tqdm import tqdm\n",
    "import re\n",
    "from numpy import nan as Nan\n",
    "import pydicom as dicom\n",
    "import cv2\n",
    "import shutil\n",
    "import numpy as np"
   ]
  },
  {
   "cell_type": "code",
   "execution_count": 2,
   "metadata": {},
   "outputs": [],
   "source": [
    "\n",
    "p_all = '/home/marichka/Documents/CardioVision/'\n",
    "p_mpr = p_all + 'ONLY_MPR/'\n",
    "p_lad = p_all + 'ONLY_LAD/' \n",
    "p_lcx = p_all + 'ONLY_LCX/'   # empty_folder, not necessarily should exist, will be created\n",
    "p_rca = p_all + 'ONLY_RCA/'   # empty_folder, not necessarily should exist, will be created"
   ]
  },
  {
   "cell_type": "code",
   "execution_count": 9,
   "metadata": {},
   "outputs": [],
   "source": [
    "# GENERATED LABELS TABLES\n",
    "reports_lcx = pd.read_excel('lcx_labels_titlesreports.xlsx')\n",
    "reports_rca = pd.read_excel('rca_labels_titlesreports.xlsx')"
   ]
  },
  {
   "cell_type": "code",
   "execution_count": 4,
   "metadata": {},
   "outputs": [],
   "source": [
    "# CREATE DIRECTORIES FOR PATIENTS LCX data\n",
    "if not os.path.exists(p_lcx):\n",
    "    os.mkdir(p_lcx)\n",
    "for patient in reports_lcx['PATIENT_ID'].values:\n",
    "    if not os.path.exists(p_lcx+patient):\n",
    "        os.mkdir(p_lcx+patient)\n",
    "\n",
    "# CREATE DIRECTORIES FOR PATIENTS PCA data\n",
    "if not os.path.exists(p_rca):\n",
    "    os.mkdir(p_rca)\n",
    "for patient in reports_rca['PATIENT_ID'].values:\n",
    "    if not os.path.exists(p_rca+patient):\n",
    "        os.mkdir(p_rca+patient)"
   ]
  },
  {
   "cell_type": "code",
   "execution_count": 5,
   "metadata": {},
   "outputs": [
    {
     "data": {
      "text/plain": [
       "(743, 720, 653)"
      ]
     },
     "execution_count": 5,
     "metadata": {},
     "output_type": "execute_result"
    }
   ],
   "source": [
    "folders_ids = os.listdir(p_mpr)\n",
    "folders_ids = [x.split(' ')[1] for x in folders_ids]\n",
    "folders_ids_lad = os.listdir(p_lad)\n",
    "len(folders_ids), len(folders_ids_lad), len(np.intersect1d(reports_lcx['REPORT_ID'], folders_ids))"
   ]
  },
  {
   "cell_type": "code",
   "execution_count": 6,
   "metadata": {},
   "outputs": [],
   "source": [
    "def split_mpr_name(mpr_name):\n",
    "    return \\\n",
    "        \"\".join(mpr_name.split()).replace('*', '').replace('original', '') \\\n",
    "        .replace('LIMA-', '').replace('Branchof','').replace('TOPDA', '').replace('PDATO', '')\n",
    "\n",
    "\n",
    "def get_patient_dictionary(path_to_patient_folder):\n",
    "    \"\"\"\n",
    "    \n",
    "    Returns dict of different types of images in the folder of patient. \n",
    "    \n",
    "    Returns:\n",
    "        dict: key - type of images; value - list of DICOM files, which sorted in the ascending order with restepct to the\n",
    "                    depth of the image slice.\n",
    "    \"\"\"\n",
    "    patient_dict = {}\n",
    "    \n",
    "    dicom_file_names = os.listdir(path_to_patient_folder)\n",
    "    \n",
    "    for i in range(len(dicom_file_names)):\n",
    "        cur_dicom_obj = dicom.dcmread(os.path.join(path_to_patient_folder, dicom_file_names[i]))\n",
    "\n",
    "        if cur_dicom_obj.SeriesDescription not in patient_dict.keys():\n",
    "            patient_dict[cur_dicom_obj.SeriesDescription] = []\n",
    "        patient_dict[cur_dicom_obj.SeriesDescription].append(cur_dicom_obj)\n",
    "        \n",
    "    # sort each type of images with respect to their depth in ascending order\n",
    "    for i in patient_dict:\n",
    "        patient_dict[i].sort(key=lambda x: x.InstanceNumber)\n",
    "    \n",
    "    return patient_dict"
   ]
  },
  {
   "cell_type": "markdown",
   "metadata": {},
   "source": [
    "## CREATE LCX DATASET"
   ]
  },
  {
   "cell_type": "code",
   "execution_count": 20,
   "metadata": {},
   "outputs": [],
   "source": [
    "possible_labels = ['PROXIMAL', 'DISTAL', 'OM', 'OM1', 'OM2', 'OM3'] #, 'PDA', 'PLV']\n",
    "skip_counter = 0\n",
    "\n",
    "for index, row in tqdm(reports_lcx.iterrows()):\n",
    "    labels_dict = {}\n",
    "    patient = row['PATIENT_ID']\n",
    "    mpr_patients = os.listdir(p_mpr)\n",
    "    try:\n",
    "        mpr_path_patient = p_mpr + [s for s in mpr_patients if patient in s][0]\n",
    "    except:\n",
    "        continue   # no according mpr folder\n",
    "    \n",
    "    # RETRIEVING LABELS\n",
    "    for pos_label in possible_labels:\n",
    "        if row[pos_label] != '-':\n",
    "            annotation = row[pos_label]\n",
    "            annotation = 0 if 'normal' in annotation.lower() else 1\n",
    "            labels_dict[pos_label] = annotation\n",
    "    \n",
    "    # MPR IMAGES\n",
    "    patient_dictionary = get_patient_dictionary(mpr_path_patient)\n",
    "    dict_keys = list(patient_dictionary.keys())\n",
    "\n",
    "    for key_element in dict_keys:\n",
    "        patient_dictionary[split_mpr_name(key_element).replace('LCX-', '').replace('X','X-').replace('CX-', 'CX')]= patient_dictionary[key_element]\n",
    "        del patient_dictionary[key_element]\n",
    "            \n",
    "    labels_dict['LCX'] = 1 if row['PROXIMAL'] != 'NORMAL' or row['DISTAL'] != 'NORMAL' else 0 \n",
    "\n",
    "    for k in labels_dict.keys():\n",
    "        try:\n",
    "            for dicom_file in patient_dictionary[k]:\n",
    "                path_to_label = os.path.join(p_lcx + patient, k)\n",
    "\n",
    "                if not os.path.exists(path_to_label):\n",
    "                    os.mkdir(path_to_label)\n",
    "                cv2.imwrite(os.path.join(path_to_label, \n",
    "                                                patient+'_'+str(dicom_file.InstanceNumber)+'_label'+str(labels_dict[k])+\n",
    "                                         '.png'),\n",
    "                            cv2.normalize(dicom_file.pixel_array, None, alpha = 0, \n",
    "                                          beta = 255, norm_type = cv2.NORM_MINMAX, dtype = cv2.CV_32F)\n",
    "                           )\n",
    "        except:\n",
    "            skip_counter += 1\n",
    "            "
   ]
  },
  {
   "cell_type": "markdown",
   "metadata": {},
   "source": [
    "## CREATE RCA DATASET"
   ]
  },
  {
   "cell_type": "code",
   "execution_count": 13,
   "metadata": {},
   "outputs": [],
   "source": [
    "possible_labels = ['PROXIMAL', 'DISTAL', 'MID', ]   # 'PDA', 'PLV']\n",
    "skip_counter_rca = 0\n",
    "\n",
    "for index, row in tqdm(reports_rca.iterrows()):\n",
    "    labels_dict = {}\n",
    "    patient = row['PATIENT_ID']\n",
    "    mpr_patients = os.listdir(p_mpr)\n",
    "    try:\n",
    "        mpr_path_patient = p_mpr + [s for s in mpr_patients if patient in s][0]\n",
    "    except:\n",
    "        continue   # no according mpr folder\n",
    "\n",
    "    # RETRIEVING LABELS FOR BINARY CLASSIFICATION\n",
    "    for pos_label in possible_labels:\n",
    "        if row[pos_label] != '-':\n",
    "            annotation = row[pos_label]\n",
    "            annotation = 0 if 'normal' in annotation.lower() else 1\n",
    "            labels_dict[pos_label] = annotation\n",
    "    \n",
    "    # MPR IMAGES\n",
    "    patient_dictionary = get_patient_dictionary(mpr_path_patient)\n",
    "    dict_keys = list(patient_dictionary.keys())\n",
    "\n",
    "    for key_element in dict_keys:\n",
    "        patient_dictionary[split_mpr_name(key_element).replace('RCA-', '').replace('A','A-').replace('CA-', 'CA')]= patient_dictionary[key_element]\n",
    "        del patient_dictionary[key_element]\n",
    "\n",
    "    labels_dict['RCA'] = 1 if row['PROXIMAL'] != 'NORMAL' or row['DISTAL'] != 'NORMAL' or  row['MID'] != 'NORMAL' else 0 \n",
    "\n",
    "    for k in labels_dict.keys():\n",
    "        try:\n",
    "            for dicom_file in patient_dictionary[k]:\n",
    "                path_to_label = os.path.join(p_rca + patient, k)\n",
    "                if not os.path.exists(path_to_label):\n",
    "                    os.mkdir(path_to_label)\n",
    "                cv2.imwrite(os.path.join(path_to_label, \n",
    "                                                patient+'_'+str(dicom_file.InstanceNumber)+'_label'+str(labels_dict[k])+\n",
    "                                         '.png'),\n",
    "                            cv2.normalize(dicom_file.pixel_array, None, alpha = 0, \n",
    "                                          beta = 255, norm_type = cv2.NORM_MINMAX, dtype = cv2.CV_32F)\n",
    "                           )\n",
    "        except:\n",
    "            skip_counter_rca += 1"
   ]
  },
  {
   "cell_type": "code",
   "execution_count": null,
   "metadata": {},
   "outputs": [],
   "source": []
  }
 ],
 "metadata": {
  "kernelspec": {
   "display_name": "Python 3",
   "language": "python",
   "name": "python3"
  },
  "language_info": {
   "codemirror_mode": {
    "name": "ipython",
    "version": 3
   },
   "file_extension": ".py",
   "mimetype": "text/x-python",
   "name": "python",
   "nbconvert_exporter": "python",
   "pygments_lexer": "ipython3",
   "version": "3.7.3"
  },
  "pycharm": {
   "stem_cell": {
    "cell_type": "raw",
    "source": [],
    "metadata": {
     "collapsed": false
    }
   }
  }
 },
 "nbformat": 4,
 "nbformat_minor": 2
}