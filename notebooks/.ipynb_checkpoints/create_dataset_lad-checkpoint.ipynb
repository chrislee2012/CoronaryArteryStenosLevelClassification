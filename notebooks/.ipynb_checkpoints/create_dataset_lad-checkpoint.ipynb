{
 "cells": [
  {
   "cell_type": "code",
   "execution_count": 1,
   "metadata": {},
   "outputs": [],
   "source": [
    "import pandas as pd\n",
    "import os\n",
    "from tqdm import tqdm\n",
    "import re\n",
    "from numpy import nan as Nan\n",
    "import pydicom as dicom\n",
    "import cv2\n",
    "import shutil\n"
   ]
  },
  {
   "cell_type": "code",
   "execution_count": 2,
   "metadata": {},
   "outputs": [],
   "source": [
    "reports = pd.read_excel(r'D:\\coronaryProject\\notebooks\\lad_reports.xlsx')"
   ]
  },
  {
   "cell_type": "code",
   "execution_count": 3,
   "metadata": {},
   "outputs": [
    {
     "data": {
      "text/html": [
       "<div>\n",
       "<style scoped>\n",
       "    .dataframe tbody tr th:only-of-type {\n",
       "        vertical-align: middle;\n",
       "    }\n",
       "\n",
       "    .dataframe tbody tr th {\n",
       "        vertical-align: top;\n",
       "    }\n",
       "\n",
       "    .dataframe thead th {\n",
       "        text-align: right;\n",
       "    }\n",
       "</style>\n",
       "<table border=\"1\" class=\"dataframe\">\n",
       "  <thead>\n",
       "    <tr style=\"text-align: right;\">\n",
       "      <th></th>\n",
       "      <th>PATIENT_ID</th>\n",
       "      <th>PROXIMAL</th>\n",
       "      <th>MID</th>\n",
       "      <th>DISTAL</th>\n",
       "      <th>D-1</th>\n",
       "      <th>D-2</th>\n",
       "      <th>D-3</th>\n",
       "      <th>D-4</th>\n",
       "    </tr>\n",
       "  </thead>\n",
       "  <tbody>\n",
       "    <tr>\n",
       "      <th>0</th>\n",
       "      <td>1001 CTCA1947</td>\n",
       "      <td>25-50%</td>\n",
       "      <td>25-50%</td>\n",
       "      <td>25-50%</td>\n",
       "      <td>NORMAL</td>\n",
       "      <td>25-50%</td>\n",
       "      <td>-</td>\n",
       "      <td>-</td>\n",
       "    </tr>\n",
       "    <tr>\n",
       "      <th>1</th>\n",
       "      <td>1002 CTCA1955</td>\n",
       "      <td>NORMAL</td>\n",
       "      <td>50%</td>\n",
       "      <td>NORMAL</td>\n",
       "      <td>NORMAL</td>\n",
       "      <td>-</td>\n",
       "      <td>-</td>\n",
       "      <td>-</td>\n",
       "    </tr>\n",
       "    <tr>\n",
       "      <th>2</th>\n",
       "      <td>DDJ261Z</td>\n",
       "      <td>50-70%</td>\n",
       "      <td>NORMAL</td>\n",
       "      <td>NORMAL</td>\n",
       "      <td>NORMAL</td>\n",
       "      <td>NORMAL</td>\n",
       "      <td>25-50%</td>\n",
       "      <td>-</td>\n",
       "    </tr>\n",
       "    <tr>\n",
       "      <th>3</th>\n",
       "      <td>1004 CTCA1955</td>\n",
       "      <td>&gt;50%</td>\n",
       "      <td>NORMAL</td>\n",
       "      <td>NORMAL</td>\n",
       "      <td>NORMAL</td>\n",
       "      <td>NORMAL</td>\n",
       "      <td>-</td>\n",
       "      <td>-</td>\n",
       "    </tr>\n",
       "    <tr>\n",
       "      <th>4</th>\n",
       "      <td>1005 CTCA1945</td>\n",
       "      <td>25-50%</td>\n",
       "      <td>NORMAL</td>\n",
       "      <td>NORMAL</td>\n",
       "      <td>NORMAL</td>\n",
       "      <td>-</td>\n",
       "      <td>-</td>\n",
       "      <td>-</td>\n",
       "    </tr>\n",
       "  </tbody>\n",
       "</table>\n",
       "</div>"
      ],
      "text/plain": [
       "      PATIENT_ID PROXIMAL     MID  DISTAL     D-1     D-2     D-3 D-4\n",
       "0  1001 CTCA1947   25-50%  25-50%  25-50%  NORMAL  25-50%       -   -\n",
       "1  1002 CTCA1955   NORMAL     50%  NORMAL  NORMAL       -       -   -\n",
       "2        DDJ261Z   50-70%  NORMAL  NORMAL  NORMAL  NORMAL  25-50%   -\n",
       "3  1004 CTCA1955     >50%  NORMAL  NORMAL  NORMAL  NORMAL       -   -\n",
       "4  1005 CTCA1945   25-50%  NORMAL  NORMAL  NORMAL       -       -   -"
      ]
     },
     "execution_count": 3,
     "metadata": {},
     "output_type": "execute_result"
    }
   ],
   "source": [
    "reports.head()"
   ]
  },
  {
   "cell_type": "code",
   "execution_count": null,
   "metadata": {
    "scrolled": true
   },
   "outputs": [],
   "source": [
    "reports['PATIENT_ID']"
   ]
  },
  {
   "cell_type": "code",
   "execution_count": 4,
   "metadata": {
    "scrolled": true
   },
   "outputs": [],
   "source": [
    "def get_labels(path_to_patient):\n",
    "    \"\"\"\n",
    "    Returns:\n",
    "        - dict: key(str) - type of the artery, value(int) - label(0 or 1)\n",
    "    \"\"\"\n",
    "    types_of_images = os.listdir(path_to_patient)\n",
    "    patient_name = [x for x in path_to_patient.split('\\\\') if len(x) > 0][-1]\n",
    "    labels_dict = {}\n",
    "    \n",
    "    for i in range(len(types_of_images)):\n",
    "        if 'LAD' in types_of_images[i]:\n",
    "            label = 0 if 'NORMAL' in reports.loc[reports['PATIENT_ID'] == patient_name.split(' ')[1]]['MID'].iloc[0] or \\\n",
    "               'NORMAL' in reports.loc[reports['PATIENT_ID'] == patient_name.split(' ')[1]]['DISTAL'].iloc[0] or \\\n",
    "               'NORMAL' in reports.loc[reports['PATIENT_ID'] == patient_name.split(' ')[1]]['PROXIMAL'].iloc[0] else 1\n",
    "        else:\n",
    "            label = 0 if 'NORMAL' in reports.loc[reports['PATIENT_ID'] == patient_name.split(' ')[1]][types_of_images[i]].iloc[0] else 1\n",
    "        \n",
    "        labels_dict[types_of_images[i]] = label\n",
    "        \n",
    "    return labels_dict\n",
    "\n",
    "def get_imgs_names_to_the_labels(path_to_patient, labels_dict):\n",
    "    \"\"\"\n",
    "    Returns:\n",
    "        - dict: key - label(int) 0 or 1, value(list) list of images, belong to the labelT\n",
    "    \"\"\"\n",
    "    img_labels = {}\n",
    "\n",
    "    for key in labels_dict.keys():\n",
    "        list_of_images = os.listdir(os.path.join(path_to_patient, key))\n",
    "        if labels_dict[key] in img_labels:\n",
    "            img_labels[labels_dict[key]]+= list_of_images\n",
    "        else:\n",
    "            img_labels[labels_dict[key]] = list_of_images\n",
    "            \n",
    "    return img_labels\n",
    "# get_imgs_names_to_the_labels(r'E:\\ONLY_LAD\\1000 CTCANEJ23051970\\\\',get_labels(r'E:\\ONLY_LAD\\1000 CTCANEJ23051970\\\\'))"
   ]
  },
  {
   "cell_type": "markdown",
   "metadata": {},
   "source": [
    "# Rename images to unique"
   ]
  },
  {
   "cell_type": "code",
   "execution_count": 5,
   "metadata": {},
   "outputs": [],
   "source": [
    "PATH_TO_DATA = r'D:\\images\\\\'\n",
    " \n",
    "image_types = os.listdir(PATH_TO_DATA)"
   ]
  },
  {
   "cell_type": "code",
   "execution_count": null,
   "metadata": {},
   "outputs": [],
   "source": [
    "for img_type in image_types:\n",
    "    images_names = os.listdir(os.path.join(PATH_TO_DATA, img_type))\n",
    "    for img_name in images_names:\n",
    "        os.rename(os.path.join(PATH_TO_DATA, img_type, img_name),\n",
    "                  os.path.join(PATH_TO_DATA, img_type, img_type+'_'+'_'.join(img_name.split(' '))))"
   ]
  },
  {
   "cell_type": "code",
   "execution_count": 6,
   "metadata": {},
   "outputs": [],
   "source": [
    "PATH_TO_DATA = r'D:\\images\\\\'\n",
    "patients_names = os.listdir(PATH_TO_DATA)\n",
    "\n",
    "for patient_name in patients_names:\n",
    "    images_types = os.listdir(os.path.join(PATH_TO_DATA, patient_name))\n",
    "    \n",
    "    for img_type in images_types:\n",
    "        images_names = os.listdir(os.path.join(PATH_TO_DATA, patient_name, img_type))\n",
    "        for img_name in images_names:\n",
    "            os.rename(os.path.join(PATH_TO_DATA, patient_name, img_type, img_name),\n",
    "                      os.path.join(PATH_TO_DATA, patient_name, img_type, img_type+'_'+'_'.join(img_name.split(' '))))"
   ]
  },
  {
   "cell_type": "markdown",
   "metadata": {},
   "source": [
    "# Create final dataset and create excel file with labels per image"
   ]
  },
  {
   "cell_type": "code",
   "execution_count": null,
   "metadata": {
    "scrolled": true
   },
   "outputs": [],
   "source": [
    "PATH_TO_DATA = r'D:\\images\\\\'\n",
    "list_of_patients = os.listdir(PATH_TO_DATA)\n",
    "\n",
    "labels_csv = pd.DataFrame(columns=['IMG_NAME', 'LABEL'])\n",
    "\n",
    "for i in range(len(list_of_patients)):\n",
    "    if i == 0:\n",
    "        continue\n",
    "    labels = get_labels(os.path.join(PATH_TO_DATA, list_of_patients[i]))\n",
    "    dict_labels_images = get_imgs_names_to_the_labels(os.path.join(PATH_TO_DATA, list_of_patients[i]), labels)\n",
    "    \n",
    "    for key in dict_labels_images:\n",
    "        for j in range(len(dict_labels_images[key])):\n",
    "            new_row = pd.Series([dict_labels_images[key][j], key],index=labels_csv.columns)\n",
    "            labels_csv = labels_csv.append(new_row, ignore_index=True)\n",
    "    if i >=10:\n",
    "        break"
   ]
  },
  {
   "cell_type": "code",
   "execution_count": null,
   "metadata": {},
   "outputs": [],
   "source": [
    "reports.head()"
   ]
  },
  {
   "cell_type": "code",
   "execution_count": null,
   "metadata": {},
   "outputs": [],
   "source": [
    "file_names = os.listdir(r'D:\\coronaryProject\\dataset\\binary_classification_MPR\\images')\n",
    "file_names_reports = list(reports['PATIENT_ID'])"
   ]
  },
  {
   "cell_type": "markdown",
   "metadata": {},
   "source": [
    "# Rename patients folders"
   ]
  },
  {
   "cell_type": "code",
   "execution_count": null,
   "metadata": {},
   "outputs": [],
   "source": [
    "new_values = []\n",
    "exceptions_which_should_be_added = \\\n",
    "    [\n",
    "     '348 CTCAGRH27071943',\n",
    "     '349 CTCANGM17081945',\n",
    "     '350 CTCATRH10061944',\n",
    "     '351 CTCAGRH27071943',\n",
    "     '353 CTCANGM17081945',\n",
    "     '371 CTCATRH10061944'\n",
    "    ]\n",
    "\n",
    "for i in range(len(file_names)):\n",
    "    if file_names[i] in exceptions_which_should_be_added:\n",
    "        continue\n",
    "    \n",
    "    splited_value = file_names[i].split(' ')\n",
    "    if len(splited_value[0]) == 4 or file_names[i] in exceptions_which_should_be_added:\n",
    "        new_values.append(file_names[i])\n",
    "    else:\n",
    "        os.rename(os.path.join('E:\\ONLY_LAD', file_names[i]), os.path.join('E:\\ONLY_LAD', splited_value[1]))\n",
    "        new_values.append(splited_value[1])"
   ]
  },
  {
   "cell_type": "code",
   "execution_count": null,
   "metadata": {},
   "outputs": [],
   "source": [
    "list_of_folders = os.listdir('E:\\ONLY_LAD')"
   ]
  },
  {
   "cell_type": "code",
   "execution_count": null,
   "metadata": {
    "scrolled": true
   },
   "outputs": [],
   "source": [
    "remove_files = []\n",
    "for i in range(len(list_of_folders)):\n",
    "    if list_of_folders[i] not in file_names_reports:\n",
    "        remove_files.append(list_of_folders[i])\n",
    "#         shutil.move(os.path.join('E:\\ONLY_LAD\\\\',list_of_folders[i]), \n",
    "#                     os.path.join('E:\\exceptions_lad\\\\', list_of_folders[i]))"
   ]
  }
 ],
 "metadata": {
  "kernelspec": {
   "display_name": "Python 3",
   "language": "python",
   "name": "python3"
  },
  "language_info": {
   "codemirror_mode": {
    "name": "ipython",
    "version": 3
   },
   "file_extension": ".py",
   "mimetype": "text/x-python",
   "name": "python",
   "nbconvert_exporter": "python",
   "pygments_lexer": "ipython3",
   "version": "3.5.2"
  }
 },
 "nbformat": 4,
 "nbformat_minor": 2
}
