{
 "cells": [
  {
   "cell_type": "code",
   "execution_count": 1,
   "metadata": {},
   "outputs": [],
   "source": [
    "import pandas as pd\n",
    "import os\n",
    "from tqdm import tqdm\n",
    "import re\n",
    "from numpy import nan as Nan"
   ]
  },
  {
   "cell_type": "markdown",
   "metadata": {},
   "source": [
    "#### We deleted two files from the bigger dataset because they had problems\n",
    "#### REPORT 1018 CTCA1948.xlsx - while stripping it gave Nan after fillna() function\n",
    "#### SOME SYSTEM FILE\n"
   ]
  },
  {
   "cell_type": "code",
   "execution_count": null,
   "metadata": {
    "scrolled": true
   },
   "outputs": [],
   "source": [
    "path_to_records = r'D:\\coronaryProject\\dataset\\binary_classification_MPR\\reports'\n",
    "list_of_files = os.listdir(path_to_records)"
   ]
  },
  {
   "cell_type": "markdown",
   "metadata": {},
   "source": [
    "# Extract LAD(LEFT ANTERIOR DESCENDING ARTERY) "
   ]
  },
  {
   "cell_type": "code",
   "execution_count": null,
   "metadata": {},
   "outputs": [],
   "source": [
    "def strip_mpr_lad_name(mpr_name):\n",
    "    \"\"\"\n",
    "    Strip MPR name of the LAD artery. We do this step because the name in the doctor's report \n",
    "    is not equal to the name in the MPR. \n",
    "    \n",
    "    Returns:\n",
    "        - str: striped string\n",
    "    \"\"\"\n",
    "    return \"\".join(mpr_name.split()).replace('*', '').replace('original', '')\n",
    "\n",
    "def read_and_strip_record(path_to_record):\n",
    "    '''\n",
    "    Read record file and remove empty rows and rows with all NaNs.\n",
    "    \n",
    "    Returns:\n",
    "        - Pandas DataFrame: \n",
    "    '''\n",
    "    excel_file = pd.read_excel(path_to_record,index_col=None, header=None)\n",
    "    excel_file.dropna(how='all')\n",
    "    excel_file.rename(columns={0: 'a', 1: 'b'}, inplace=True)\n",
    "    excel_file = excel_file.fillna('  ')\n",
    "    excel_file = excel_file.replace('', '  ', regex=True)\n",
    "    excel_file = excel_file.drop(excel_file[excel_file['a'].str.isspace()].index)\n",
    "    return excel_file\n",
    "\n",
    "def get_lad_info_from_report(striped_record, artery_type):\n",
    "    \"\"\"\n",
    "    Takes striped(without any empty lines and NaNs) and returns info only about the certain artery type. \n",
    "    \n",
    "    Returns:\n",
    "        - list: each element is the string with some info about certain artery type\n",
    "    \"\"\"\n",
    "    lad_info = []\n",
    "    wether_add = False\n",
    "    lad_info.append(striped_record.iloc[0]['b'])\n",
    "    for ind, row_value in striped_record.iterrows():\n",
    "        \n",
    "        if wether_add and row_value['a'].isupper():\n",
    "            break\n",
    "        if wether_add:\n",
    "            lad_info.append(row_value['a'])\n",
    "        \n",
    "        if artery_type in row_value['a']:\n",
    "            wether_add = True\n",
    "    return lad_info\n",
    "\n",
    "def get_level_of_stenosis_from_string(artery_info):\n",
    "    \"\"\"\n",
    "    Returns:\n",
    "        - list of str: each element is the string with percentage of stenosis. \n",
    "    \"\"\"\n",
    "    return [x.strip() for x in re.findall(r'.\\d{1,3}.?\\d{1,3}\\%', artery_info)]"
   ]
  },
  {
   "cell_type": "markdown",
   "metadata": {},
   "source": [
    "# LAD data extraction"
   ]
  },
  {
   "cell_type": "code",
   "execution_count": null,
   "metadata": {
    "scrolled": true
   },
   "outputs": [],
   "source": [
    "extracted_lad_df = pd.DataFrame(columns=['PATIENT_ID','PROXIMAL', 'MID', 'DISTAL', 'D-1', 'D-2', 'D-3', 'D-4'])\n",
    "\n",
    "for i in tqdm(range(len(list_of_files))):\n",
    "    cur_file = read_and_strip_record(os.path.join(path_to_records, list_of_files[i]))\n",
    "    cur_patient_lad_info = get_lad_info_from_report(cur_file, 'LEFT ANTERIOR')\n",
    "    \n",
    "    new_row = pd.Series(#[Nan,Nan,Nan,Nan,Nan,Nan,Nan,Nan],\n",
    "                        ['-','-','-','-','-','-','-','-'],\n",
    "                        index=extracted_lad_df.columns)\n",
    "    new_row['PATIENT_ID'] = cur_patient_lad_info[0]\n",
    "    cur_patient_lad_info.pop(0)\n",
    "    list_of_lda_branches = list(extracted_lad_df.columns)\n",
    "    \n",
    "    for line_info in cur_patient_lad_info:\n",
    "        \n",
    "        artery_area_name = [x for x in list_of_lda_branches \n",
    "                            if x in line_info or x.lower() in line_info or x.title() in line_info]\n",
    "        if len(artery_area_name) >=1:\n",
    "            artery_area_name = artery_area_name[0]\n",
    "        else:\n",
    "            continue\n",
    "        stenosis_score = get_level_of_stenosis_from_string(line_info)\n",
    "        stenosis_score =  stenosis_score[0] if stenosis_score else 'NORMAL'\n",
    "        new_row.loc[artery_area_name] = stenosis_score\n",
    "    extracted_lad_df = extracted_lad_df.append(new_row, ignore_index=True)"
   ]
  },
  {
   "cell_type": "code",
   "execution_count": null,
   "metadata": {},
   "outputs": [],
   "source": [
    "extracted_lad_df.head()"
   ]
  },
  {
   "cell_type": "markdown",
   "metadata": {},
   "source": [
    "# Save LAD results"
   ]
  },
  {
   "cell_type": "code",
   "execution_count": null,
   "metadata": {},
   "outputs": [],
   "source": [
    "extracted_lad_df.to_excel('lad_reports.xlsx', index=False)"
   ]
  },
  {
   "cell_type": "code",
   "execution_count": null,
   "metadata": {},
   "outputs": [],
   "source": []
  }
 ],
 "metadata": {
  "kernelspec": {
   "display_name": "Python 3",
   "language": "python",
   "name": "python3"
  },
  "language_info": {
   "codemirror_mode": {
    "name": "ipython",
    "version": 3
   },
   "file_extension": ".py",
   "mimetype": "text/x-python",
   "name": "python",
   "nbconvert_exporter": "python",
   "pygments_lexer": "ipython3",
   "version": "3.6.8"
  }
 },
 "nbformat": 4,
 "nbformat_minor": 2
}
