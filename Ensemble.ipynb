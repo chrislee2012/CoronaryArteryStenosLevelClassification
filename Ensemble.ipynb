{
 "cells": [
  {
   "cell_type": "code",
   "execution_count": 1,
   "metadata": {},
   "outputs": [],
   "source": [
    "import torch\n",
    "from torchvision import transforms\n",
    "import torch.nn.functional as F\n",
    "from torch.utils.data import DataLoader\n",
    "\n",
    "from datasets.mpr_dataset import MPR_Dataset,MPR_Dataset_H5\n",
    "from tqdm import tqdm_notebook as tqdm\n",
    "import yaml\n",
    "import re\n",
    "import os\n",
    "import cv2\n",
    "import copy\n",
    "import matplotlib.pyplot as plt\n",
    "import pandas as pd\n",
    "import numpy as np\n",
    "\n",
    "from imblearn.pipeline import make_pipeline\n",
    "from imblearn.over_sampling import ADASYN\n",
    "from imblearn.over_sampling import (SMOTE, BorderlineSMOTE, SVMSMOTE, SMOTENC,\n",
    "                                    KMeansSMOTE)\n",
    "from imblearn.over_sampling import RandomOverSampler\n",
    "from imblearn.base import BaseSampler\n",
    "from imblearn.ensemble import BalancedRandomForestClassifier\n",
    "\n",
    "from models import ShuffleNetv2\n",
    "\n",
    "from sklearn.metrics import accuracy_score, f1_score\n",
    "from sklearn.model_selection import train_test_split\n",
    "from sklearn.metrics import classification_report\n",
    "\n",
    "import xgboost as xgb\n",
    "from sklearn import svm\n",
    "from sklearn.discriminant_analysis import LinearDiscriminantAnalysis\n",
    "from sklearn.neighbors import KNeighborsClassifier\n",
    "from sklearn.naive_bayes import GaussianNB\n",
    "from sklearn.tree import DecisionTreeClassifier\n",
    "from sklearn.svm import SVC\n",
    "from sklearn.linear_model import LogisticRegression\n",
    "\n",
    "import lightgbm as lgb\n",
    "from imblearn.datasets import make_imbalance\n",
    "\n",
    "from imblearn.over_sampling import RandomOverSampler\n",
    "from imblearn.under_sampling import RandomUnderSampler\n",
    "from imblearn.under_sampling import TomekLinks"
   ]
  },
  {
   "cell_type": "code",
   "execution_count": 2,
   "metadata": {},
   "outputs": [],
   "source": [
    "def convert_string_to_np_array(inp_str):\n",
    "    numeric_const_pattern = '[-+]? (?: (?: \\d* \\. \\d+ ) | (?: \\d+ \\.? ) )(?: [Ee] [+-]? \\d+ ) ?'\n",
    "    rx = re.compile(numeric_const_pattern, re.VERBOSE)\n",
    "\n",
    "    return np.array([float(x) for x in rx.findall(inp_str)])"
   ]
  },
  {
   "cell_type": "markdown",
   "metadata": {},
   "source": [
    "# Data Loading"
   ]
  },
  {
   "cell_type": "code",
   "execution_count": 3,
   "metadata": {},
   "outputs": [],
   "source": [
    "train_df = pd.read_csv('ensemble/xgboost_train.csv')\n",
    "train_df.drop(['Unnamed: 0', 'index'], axis=1, inplace=True)\n",
    "train_df['PRED'] = train_df['PRED'].apply(convert_string_to_np_array)\n",
    "test_df = pd.read_csv('ensemble/xgboost_test.csv')\n",
    "test_df.drop(['Unnamed: 0', 'index'], axis=1, inplace=True)\n",
    "test_df['PRED'] = test_df['PRED'].apply(convert_string_to_np_array)"
   ]
  },
  {
   "cell_type": "markdown",
   "metadata": {},
   "source": [
    "# Aggregate the datatable"
   ]
  },
  {
   "cell_type": "code",
   "execution_count": 4,
   "metadata": {},
   "outputs": [],
   "source": [
    "def get_data(grouped_by_patients):\n",
    "    \n",
    "    X = list()\n",
    "    y = list()\n",
    "    \n",
    "    for patient in tqdm(grouped_by_patients['PATIENT'].unique()):\n",
    "        cur_patient = grouped_by_patients.get_group(patient[0])\n",
    "        grouped_by_section = cur_patient.groupby('ARTERY_SECTION')        \n",
    "\n",
    "        for section in grouped_by_section['ARTERY_SECTION'].unique():\n",
    "            all_images_per_section = grouped_by_section.get_group(section[0])\n",
    "\n",
    "            train_data = np.stack(all_images_per_section['PRED'], axis=0)\n",
    "            label = all_images_per_section['LABEL'].iloc[0]\n",
    "\n",
    "            if len(train_data) ==50:\n",
    "                X.append(train_data.ravel())\n",
    "                y.append(label)  \n",
    "    return np.stack(X), np.array(y)"
   ]
  },
  {
   "cell_type": "code",
   "execution_count": 5,
   "metadata": {},
   "outputs": [
    {
     "data": {
      "application/vnd.jupyter.widget-view+json": {
       "model_id": "1bdcfd1e1d004fb999ca0d5ace2d01b0",
       "version_major": 2,
       "version_minor": 0
      },
      "text/plain": [
       "HBox(children=(IntProgress(value=0, max=708), HTML(value='')))"
      ]
     },
     "metadata": {},
     "output_type": "display_data"
    },
    {
     "name": "stdout",
     "output_type": "stream",
     "text": [
      "\n"
     ]
    },
    {
     "data": {
      "application/vnd.jupyter.widget-view+json": {
       "model_id": "4fa0092aa38d428c91eecb9a2ea8d30a",
       "version_major": 2,
       "version_minor": 0
      },
      "text/plain": [
       "HBox(children=(IntProgress(value=0, max=105), HTML(value='')))"
      ]
     },
     "metadata": {},
     "output_type": "display_data"
    },
    {
     "name": "stdout",
     "output_type": "stream",
     "text": [
      "\n"
     ]
    }
   ],
   "source": [
    "X_train, y_train = get_data(train_df.groupby('PATIENT'))\n",
    "X_test, y_test = get_data(test_df.groupby('PATIENT'))"
   ]
  },
  {
   "cell_type": "markdown",
   "metadata": {},
   "source": [
    "# Train"
   ]
  },
  {
   "cell_type": "markdown",
   "metadata": {},
   "source": [
    "# LIB FOR IMBALANCED LEARNING\n",
    "https://imbalanced-learn.readthedocs.io/en/stable/auto_examples/"
   ]
  },
  {
   "cell_type": "code",
   "execution_count": 6,
   "metadata": {},
   "outputs": [],
   "source": [
    "# model = xgb.XGBClassifier()\n",
    "# model = LinearDiscriminantAnalysis()\n",
    "# model = KNeighborsClassifier()\n",
    "# model = DecisionTreeClassifier()\n",
    "\n",
    "# 85 79 81\n",
    "# model = xgb.XGBClassifier(learning_rate=0.001, n_estimators=3, max_depth=2,\n",
    "#                     min_child_weight=2, gamma=0.2, subsample=0.6, colsample_bytree=1.0,\n",
    "#                     nthread=4, scale_pos_weight=1, seed=32)\n",
    "\n",
    "# 85 81 82\n",
    "# model = xgb.XGBClassifier(learning_rate=0.0001, n_estimators=100, max_depth=4,\n",
    "#                     min_child_weight=2,  subsample=0.6, colsample_bytree=1.0,\n",
    "#                     nthread=4, scale_pos_weight=1, seed=42)\n",
    "\n",
    "# 69 71 70 / 82 81 81 \n",
    "# model = BalancedRandomForestClassifier(max_depth=3)  # {0: 1, 1: 0.5, 2:0.4}"
   ]
  },
  {
   "cell_type": "code",
   "execution_count": 7,
   "metadata": {},
   "outputs": [
    {
     "data": {
      "text/plain": [
       "{0: 2346, 1: 2010, 2: 2260}"
      ]
     },
     "execution_count": 7,
     "metadata": {},
     "output_type": "execute_result"
    }
   ],
   "source": [
    "sampling_strategy = {0: 2346, 1:670*3, 2:226*10}\n",
    "ros = RandomOverSampler(sampling_strategy=sampling_strategy)\n",
    "X_res, y_res = ros.fit_resample(X_train, y_train)\n",
    "\n",
    "unique, counts = np.unique(y_res, return_counts=True)\n",
    "dict(zip(unique, counts))"
   ]
  },
  {
   "cell_type": "code",
   "execution_count": 8,
   "metadata": {},
   "outputs": [
    {
     "data": {
      "text/plain": [
       "XGBClassifier(base_score=0.5, booster='gbtree', colsample_bylevel=1,\n",
       "              colsample_bynode=1, colsample_bytree=1.0, gamma=0,\n",
       "              learning_rate=1e-05, max_delta_step=0, max_depth=4,\n",
       "              min_child_weight=2, missing=None, n_estimators=100, n_jobs=1,\n",
       "              nthread=4, objective='multi:softprob', random_state=0,\n",
       "              reg_alpha=0, reg_lambda=1, scale_pos_weight=1, seed=42,\n",
       "              silent=None, subsample=0.6, verbosity=1)"
      ]
     },
     "execution_count": 8,
     "metadata": {},
     "output_type": "execute_result"
    }
   ],
   "source": [
    "# Train\n",
    "model.fit(X_res, y_res)"
   ]
  },
  {
   "cell_type": "code",
   "execution_count": 10,
   "metadata": {},
   "outputs": [],
   "source": [
    "# LightGBM params: https://github.com/microsoft/LightGBM/blob/master/docs/Parameters.rst\n",
    "\n",
    "param = {}\n",
    "param['application'] = 'multiclass'\n",
    "param['num_class'] = '3'\n",
    "param['learning_rate'] = 0.01\n",
    "param['feature_fraction'] = 0.4\n",
    "param['bagging_fraction'] = 0.4\n",
    "param['bagging_freq'] = 1\n",
    "param['max_depth'] = 5\n",
    "param['num_threads'] = 4\n",
    "param[\"verbose\"] = 0\n",
    "param[\"metric\"] = ''\n",
    "\n",
    "lgb_train = lgb.Dataset(X_res, label=y_res)\n",
    "lgb_val = lgb.Dataset(X_test, label=y_test)\n",
    "\n",
    "model = lgb.train(param, lgb_train, 1000, valid_sets=[lgb_train, lgb_val], early_stopping_rounds=10,  verbose_eval=0)"
   ]
  },
  {
   "cell_type": "code",
   "execution_count": 11,
   "metadata": {},
   "outputs": [
    {
     "name": "stdout",
     "output_type": "stream",
     "text": [
      "TRAIN: \n",
      "              precision    recall  f1-score   support\n",
      "\n",
      "           0       1.00      1.00      1.00      2339\n",
      "           1       1.00      0.99      1.00       676\n",
      "           2       1.00      1.00      1.00       227\n",
      "\n",
      "    accuracy                           1.00      3242\n",
      "   macro avg       1.00      1.00      1.00      3242\n",
      "weighted avg       1.00      1.00      1.00      3242\n",
      "\n",
      "TEST:\n",
      "              precision    recall  f1-score   support\n",
      "\n",
      "           0       0.93      0.85      0.89       367\n",
      "           1       0.52      0.69      0.59        84\n",
      "           2       0.55      0.60      0.58        35\n",
      "\n",
      "    accuracy                           0.81       486\n",
      "   macro avg       0.67      0.71      0.69       486\n",
      "weighted avg       0.83      0.81      0.82       486\n",
      "\n"
     ]
    }
   ],
   "source": [
    "# For LightGBM\n",
    "\n",
    "y_pred = model.predict(X_train)\n",
    "predictions = [round(np.argmax(value)) for value in y_pred]\n",
    "accuracy = accuracy_score(y_train, predictions)\n",
    "print('TRAIN: ')\n",
    "print(classification_report(predictions, y_train))\n",
    "\n",
    "y_pred = model.predict(X_test)\n",
    "predictions = [round(np.argmax(value)) for value in y_pred]\n",
    "print('TEST:')\n",
    "print(classification_report(predictions, y_test))"
   ]
  },
  {
   "cell_type": "code",
   "execution_count": 53,
   "metadata": {},
   "outputs": [
    {
     "name": "stdout",
     "output_type": "stream",
     "text": [
      "TRAIN: \n",
      "              precision    recall  f1-score   support\n",
      "\n",
      "           0       1.00      1.00      1.00      2351\n",
      "           1       0.99      1.00      0.99       663\n",
      "           2       1.00      0.99      1.00       228\n",
      "\n",
      "    accuracy                           1.00      3242\n",
      "   macro avg       0.99      0.99      0.99      3242\n",
      "weighted avg       1.00      1.00      1.00      3242\n",
      "\n",
      "TEST:\n",
      "              precision    recall  f1-score   support\n",
      "\n",
      "           0       0.95      0.84      0.89       380\n",
      "           1       0.46      0.72      0.57        72\n",
      "           2       0.55      0.62      0.58        34\n",
      "\n",
      "    accuracy                           0.81       486\n",
      "   macro avg       0.66      0.73      0.68       486\n",
      "weighted avg       0.85      0.81      0.82       486\n",
      "\n"
     ]
    }
   ],
   "source": [
    "y_pred = model.predict(X_train)\n",
    "predictions = [round(value) for value in y_pred]\n",
    "accuracy = accuracy_score(y_train, predictions)\n",
    "print('TRAIN: ')\n",
    "print(classification_report(predictions, y_train))\n",
    "\n",
    "y_pred = model.predict(X_test)\n",
    "predictions = [round(value) for value in y_pred]\n",
    "print('TEST:')\n",
    "print(classification_report(predictions, y_test))"
   ]
  },
  {
   "cell_type": "code",
   "execution_count": 11,
   "metadata": {},
   "outputs": [
    {
     "name": "stdout",
     "output_type": "stream",
     "text": [
      "TRAIN: \n",
      "              precision    recall  f1-score   support\n",
      "\n",
      "           0       0.99      1.00      1.00      2330\n",
      "           1       1.00      0.99      1.00      2021\n",
      "           2       1.00      1.00      1.00      2265\n",
      "\n",
      "    accuracy                           1.00      6616\n",
      "   macro avg       1.00      1.00      1.00      6616\n",
      "weighted avg       1.00      1.00      1.00      6616\n",
      "\n",
      "TEST:\n",
      "              precision    recall  f1-score   support\n",
      "\n",
      "           0       0.92      0.84      0.88       367\n",
      "           1       0.52      0.67      0.58        87\n",
      "           2       0.55      0.66      0.60        32\n",
      "\n",
      "    accuracy                           0.80       486\n",
      "   macro avg       0.66      0.72      0.69       486\n",
      "weighted avg       0.83      0.80      0.81       486\n",
      "\n"
     ]
    }
   ],
   "source": [
    "y_pred = model.predict(X_res)\n",
    "predictions = [round(value) for value in y_pred]\n",
    "accuracy = accuracy_score(y_res, predictions)\n",
    "print('TRAIN: ')\n",
    "print(classification_report(predictions, y_res))\n",
    "\n",
    "y_pred = model.predict(X_test)\n",
    "predictions = [round(value) for value in y_pred]\n",
    "print('TEST:')\n",
    "print(classification_report(predictions, y_test))"
   ]
  },
  {
   "cell_type": "markdown",
   "metadata": {},
   "source": [
    "# Predict on test"
   ]
  },
  {
   "cell_type": "code",
   "execution_count": 12,
   "metadata": {},
   "outputs": [
    {
     "data": {
      "application/vnd.jupyter.widget-view+json": {
       "model_id": "d6de864e68f7442bb6d97a9811b5850c",
       "version_major": 2,
       "version_minor": 0
      },
      "text/plain": [
       "HBox(children=(IntProgress(value=0, max=105), HTML(value='')))"
      ]
     },
     "metadata": {},
     "output_type": "display_data"
    },
    {
     "name": "stdout",
     "output_type": "stream",
     "text": [
      "\n"
     ]
    }
   ],
   "source": [
    "grouped_by_patients = test_df.groupby('PATIENT')\n",
    "\n",
    "predicts = []\n",
    "indexes = []\n",
    "\n",
    "for patient in tqdm(grouped_by_patients['PATIENT'].unique()):\n",
    "    cur_patient = grouped_by_patients.get_group(patient[0])\n",
    "    grouped_by_section = cur_patient.groupby('ARTERY_SECTION')        \n",
    "    \n",
    "    for section in grouped_by_section['ARTERY_SECTION'].unique():\n",
    "        all_images_per_section = grouped_by_section.get_group(section[0])\n",
    "        \n",
    "        test_data = np.stack(all_images_per_section['PRED'], axis=0)\n",
    "        \n",
    "        # Predict\n",
    "        test_data = np.expand_dims(test_data.ravel(), axis=0)\n",
    "        pred = model.predict(test_data)\n",
    "        predicts += list(pred)*50\n",
    "        indexes += list(all_images_per_section.index)\n",
    "        \n",
    "test_df['PRED'] = pd.Series(data=predicts, index=indexes)"
   ]
  },
  {
   "cell_type": "code",
   "execution_count": 15,
   "metadata": {},
   "outputs": [],
   "source": [
    "def calculate_metrics(col_section, col_ids, col_preds, col_labels):\n",
    "    \"\"\"\n",
    "    Calculate final auc and f1 metrics on three levels: per patient, per section and per artery\n",
    "    :return: {dict} each metric as a key and its calculated metric as a value\n",
    "    \"\"\"\n",
    "    assert len(col_section) == len(col_ids) == len(col_preds) == len(col_labels)\n",
    "\n",
    "    metrics = {'ACC_section': 0, 'ACC_patient': 0, 'ACC_artery': 0, 'F1_section': 0, 'F1_patient': 0, 'F1_artery': 0}\n",
    "    dict_artery = {'LAD': ['D-1', 'D-2', 'LAD', 'D-3', '2D-2', 'D-1Original', 'LADOriginal', 'D-4'],\n",
    "                   'LCX': ['LCX', 'OM-2', 'OM-1', 'OM-3', 'OM', 'LCX-PLB', 'LCX-PDA', 'PLV_LCX', 'PDA_LCX'],\n",
    "                   'RCA': ['RCA', 'RCA-PLB', 'RCA-PDA', 'PLV_RCA']}\n",
    "\n",
    "    df = pd.concat([col_ids, col_section, col_preds, col_labels], axis=1)\n",
    "    df = df.rename(columns={col_section.name: 'section', col_ids.name: 'patient', col_preds.name:\n",
    "        'preds', col_labels.name: 'labels'})\n",
    "    df['artery'] = df['section'].apply(lambda x: [k for k in dict_artery.keys() if x in dict_artery[k]][0])\n",
    "    \n",
    "#     df['preds'] = df['preds'].apply(lambda x: np.argmax(x))   # for lightgbm\n",
    "    \n",
    "    # SECTION\n",
    "    section_labels = df[['preds', 'labels', 'section', 'artery', 'patient']].groupby(['patient', 'section']).agg(\n",
    "        lambda x: max(x))\n",
    "    preds_section = df[['preds', 'labels', 'section', 'artery', 'patient']].groupby(['patient', 'section']).agg(\n",
    "        lambda x: x.value_counts().index[0])\n",
    "    acc = accuracy_score(preds_section['preds'], section_labels['labels'])\n",
    "    f1 = f1_score(preds_section['preds'], section_labels['labels'], average='weighted')\n",
    "    metrics['ACC_section'], metrics['F1_section'] = acc, f1\n",
    "\n",
    "    # ARTERY\n",
    "    sect = section_labels.reset_index()\n",
    "    artery_labels = sect.groupby(['patient', 'artery']).agg(lambda x: max(x))['labels']\n",
    "    preds_artery = preds_section.reset_index().groupby(['patient', 'artery']).agg(lambda x: max(x))['preds']  \n",
    "    acc = accuracy_score(preds_artery, artery_labels)\n",
    "    f1 = f1_score(preds_artery, artery_labels, average='weighted')\n",
    "    metrics['ACC_artery'], metrics['F1_artery'] = acc, f1\n",
    "\n",
    "    # PATIENT\n",
    "    art = artery_labels.reset_index()\n",
    "    patient_labels = art.groupby(['patient']).agg(lambda x: max(x))['labels']\n",
    "    preds_patient = preds_artery.reset_index().groupby(['patient']).agg(lambda x: max(x))['preds'] \n",
    "    acc = accuracy_score(preds_patient, patient_labels)\n",
    "    f1 = f1_score(preds_patient, patient_labels, average='weighted')\n",
    "    metrics['ACC_patient'], metrics['F1_patient'] = acc, f1\n",
    "\n",
    "    return metrics"
   ]
  },
  {
   "cell_type": "code",
   "execution_count": 16,
   "metadata": {},
   "outputs": [
    {
     "data": {
      "text/plain": [
       "{'ACC_artery': 0.8063380281690141,\n",
       " 'ACC_patient': 0.7428571428571429,\n",
       " 'ACC_section': 0.8065843621399177,\n",
       " 'F1_artery': 0.8143026727304132,\n",
       " 'F1_patient': 0.7441044471644227,\n",
       " 'F1_section': 0.816159563736268}"
      ]
     },
     "execution_count": 16,
     "metadata": {},
     "output_type": "execute_result"
    }
   ],
   "source": [
    "calculate_metrics(test_df['ARTERY_SECTION'], test_df['PATIENT'], test_df['PRED'], test_df['LABEL'])"
   ]
  },
  {
   "cell_type": "code",
   "execution_count": 17,
   "metadata": {},
   "outputs": [
    {
     "data": {
      "text/plain": [
       "{'ACC_artery': 0.8133802816901409,\n",
       " 'ACC_patient': 0.7619047619047619,\n",
       " 'ACC_section': 0.7962962962962963,\n",
       " 'F1_artery': 0.8171297491246654,\n",
       " 'F1_patient': 0.7618417990938829,\n",
       " 'F1_section': 0.800808481586288}"
      ]
     },
     "execution_count": 17,
     "metadata": {},
     "output_type": "execute_result"
    }
   ],
   "source": [
    "calculate_metrics(test_df['ARTERY_SECTION'], test_df['PATIENT'], test_df['PRED'], test_df['LABEL'])"
   ]
  },
  {
   "cell_type": "code",
   "execution_count": 107,
   "metadata": {},
   "outputs": [
    {
     "name": "stdout",
     "output_type": "stream",
     "text": [
      "['LAD' 'RCA' 'LCX']\n"
     ]
    },
    {
     "data": {
      "text/plain": [
       "{'ACC_artery': 0.8063380281690141,\n",
       " 'ACC_patient': 0.7619047619047619,\n",
       " 'ACC_section': 0.8065843621399177,\n",
       " 'F1_artery': 0.8208258119764523,\n",
       " 'F1_patient': 0.7686028257456828,\n",
       " 'F1_section': 0.8212599536266535}"
      ]
     },
     "execution_count": 107,
     "metadata": {},
     "output_type": "execute_result"
    }
   ],
   "source": [
    "calculate_metrics(test_df['ARTERY_SECTION'], test_df['PATIENT'], test_df['PRED'], test_df['LABEL'])"
   ]
  },
  {
   "cell_type": "code",
   "execution_count": null,
   "metadata": {},
   "outputs": [],
   "source": [
    "test_df.to_csv('WIMLsubmitted_predictions.csv', index=False)"
   ]
  }
 ],
 "metadata": {
  "kernelspec": {
   "display_name": "Python 3",
   "language": "python",
   "name": "python3"
  },
  "language_info": {
   "codemirror_mode": {
    "name": "ipython",
    "version": 3
   },
   "file_extension": ".py",
   "mimetype": "text/x-python",
   "name": "python",
   "nbconvert_exporter": "python",
   "pygments_lexer": "ipython3",
   "version": "3.5.2"
  }
 },
 "nbformat": 4,
 "nbformat_minor": 2
}
