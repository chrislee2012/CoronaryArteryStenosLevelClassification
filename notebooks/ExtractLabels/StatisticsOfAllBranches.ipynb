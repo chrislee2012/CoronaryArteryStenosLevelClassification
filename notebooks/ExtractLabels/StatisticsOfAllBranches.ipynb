{
 "cells": [
  {
   "cell_type": "code",
   "execution_count": 38,
   "metadata": {},
   "outputs": [],
   "source": [
    "import pandas as pd\n",
    "import pydicom as dicom\n",
    "from PIL import Image\n",
    "import numpy as np\n",
    "import os\n",
    "import cv2\n",
    "import shutil\n",
    "from tqdm import tqdm\n",
    "import matplotlib.pyplot as plt\n",
    "import re"
   ]
  },
  {
   "cell_type": "code",
   "execution_count": 39,
   "metadata": {},
   "outputs": [],
   "source": [
    "### USEFUL FINCTIONS \n",
    "\n",
    "def get_maximum_stenosis_score_category(section_stenosis_string):\n",
    "    \"\"\"\n",
    "    Returns the max stenois score category\n",
    "    \n",
    "    Args:\n",
    "        - section_stenosis_string(str): NORMAL_<25%_NORMAL\n",
    "    \n",
    "    Returns:\n",
    "        - max_stenosis_score(str): <25%\n",
    "    \"\"\"\n",
    "    categories = section_stenosis_string.split('_')\n",
    "    numbers = [[int(i) for i in re.findall(r'\\d+', x)] for x in categories]\n",
    "    max_elements_of_sublists = [max(x or [0]) for x in numbers]\n",
    "    max_stenosis_category = categories[max_elements_of_sublists.index(max(max_elements_of_sublists))]\n",
    "    \n",
    "    return max_stenosis_category\n",
    "\n",
    "def remove_thrash_categories(df):\n",
    "    \"\"\"\n",
    "    Merge rare stenosis scores into the broader ones.\n",
    "    \"\"\"\n",
    "    right_categies_names = {\n",
    "     '<25%': ['<35%'], #'25%'],\n",
    "     '25-50%': ['-25-50%', '<25-50%'],\n",
    "     '50%': ['*50%'], #'>50%'],\n",
    "     '50-70%': ['50-75%'],\n",
    "     '70-90%': ['>70%', '>75%'],\n",
    "     '90-100%': ['>90%', '90%']\n",
    "    }\n",
    "    for right_category in right_categies_names:\n",
    "        df.replace(right_categies_names[right_category], right_category, inplace=True)\n",
    "    return df"
   ]
  },
  {
   "cell_type": "markdown",
   "metadata": {},
   "source": [
    "### Read reports"
   ]
  },
  {
   "cell_type": "code",
   "execution_count": 40,
   "metadata": {},
   "outputs": [],
   "source": [
    "lad = pd.read_excel('lad_reports.xlsx')\n",
    "rca = pd.read_excel('rca_reports.xlsx')\n",
    "lcx = pd.read_excel('lcx_reports.xlsx')\n",
    "\n"
   ]
  },
  {
   "cell_type": "code",
   "execution_count": 41,
   "metadata": {},
   "outputs": [],
   "source": [
    "assert len(np.intersect1d(lad['PATIENT_ID'].values, rca['PATIENT_ID'].values)) == lad.shape[0] \n",
    "assert len(np.intersect1d(lad['PATIENT_ID'].values, lcx['PATIENT_ID'].values)) == lad.shape[0] "
   ]
  },
  {
   "cell_type": "code",
   "execution_count": 42,
   "metadata": {},
   "outputs": [
    {
     "data": {
      "text/plain": [
       "((744, 8), (744, 7), (744, 10))"
      ]
     },
     "execution_count": 42,
     "metadata": {},
     "output_type": "execute_result"
    }
   ],
   "source": [
    "lad.shape, rca.shape, lcx.shape"
   ]
  },
  {
   "cell_type": "code",
   "execution_count": 43,
   "metadata": {},
   "outputs": [
    {
     "data": {
      "text/plain": [
       "(Index(['PATIENT_ID', 'PROXIMAL', 'MID', 'DISTAL', 'D-1', 'D-2', 'D-3', 'D-4'], dtype='object'),\n",
       " Index(['PATIENT_ID', 'REPORT_ID', 'PROXIMAL', 'DISTAL', 'MID', 'PDA', 'PLV'], dtype='object'),\n",
       " Index(['PATIENT_ID', 'REPORT_ID', 'PROXIMAL', 'DISTAL', 'OM', 'OM1', 'OM2',\n",
       "        'OM3', 'PDA', 'PLV'],\n",
       "       dtype='object'))"
      ]
     },
     "execution_count": 43,
     "metadata": {},
     "output_type": "execute_result"
    }
   ],
   "source": [
    "lad.columns, rca.columns, lcx.columns"
   ]
  },
  {
   "cell_type": "markdown",
   "metadata": {},
   "source": [
    "### Merge all sections to one table"
   ]
  },
  {
   "cell_type": "code",
   "execution_count": 44,
   "metadata": {},
   "outputs": [
    {
     "data": {
      "text/plain": [
       "Index(['PATIENT_ID', 'REPORT_ID', 'LAD', 'D-1', 'D-2', 'D-3', 'RCA', 'OM',\n",
       "       'OM1', 'OM2', 'OM3', 'LCX'],\n",
       "      dtype='object')"
      ]
     },
     "execution_count": 44,
     "metadata": {},
     "output_type": "execute_result"
    }
   ],
   "source": [
    "# Merge proximal mid distal\n",
    "lad['LAD'] = lad['PROXIMAL'] +'_'+ lad['MID'] +'_'+ lad['DISTAL']\n",
    "rca['RCA'] = rca['PROXIMAL'] +'_'+ rca['MID'] +'_'+ rca['DISTAL']\n",
    "lcx['LCX'] = lcx['PROXIMAL'] +'_'+ lcx['DISTAL']\n",
    "\n",
    "# Del redundant columns\n",
    "for df in [lad, rca, lcx]:\n",
    "    del df['PROXIMAL']\n",
    "    del df['DISTAL']\n",
    "del lad['MID']\n",
    "del rca['MID']\n",
    "\n",
    "# Merge tables, removing redundant columns\n",
    "lad_rca = pd.merge(lad, rca, on='PATIENT_ID')\n",
    "lad_rca_lcx = pd.merge(lad_rca, lcx, on='PATIENT_ID')  # FULL DATAFRAME FOR ALL BRANCHES!\n",
    "lad_rca_lcx.drop(['D-4', 'PDA_x', 'PDA_y', 'PLV_x', 'PLV_y', 'REPORT_ID_y'], axis=1, inplace=True)\n",
    "lad_rca_lcx.rename(columns={'REPORT_ID_x': 'REPORT_ID'}, inplace=True)\n",
    "new_order = [0, 5, 4, 1, 2, 3, 6, 7, 8, 9, 10, 11]\n",
    "lad_rca_lcx = lad_rca_lcx[lad_rca_lcx.columns[new_order]]\n",
    "\n",
    "lad_rca_lcx.columns"
   ]
  },
  {
   "cell_type": "code",
   "execution_count": 45,
   "metadata": {},
   "outputs": [
    {
     "data": {
      "text/html": [
       "<div>\n",
       "<style scoped>\n",
       "    .dataframe tbody tr th:only-of-type {\n",
       "        vertical-align: middle;\n",
       "    }\n",
       "\n",
       "    .dataframe tbody tr th {\n",
       "        vertical-align: top;\n",
       "    }\n",
       "\n",
       "    .dataframe thead th {\n",
       "        text-align: right;\n",
       "    }\n",
       "</style>\n",
       "<table border=\"1\" class=\"dataframe\">\n",
       "  <thead>\n",
       "    <tr style=\"text-align: right;\">\n",
       "      <th></th>\n",
       "      <th>PATIENT_ID</th>\n",
       "      <th>REPORT_ID</th>\n",
       "      <th>LAD</th>\n",
       "      <th>D-1</th>\n",
       "      <th>D-2</th>\n",
       "      <th>D-3</th>\n",
       "      <th>RCA</th>\n",
       "      <th>OM</th>\n",
       "      <th>OM1</th>\n",
       "      <th>OM2</th>\n",
       "      <th>OM3</th>\n",
       "      <th>LCX</th>\n",
       "    </tr>\n",
       "  </thead>\n",
       "  <tbody>\n",
       "    <tr>\n",
       "      <th>0</th>\n",
       "      <td>CTCAHER21101967</td>\n",
       "      <td>CTCAHER21101967</td>\n",
       "      <td>&lt;25%</td>\n",
       "      <td>NORMAL</td>\n",
       "      <td>-</td>\n",
       "      <td>-</td>\n",
       "      <td>NORMAL</td>\n",
       "      <td>-</td>\n",
       "      <td>NORMAL</td>\n",
       "      <td>-</td>\n",
       "      <td>-</td>\n",
       "      <td>NORMAL</td>\n",
       "    </tr>\n",
       "    <tr>\n",
       "      <th>1</th>\n",
       "      <td>CTCAGRH27071943</td>\n",
       "      <td>CTCAGRH27071943</td>\n",
       "      <td>NORMAL</td>\n",
       "      <td>NORMAL</td>\n",
       "      <td>-</td>\n",
       "      <td>-</td>\n",
       "      <td>-</td>\n",
       "      <td>-</td>\n",
       "      <td>NORMAL</td>\n",
       "      <td>NORMAL</td>\n",
       "      <td>-</td>\n",
       "      <td>NORMAL</td>\n",
       "    </tr>\n",
       "    <tr>\n",
       "      <th>2</th>\n",
       "      <td>CTCADRG22021959</td>\n",
       "      <td>CTCADRG22021959</td>\n",
       "      <td>&lt;25%</td>\n",
       "      <td>&lt;25%</td>\n",
       "      <td>&lt;25%</td>\n",
       "      <td>NORMAL</td>\n",
       "      <td>&lt;25%</td>\n",
       "      <td>-</td>\n",
       "      <td>NORMAL</td>\n",
       "      <td>-</td>\n",
       "      <td>-</td>\n",
       "      <td>NORMAL</td>\n",
       "    </tr>\n",
       "    <tr>\n",
       "      <th>3</th>\n",
       "      <td>CTCAXUZ07071955</td>\n",
       "      <td>CTCAXUZ07071955</td>\n",
       "      <td>NORMAL</td>\n",
       "      <td>NORMAL</td>\n",
       "      <td>NORMAL</td>\n",
       "      <td>NORMAL</td>\n",
       "      <td>NORMAL</td>\n",
       "      <td>-</td>\n",
       "      <td>NORMAL</td>\n",
       "      <td>NORMAL</td>\n",
       "      <td>-</td>\n",
       "      <td>NORMAL</td>\n",
       "    </tr>\n",
       "    <tr>\n",
       "      <th>4</th>\n",
       "      <td>CTCAQUD02121959</td>\n",
       "      <td>CTCAQUD02121959</td>\n",
       "      <td>70%</td>\n",
       "      <td>NORMAL</td>\n",
       "      <td>NORMAL</td>\n",
       "      <td>-</td>\n",
       "      <td>70%</td>\n",
       "      <td>-</td>\n",
       "      <td>NORMAL</td>\n",
       "      <td>NORMAL</td>\n",
       "      <td>NORMAL</td>\n",
       "      <td>NORMAL</td>\n",
       "    </tr>\n",
       "  </tbody>\n",
       "</table>\n",
       "</div>"
      ],
      "text/plain": [
       "        PATIENT_ID        REPORT_ID     LAD     D-1     D-2     D-3     RCA  \\\n",
       "0  CTCAHER21101967  CTCAHER21101967    <25%  NORMAL       -       -  NORMAL   \n",
       "1  CTCAGRH27071943  CTCAGRH27071943  NORMAL  NORMAL       -       -       -   \n",
       "2  CTCADRG22021959  CTCADRG22021959    <25%    <25%    <25%  NORMAL    <25%   \n",
       "3  CTCAXUZ07071955  CTCAXUZ07071955  NORMAL  NORMAL  NORMAL  NORMAL  NORMAL   \n",
       "4  CTCAQUD02121959  CTCAQUD02121959     70%  NORMAL  NORMAL       -     70%   \n",
       "\n",
       "  OM     OM1     OM2     OM3     LCX  \n",
       "0  -  NORMAL       -       -  NORMAL  \n",
       "1  -  NORMAL  NORMAL       -  NORMAL  \n",
       "2  -  NORMAL       -       -  NORMAL  \n",
       "3  -  NORMAL  NORMAL       -  NORMAL  \n",
       "4  -  NORMAL  NORMAL  NORMAL  NORMAL  "
      ]
     },
     "execution_count": 45,
     "metadata": {},
     "output_type": "execute_result"
    }
   ],
   "source": [
    "# Convert proximalMidDistal string to stenosis category\n",
    "for branch in ['LAD', 'RCA', 'LCX']:\n",
    "    lad_rca_lcx[branch] = lad_rca_lcx[branch].apply(get_maximum_stenosis_score_category)\n",
    "\n",
    "remove_thrash_categories(lad_rca_lcx).head()"
   ]
  },
  {
   "cell_type": "code",
   "execution_count": 46,
   "metadata": {
    "scrolled": true
   },
   "outputs": [
    {
     "data": {
      "text/html": [
       "<div>\n",
       "<style scoped>\n",
       "    .dataframe tbody tr th:only-of-type {\n",
       "        vertical-align: middle;\n",
       "    }\n",
       "\n",
       "    .dataframe tbody tr th {\n",
       "        vertical-align: top;\n",
       "    }\n",
       "\n",
       "    .dataframe thead th {\n",
       "        text-align: right;\n",
       "    }\n",
       "</style>\n",
       "<table border=\"1\" class=\"dataframe\">\n",
       "  <thead>\n",
       "    <tr style=\"text-align: right;\">\n",
       "      <th></th>\n",
       "      <th>PATIENT_ID</th>\n",
       "      <th>REPORT_ID</th>\n",
       "      <th>LAD</th>\n",
       "      <th>D-1</th>\n",
       "      <th>D-2</th>\n",
       "      <th>D-3</th>\n",
       "      <th>RCA</th>\n",
       "      <th>OM</th>\n",
       "      <th>OM1</th>\n",
       "      <th>OM2</th>\n",
       "      <th>OM3</th>\n",
       "      <th>LCX</th>\n",
       "    </tr>\n",
       "  </thead>\n",
       "  <tbody>\n",
       "    <tr>\n",
       "      <th>0</th>\n",
       "      <td>CTCAHER21101967</td>\n",
       "      <td>CTCAHER21101967</td>\n",
       "      <td>&lt;25%</td>\n",
       "      <td>NORMAL</td>\n",
       "      <td>-</td>\n",
       "      <td>-</td>\n",
       "      <td>NORMAL</td>\n",
       "      <td>-</td>\n",
       "      <td>NORMAL</td>\n",
       "      <td>-</td>\n",
       "      <td>-</td>\n",
       "      <td>NORMAL</td>\n",
       "    </tr>\n",
       "    <tr>\n",
       "      <th>1</th>\n",
       "      <td>CTCAGRH27071943</td>\n",
       "      <td>CTCAGRH27071943</td>\n",
       "      <td>NORMAL</td>\n",
       "      <td>NORMAL</td>\n",
       "      <td>-</td>\n",
       "      <td>-</td>\n",
       "      <td>-</td>\n",
       "      <td>-</td>\n",
       "      <td>NORMAL</td>\n",
       "      <td>NORMAL</td>\n",
       "      <td>-</td>\n",
       "      <td>NORMAL</td>\n",
       "    </tr>\n",
       "    <tr>\n",
       "      <th>2</th>\n",
       "      <td>CTCADRG22021959</td>\n",
       "      <td>CTCADRG22021959</td>\n",
       "      <td>&lt;25%</td>\n",
       "      <td>&lt;25%</td>\n",
       "      <td>&lt;25%</td>\n",
       "      <td>NORMAL</td>\n",
       "      <td>&lt;25%</td>\n",
       "      <td>-</td>\n",
       "      <td>NORMAL</td>\n",
       "      <td>-</td>\n",
       "      <td>-</td>\n",
       "      <td>NORMAL</td>\n",
       "    </tr>\n",
       "    <tr>\n",
       "      <th>3</th>\n",
       "      <td>CTCAXUZ07071955</td>\n",
       "      <td>CTCAXUZ07071955</td>\n",
       "      <td>NORMAL</td>\n",
       "      <td>NORMAL</td>\n",
       "      <td>NORMAL</td>\n",
       "      <td>NORMAL</td>\n",
       "      <td>NORMAL</td>\n",
       "      <td>-</td>\n",
       "      <td>NORMAL</td>\n",
       "      <td>NORMAL</td>\n",
       "      <td>-</td>\n",
       "      <td>NORMAL</td>\n",
       "    </tr>\n",
       "    <tr>\n",
       "      <th>4</th>\n",
       "      <td>CTCAQUD02121959</td>\n",
       "      <td>CTCAQUD02121959</td>\n",
       "      <td>70%</td>\n",
       "      <td>NORMAL</td>\n",
       "      <td>NORMAL</td>\n",
       "      <td>-</td>\n",
       "      <td>70%</td>\n",
       "      <td>-</td>\n",
       "      <td>NORMAL</td>\n",
       "      <td>NORMAL</td>\n",
       "      <td>NORMAL</td>\n",
       "      <td>NORMAL</td>\n",
       "    </tr>\n",
       "  </tbody>\n",
       "</table>\n",
       "</div>"
      ],
      "text/plain": [
       "        PATIENT_ID        REPORT_ID     LAD     D-1     D-2     D-3     RCA  \\\n",
       "0  CTCAHER21101967  CTCAHER21101967    <25%  NORMAL       -       -  NORMAL   \n",
       "1  CTCAGRH27071943  CTCAGRH27071943  NORMAL  NORMAL       -       -       -   \n",
       "2  CTCADRG22021959  CTCADRG22021959    <25%    <25%    <25%  NORMAL    <25%   \n",
       "3  CTCAXUZ07071955  CTCAXUZ07071955  NORMAL  NORMAL  NORMAL  NORMAL  NORMAL   \n",
       "4  CTCAQUD02121959  CTCAQUD02121959     70%  NORMAL  NORMAL       -     70%   \n",
       "\n",
       "  OM     OM1     OM2     OM3     LCX  \n",
       "0  -  NORMAL       -       -  NORMAL  \n",
       "1  -  NORMAL  NORMAL       -  NORMAL  \n",
       "2  -  NORMAL       -       -  NORMAL  \n",
       "3  -  NORMAL  NORMAL       -  NORMAL  \n",
       "4  -  NORMAL  NORMAL  NORMAL  NORMAL  "
      ]
     },
     "execution_count": 46,
     "metadata": {},
     "output_type": "execute_result"
    }
   ],
   "source": [
    "lad_rca_lcx.head()"
   ]
  },
  {
   "cell_type": "code",
   "execution_count": 47,
   "metadata": {},
   "outputs": [],
   "source": [
    "lad_rca_lcx.rename(columns={\"OM1\": \"OM-1\", \"OM2\": \"OM-2\", \"OM3\": \"OM-3\"}, inplace=True)"
   ]
  },
  {
   "cell_type": "code",
   "execution_count": 48,
   "metadata": {},
   "outputs": [],
   "source": [
    "lad_rca_lcx.to_excel('lad_rca_lcx.xlsx')"
   ]
  },
  {
   "cell_type": "code",
   "execution_count": 26,
   "metadata": {
    "scrolled": true
   },
   "outputs": [
    {
     "ename": "ValueError",
     "evalue": "could not broadcast input array from shape (744,2) into shape (744)",
     "output_type": "error",
     "traceback": [
      "\u001b[0;31m---------------------------------------------------------------------------\u001b[0m",
      "\u001b[0;31mValueError\u001b[0m                                Traceback (most recent call last)",
      "\u001b[0;32m<ipython-input-26-be9adf28f52f>\u001b[0m in \u001b[0;36m<module>\u001b[0;34m\u001b[0m\n\u001b[1;32m      3\u001b[0m     \u001b[0;32mif\u001b[0m \u001b[0mbranch\u001b[0m \u001b[0;32min\u001b[0m \u001b[0;34m[\u001b[0m\u001b[0;34m'PATIENT_ID'\u001b[0m\u001b[0;34m,\u001b[0m \u001b[0;34m'REPORT_ID'\u001b[0m\u001b[0;34m]\u001b[0m\u001b[0;34m:\u001b[0m\u001b[0;34m\u001b[0m\u001b[0m\n\u001b[1;32m      4\u001b[0m         \u001b[0;32mcontinue\u001b[0m\u001b[0;34m\u001b[0m\u001b[0m\n\u001b[0;32m----> 5\u001b[0;31m     \u001b[0mcur_dict\u001b[0m \u001b[0;34m=\u001b[0m \u001b[0mpd\u001b[0m\u001b[0;34m.\u001b[0m\u001b[0mvalue_counts\u001b[0m\u001b[0;34m(\u001b[0m\u001b[0mlad_rca_lcx\u001b[0m\u001b[0;34m[\u001b[0m\u001b[0mbranch\u001b[0m\u001b[0;34m]\u001b[0m\u001b[0;34m)\u001b[0m\u001b[0;34m.\u001b[0m\u001b[0mto_dict\u001b[0m\u001b[0;34m(\u001b[0m\u001b[0;34m)\u001b[0m\u001b[0;34m\u001b[0m\u001b[0m\n\u001b[0m\u001b[1;32m      6\u001b[0m     \u001b[0;32mfor\u001b[0m \u001b[0mkey\u001b[0m \u001b[0;32min\u001b[0m \u001b[0mcur_dict\u001b[0m\u001b[0;34m:\u001b[0m\u001b[0;34m\u001b[0m\u001b[0m\n\u001b[1;32m      7\u001b[0m         \u001b[0;32mif\u001b[0m \u001b[0mkey\u001b[0m \u001b[0;32min\u001b[0m \u001b[0mstenosis_statistics\u001b[0m\u001b[0;34m.\u001b[0m\u001b[0mkeys\u001b[0m\u001b[0;34m(\u001b[0m\u001b[0;34m)\u001b[0m\u001b[0;34m:\u001b[0m\u001b[0;34m\u001b[0m\u001b[0m\n",
      "\u001b[0;32m~/env/lib/python3.5/site-packages/pandas/core/algorithms.py\u001b[0m in \u001b[0;36mvalue_counts\u001b[0;34m(values, sort, ascending, normalize, bins, dropna)\u001b[0m\n\u001b[1;32m    703\u001b[0m \u001b[0;34m\u001b[0m\u001b[0m\n\u001b[1;32m    704\u001b[0m         \u001b[0;32melse\u001b[0m\u001b[0;34m:\u001b[0m\u001b[0;34m\u001b[0m\u001b[0m\n\u001b[0;32m--> 705\u001b[0;31m             \u001b[0mkeys\u001b[0m\u001b[0;34m,\u001b[0m \u001b[0mcounts\u001b[0m \u001b[0;34m=\u001b[0m \u001b[0m_value_counts_arraylike\u001b[0m\u001b[0;34m(\u001b[0m\u001b[0mvalues\u001b[0m\u001b[0;34m,\u001b[0m \u001b[0mdropna\u001b[0m\u001b[0;34m)\u001b[0m\u001b[0;34m\u001b[0m\u001b[0m\n\u001b[0m\u001b[1;32m    706\u001b[0m \u001b[0;34m\u001b[0m\u001b[0m\n\u001b[1;32m    707\u001b[0m             \u001b[0;32mif\u001b[0m \u001b[0;32mnot\u001b[0m \u001b[0misinstance\u001b[0m\u001b[0;34m(\u001b[0m\u001b[0mkeys\u001b[0m\u001b[0;34m,\u001b[0m \u001b[0mIndex\u001b[0m\u001b[0;34m)\u001b[0m\u001b[0;34m:\u001b[0m\u001b[0;34m\u001b[0m\u001b[0m\n",
      "\u001b[0;32m~/env/lib/python3.5/site-packages/pandas/core/algorithms.py\u001b[0m in \u001b[0;36m_value_counts_arraylike\u001b[0;34m(values, dropna)\u001b[0m\n\u001b[1;32m    730\u001b[0m \u001b[0;34m\u001b[0m\u001b[0m\n\u001b[1;32m    731\u001b[0m     \"\"\"\n\u001b[0;32m--> 732\u001b[0;31m     \u001b[0mvalues\u001b[0m \u001b[0;34m=\u001b[0m \u001b[0m_ensure_arraylike\u001b[0m\u001b[0;34m(\u001b[0m\u001b[0mvalues\u001b[0m\u001b[0;34m)\u001b[0m\u001b[0;34m\u001b[0m\u001b[0m\n\u001b[0m\u001b[1;32m    733\u001b[0m     \u001b[0moriginal\u001b[0m \u001b[0;34m=\u001b[0m \u001b[0mvalues\u001b[0m\u001b[0;34m\u001b[0m\u001b[0m\n\u001b[1;32m    734\u001b[0m     \u001b[0mvalues\u001b[0m\u001b[0;34m,\u001b[0m \u001b[0mdtype\u001b[0m\u001b[0;34m,\u001b[0m \u001b[0mndtype\u001b[0m \u001b[0;34m=\u001b[0m \u001b[0m_ensure_data\u001b[0m\u001b[0;34m(\u001b[0m\u001b[0mvalues\u001b[0m\u001b[0;34m)\u001b[0m\u001b[0;34m\u001b[0m\u001b[0m\n",
      "\u001b[0;32m~/env/lib/python3.5/site-packages/pandas/core/algorithms.py\u001b[0m in \u001b[0;36m_ensure_arraylike\u001b[0;34m(values)\u001b[0m\n\u001b[1;32m    170\u001b[0m             \u001b[0;32mif\u001b[0m \u001b[0misinstance\u001b[0m\u001b[0;34m(\u001b[0m\u001b[0mvalues\u001b[0m\u001b[0;34m,\u001b[0m \u001b[0mtuple\u001b[0m\u001b[0;34m)\u001b[0m\u001b[0;34m:\u001b[0m\u001b[0;34m\u001b[0m\u001b[0m\n\u001b[1;32m    171\u001b[0m                 \u001b[0mvalues\u001b[0m \u001b[0;34m=\u001b[0m \u001b[0mlist\u001b[0m\u001b[0;34m(\u001b[0m\u001b[0mvalues\u001b[0m\u001b[0;34m)\u001b[0m\u001b[0;34m\u001b[0m\u001b[0m\n\u001b[0;32m--> 172\u001b[0;31m             \u001b[0mvalues\u001b[0m \u001b[0;34m=\u001b[0m \u001b[0mconstruct_1d_object_array_from_listlike\u001b[0m\u001b[0;34m(\u001b[0m\u001b[0mvalues\u001b[0m\u001b[0;34m)\u001b[0m\u001b[0;34m\u001b[0m\u001b[0m\n\u001b[0m\u001b[1;32m    173\u001b[0m         \u001b[0;32melse\u001b[0m\u001b[0;34m:\u001b[0m\u001b[0;34m\u001b[0m\u001b[0m\n\u001b[1;32m    174\u001b[0m             \u001b[0mvalues\u001b[0m \u001b[0;34m=\u001b[0m \u001b[0mnp\u001b[0m\u001b[0;34m.\u001b[0m\u001b[0masarray\u001b[0m\u001b[0;34m(\u001b[0m\u001b[0mvalues\u001b[0m\u001b[0;34m)\u001b[0m\u001b[0;34m\u001b[0m\u001b[0m\n",
      "\u001b[0;32m~/env/lib/python3.5/site-packages/pandas/core/dtypes/cast.py\u001b[0m in \u001b[0;36mconstruct_1d_object_array_from_listlike\u001b[0;34m(values)\u001b[0m\n\u001b[1;32m   1212\u001b[0m     \u001b[0;31m# making a 1D array that contains list-likes is a bit tricky:\u001b[0m\u001b[0;34m\u001b[0m\u001b[0;34m\u001b[0m\u001b[0m\n\u001b[1;32m   1213\u001b[0m     \u001b[0mresult\u001b[0m \u001b[0;34m=\u001b[0m \u001b[0mnp\u001b[0m\u001b[0;34m.\u001b[0m\u001b[0mempty\u001b[0m\u001b[0;34m(\u001b[0m\u001b[0mlen\u001b[0m\u001b[0;34m(\u001b[0m\u001b[0mvalues\u001b[0m\u001b[0;34m)\u001b[0m\u001b[0;34m,\u001b[0m \u001b[0mdtype\u001b[0m\u001b[0;34m=\u001b[0m\u001b[0;34m'object'\u001b[0m\u001b[0;34m)\u001b[0m\u001b[0;34m\u001b[0m\u001b[0m\n\u001b[0;32m-> 1214\u001b[0;31m     \u001b[0mresult\u001b[0m\u001b[0;34m[\u001b[0m\u001b[0;34m:\u001b[0m\u001b[0;34m]\u001b[0m \u001b[0;34m=\u001b[0m \u001b[0mvalues\u001b[0m\u001b[0;34m\u001b[0m\u001b[0m\n\u001b[0m\u001b[1;32m   1215\u001b[0m     \u001b[0;32mreturn\u001b[0m \u001b[0mresult\u001b[0m\u001b[0;34m\u001b[0m\u001b[0m\n\u001b[1;32m   1216\u001b[0m \u001b[0;34m\u001b[0m\u001b[0m\n",
      "\u001b[0;31mValueError\u001b[0m: could not broadcast input array from shape (744,2) into shape (744)"
     ]
    }
   ],
   "source": [
    "stenosis_statistics = {}\n",
    "for branch in lad_rca_lcx:\n",
    "    if branch in ['PATIENT_ID', 'REPORT_ID']:\n",
    "        continue\n",
    "    cur_dict = pd.value_counts(lad_rca_lcx[branch]).to_dict()\n",
    "    for key in cur_dict:\n",
    "        if key in stenosis_statistics.keys():\n",
    "            stenosis_statistics[key] += cur_dict[key]\n",
    "        else:\n",
    "            stenosis_statistics[key] = cur_dict[key]\n",
    "    del stenosis_statistics['-']\n",
    "\n"
   ]
  },
  {
   "cell_type": "code",
   "execution_count": 65,
   "metadata": {},
   "outputs": [
    {
     "data": {
      "text/plain": [
       "{'25%': 194,\n",
       " '25-50%': 352,\n",
       " '50%': 59,\n",
       " '50-70%': 161,\n",
       " '70%': 20,\n",
       " '70-90%': 68,\n",
       " '90-100%': 10,\n",
       " '<25%': 469,\n",
       " '>50%': 6,\n",
       " 'NORMAL': 3276}"
      ]
     },
     "execution_count": 65,
     "metadata": {},
     "output_type": "execute_result"
    }
   ],
   "source": [
    "normal_num = stenosis_statistics.pop('NORMAL')\n"
   ]
  },
  {
   "cell_type": "code",
   "execution_count": 66,
   "metadata": {},
   "outputs": [
    {
     "data": {
      "text/plain": [
       "<matplotlib.axes._subplots.AxesSubplot at 0x7fcb82c146d8>"
      ]
     },
     "execution_count": 66,
     "metadata": {},
     "output_type": "execute_result"
    },
    {
     "data": {
      "image/png": "[encoded data removed]",
      "text/plain": [
       "<Figure size 432x288 with 1 Axes>"
      ]
     },
     "metadata": {
      "needs_background": "light"
     },
     "output_type": "display_data"
    }
   ],
   "source": [
    "pd.Series(stenosis_statistics).plot(kind='bar')"
   ]
  },
  {
   "cell_type": "code",
   "execution_count": null,
   "metadata": {},
   "outputs": [],
   "source": []
  },
  {
   "cell_type": "markdown",
   "metadata": {},
   "source": [
    "### Questions\n",
    "\n",
    "1. Wether 25% and <25% are the same or 25% is the same as 25-50% of stenosis score?\n",
    "2. Wether 50% and 50-70% are the same or 50% means 25-50% stenosis score estimation?\n",
    "3. Wether >50% are the same as 50-70% stenosis score estimation?\n",
    "4. Wether 70% is the same as 50-70% or it is the same as >70% i.e. 70-90%?"
   ]
  },
  {
   "cell_type": "markdown",
   "metadata": {},
   "source": [
    "# OLD VERSION BELOW"
   ]
  },
  {
   "cell_type": "code",
   "execution_count": null,
   "metadata": {},
   "outputs": [],
   "source": [
    "for branch in ['LAD', 'RCA', 'LCX', 'D-1', 'D-2', 'OM', 'OM1', 'OM2', 'OM3']:\n",
    "    s = lad_rca_lcx[branch].values\n",
    "    d = {'0':1, '25':2, '25-50':3, '50':4,'50-70':5, '70':6}\n",
    "    temp = [ ''.join(re.sub('[>,%<]', ' ', el)) for el in s]\n",
    "    temp = [re.findall(r'\\d+',el) for el in temp]\n",
    "    print(temp)\n",
    "    break\n",
    "#     if branch in ['LAD', 'RCA', 'LCX']:\n",
    "#         temp = [' '.join(re.sub('[>,%<]', ' ', el).split('_')).replace('NORMAL', '0').split() for el in s]\n",
    "#         temp = [list(d.keys())[list(d.values()).index(el)] for el in temp]\n",
    "#         print(temp)\n",
    "#         temp = [max([d[i] for i in t ]) for t in temp]\n",
    "#     else:\n",
    "#         temp = ' '.join(re.sub('[>,%<]', ' ', el))\n",
    "#         s = [list(d.keys())[list(d.values()).index(el)] for el in temp]\n",
    "#     print(s)\n",
    "#     lad_rca_lcx[branch] = s"
   ]
  },
  {
   "cell_type": "markdown",
   "metadata": {},
   "source": [
    "### Merge all tables"
   ]
  },
  {
   "cell_type": "code",
   "execution_count": null,
   "metadata": {
    "scrolled": true
   },
   "outputs": [],
   "source": [
    "result = pd.merge(lad, rca, on='PATIENT_ID', suffixes=['_LAD', '_RCA'])\n",
    "result.drop(['PDA', 'PLV','D-4','D-3'], axis=1, inplace=True)\n",
    "result = pd.merge(result, lcx, on='REPORT_ID')\n",
    "\n",
    "result.drop(['PDA','PLV', 'OM'], axis=1)"
   ]
  },
  {
   "cell_type": "code",
   "execution_count": null,
   "metadata": {},
   "outputs": [],
   "source": [
    "result.head()"
   ]
  },
  {
   "cell_type": "code",
   "execution_count": null,
   "metadata": {
    "scrolled": true
   },
   "outputs": [],
   "source": [
    "lad.head()"
   ]
  },
  {
   "cell_type": "code",
   "execution_count": null,
   "metadata": {},
   "outputs": [],
   "source": [
    "rca.head()"
   ]
  },
  {
   "cell_type": "code",
   "execution_count": null,
   "metadata": {},
   "outputs": [],
   "source": [
    "lcx.head()"
   ]
  },
  {
   "cell_type": "markdown",
   "metadata": {},
   "source": [
    "# 1. Stage statistics"
   ]
  },
  {
   "cell_type": "markdown",
   "metadata": {},
   "source": [
    "### RCA"
   ]
  },
  {
   "cell_type": "code",
   "execution_count": null,
   "metadata": {},
   "outputs": [],
   "source": [
    "pd.value_counts(rca['PROXIMAL']).plot(kind='bar')"
   ]
  },
  {
   "cell_type": "code",
   "execution_count": null,
   "metadata": {},
   "outputs": [],
   "source": [
    "pd.value_counts(rca['MID']).plot(kind='bar')"
   ]
  },
  {
   "cell_type": "code",
   "execution_count": null,
   "metadata": {},
   "outputs": [],
   "source": [
    "pd.value_counts(rca['DISTAL']).plot(kind='bar')"
   ]
  },
  {
   "cell_type": "markdown",
   "metadata": {},
   "source": [
    "### LCX"
   ]
  },
  {
   "cell_type": "code",
   "execution_count": null,
   "metadata": {},
   "outputs": [],
   "source": [
    "pd.value_counts(lcx['OM']).plot(kind='bar')"
   ]
  },
  {
   "cell_type": "markdown",
   "metadata": {},
   "source": [
    "### LAD"
   ]
  },
  {
   "cell_type": "code",
   "execution_count": null,
   "metadata": {},
   "outputs": [],
   "source": [
    "pd.value_counts(lad['D-1']).plot(kind='bar')"
   ]
  },
  {
   "cell_type": "markdown",
   "metadata": {},
   "source": [
    "\n",
    "# 2. Patient statistics"
   ]
  },
  {
   "cell_type": "markdown",
   "metadata": {},
   "source": [
    "# 3. Balance positive VS negative"
   ]
  },
  {
   "cell_type": "markdown",
   "metadata": {},
   "source": [
    "# 4. Statistics per branches"
   ]
  },
  {
   "cell_type": "code",
   "execution_count": null,
   "metadata": {},
   "outputs": [],
   "source": []
  },
  {
   "cell_type": "code",
   "execution_count": null,
   "metadata": {},
   "outputs": [],
   "source": []
  }
 ],
 "metadata": {
  "kernelspec": {
   "display_name": "Python 3",
   "language": "python",
   "name": "python3"
  },
  "language_info": {
   "codemirror_mode": {
    "name": "ipython",
    "version": 3
   },
   "file_extension": ".py",
   "mimetype": "text/x-python",
   "name": "python",
   "nbconvert_exporter": "python",
   "pygments_lexer": "ipython3",
   "version": "3.5.2"
  }
 },
 "nbformat": 4,
 "nbformat_minor": 2
}
