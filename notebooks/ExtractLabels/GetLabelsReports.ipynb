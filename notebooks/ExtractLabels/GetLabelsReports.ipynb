{
 "cells": [
  {
   "cell_type": "code",
   "execution_count": 1,
   "metadata": {},
   "outputs": [],
   "source": [
    "import pandas as pd\n",
    "import numpy as np\n",
    "import os\n",
    "import shutil\n",
    "from tqdm import tqdm\n",
    "import pydicom as dicom\n",
    "\n",
    "import os\n",
    "import re\n",
    "from numpy import nan as Nan"
   ]
  },
  {
   "cell_type": "code",
   "execution_count": 2,
   "metadata": {},
   "outputs": [],
   "source": [
    "##################################### ADDITIONAL FUNCTIONS #####################################################\n",
    "\n",
    "def strip_mpr_lad_name(mpr_name):\n",
    "    \"\"\"\n",
    "    Strip MPR name of the LAD artery. We do this step because the name in the doctor's report \n",
    "    is not equal to the name in the MPR. \n",
    "    \n",
    "    Returns:\n",
    "        - str: striped string\n",
    "    \"\"\"\n",
    "    return \"\".join(mpr_name.split()).replace('*', '').replace('original', '')\n",
    "\n",
    "def read_and_strip_record(path_to_record):\n",
    "    '''\n",
    "    Read record file and remove empty rows and rows with all NaNs.\n",
    "    \n",
    "    Returns:\n",
    "        - Pandas DataFrame: \n",
    "    '''\n",
    "    excel_file = pd.read_excel(path_to_record,index_col=None, header=None)\n",
    "    excel_file.dropna(how='all')\n",
    "    excel_file.rename(columns={0: 'a', 1: 'b'}, inplace=True)\n",
    "    excel_file = excel_file.fillna('  ')\n",
    "    excel_file = excel_file.replace('', '  ', regex=True)\n",
    "    excel_file = excel_file.drop(excel_file[excel_file['a'].str.isspace()].index)\n",
    "    return excel_file\n",
    "\n",
    "def get_lad_info_from_report(striped_record, artery_type):\n",
    "    \"\"\"\n",
    "    Takes striped(without any empty lines and NaNs) and returns info only about the certain artery type. \n",
    "    \n",
    "    Returns:\n",
    "        - list: each element is the string with some info about certain artery type\n",
    "    \"\"\"\n",
    "    lad_info = []\n",
    "    wether_add = False\n",
    "    lad_info.append(striped_record.iloc[0]['b'])\n",
    "    for ind, row_value in striped_record.iterrows():\n",
    "        if wether_add and row_value['a'].isupper():\n",
    "            break\n",
    "        if wether_add:\n",
    "            lad_info.append(row_value['a'])\n",
    "        \n",
    "        if artery_type in row_value['a']:\n",
    "            wether_add = True\n",
    "    return lad_info\n",
    "\n",
    "\n",
    "def get_level_of_stenosis_from_string(artery_info):\n",
    "    \"\"\"\n",
    "    Returns:\n",
    "        - list of str: each element is the string with percentage of stenosis. \n",
    "    \"\"\"\n",
    "    return [x.strip() for x in re.findall(r'.\\d{1,3}.?\\d{1,3}\\%', artery_info)]"
   ]
  },
  {
   "cell_type": "code",
   "execution_count": 3,
   "metadata": {},
   "outputs": [],
   "source": [
    "reports_path = r'/home/petryshak/CoronaryArteryPlaqueIdentification/data/reports'\n",
    "list_of_files = os.listdir(reports_path)"
   ]
  },
  {
   "cell_type": "code",
   "execution_count": 4,
   "metadata": {},
   "outputs": [],
   "source": [
    "# GET LIST OF ALL BRANCHES OF RCA\n",
    "unique_rca = list()\n",
    "for i in range(len(list_of_files)):\n",
    "    try:\n",
    "        cur_report_name = list_of_files[i]\n",
    "        cur_file = read_and_strip_record(os.path.join(reports_path, cur_report_name))\n",
    "        cur_patient_info = get_lad_info_from_report(cur_file, 'RIGHT CORONARY')\n",
    "        cur_patient_info.pop(0)\n",
    "        for name in [el.split(' -')[0] for el in cur_patient_info]:\n",
    "            new_branch = name.lstrip()\n",
    "            if len(new_branch) < 20 and '.' not in new_branch:\n",
    "                unique_rca.append(new_branch)\n",
    "    except:\n",
    "        print('Error!')"
   ]
  },
  {
   "cell_type": "code",
   "execution_count": 5,
   "metadata": {
    "scrolled": true
   },
   "outputs": [],
   "source": [
    "# GET LIST OF ALL BRANCHES OF LEFT CIRCUMFLEX \n",
    "unique_lcx = list()\n",
    "for i in range(len(list_of_files)):\n",
    "    try:\n",
    "        cur_report_name = list_of_files[i]\n",
    "        cur_file = read_and_strip_record(os.path.join(reports_path, cur_report_name))\n",
    "        cur_patient_info = get_lad_info_from_report(cur_file, 'LEFT CIRCUMFLEX')\n",
    "        cur_patient_info.pop(0)\n",
    "        for name in [el.split(' -')[0] for el in cur_patient_info]:\n",
    "            new_branch = name.lstrip()\n",
    "            if len(new_branch) < 20 and '.' not in new_branch:\n",
    "                unique_lcx.append(new_branch)\n",
    "    except:\n",
    "        print('Error!')"
   ]
  },
  {
   "cell_type": "code",
   "execution_count": 6,
   "metadata": {},
   "outputs": [
    {
     "data": {
      "text/plain": [
       "Index(['Proximal', 'OM1', 'Distal', 'OM2', 'OM3', 'PDA', 'PLV', 'PL'], dtype='object')"
      ]
     },
     "execution_count": 6,
     "metadata": {},
     "output_type": "execute_result"
    }
   ],
   "source": [
    "# UNIQUE LCX SECTIONS in REPORTS\n",
    "pd.Series(unique_lcx).value_counts()[pd.Series(unique_lcx).value_counts() > 20].index"
   ]
  },
  {
   "cell_type": "code",
   "execution_count": 7,
   "metadata": {},
   "outputs": [
    {
     "data": {
      "text/plain": [
       "Index(['Proximal', 'Distal', 'Mid', 'PDA', 'PLV'], dtype='object')"
      ]
     },
     "execution_count": 7,
     "metadata": {},
     "output_type": "execute_result"
    }
   ],
   "source": [
    "# UNIQUE RCA SECTIONS in REPORTS\n",
    "pd.Series(unique_rca).value_counts()[pd.Series(unique_rca).value_counts() > 5].index"
   ]
  },
  {
   "cell_type": "code",
   "execution_count": 8,
   "metadata": {},
   "outputs": [],
   "source": [
    "# UNIQUE BRANCHES in IMAGES\n",
    "# unique_branches_images = pd.read_csv('num_unique_branches.csv')"
   ]
  },
  {
   "cell_type": "code",
   "execution_count": 14,
   "metadata": {},
   "outputs": [
    {
     "name": "stderr",
     "output_type": "stream",
     "text": [
      "  2%|▏         | 16/744 [00:00<00:09, 74.98it/s]"
     ]
    },
    {
     "name": "stdout",
     "output_type": "stream",
     "text": [
      "CTCAHER21101967\n",
      "CTCAGRH27071943\n",
      "CTCADRG22021959\n",
      "CTCAXUZ07071955\n",
      "CTCAQUD02121959\n",
      "CTCAOSP05031947\n",
      "CTCAHIP19061975\n",
      "CTCAMCF02061941\n",
      "CTCAKAG20081953\n",
      "CTCASHZ19081947\n",
      "CTCAVIC18091963\n",
      "CTCACUY07051952\n",
      "CTCAAND19041968\n",
      "CTCAGRP22061951\n",
      "CTCABRV22041952\n",
      "CTCASIK14121953\n"
     ]
    },
    {
     "name": "stderr",
     "output_type": "stream",
     "text": [
      "  4%|▍         | 31/744 [00:00<00:09, 72.13it/s]"
     ]
    },
    {
     "name": "stdout",
     "output_type": "stream",
     "text": [
      "1020 CTCA1963\n",
      "CTCABUT30081955\n",
      "CTCAROJ23091952\n",
      "CTCAMOW12101970\n",
      "CTCAABK06031973\n",
      "1026 CTCA1953\n",
      "CTCASTR17021954\n",
      "CTCAFIM15041952\n",
      "CTCACOD18031960\n",
      "CTCABAD21091949\n",
      "CTCAHUR24071959\n",
      "CTCALID30101976\n",
      "CTCAHAF13091949\n",
      "CTCAWED27071959\n",
      "1044 CTCA1967\n"
     ]
    },
    {
     "name": "stderr",
     "output_type": "stream",
     "text": [
      "  6%|▋         | 47/744 [00:00<00:09, 74.37it/s]"
     ]
    },
    {
     "name": "stdout",
     "output_type": "stream",
     "text": [
      "CTCA20011971\n",
      "CTCAROM11031942\n",
      "CTCAGAM01121957\n",
      "CTCADIG09091944\n",
      "CTCABIA20011955\n",
      "CTCAMOV27061944\n",
      "1002 CTCA1955\n",
      "CTCAHOR25041945\n",
      "CTCAMOR21071983\n",
      "CTCACOA15011958\n",
      "CTCABAB18031970\n",
      "CTCALES06081963\n",
      "CTCASKF31031950\n",
      "CTCACAS09041982\n",
      "CTCAGOA24091965\n",
      "CTCASAI16101954\n"
     ]
    },
    {
     "name": "stderr",
     "output_type": "stream",
     "text": [
      "  8%|▊         | 63/744 [00:00<00:09, 75.60it/s]"
     ]
    },
    {
     "name": "stdout",
     "output_type": "stream",
     "text": [
      "1037 CTCA1969\n",
      "CTCABAS19021964\n",
      "CTCACHA31011951\n",
      "CTCACAP30091958\n",
      "CTCABAS25051953\n",
      "CTCACRD12031954\n",
      "CTCAMOG10091935\n",
      "CTCADUM13041972\n",
      "CTCASIN15081948\n",
      "CTCADOJ09111951\n",
      "CTCATHJ17011957\n",
      "CTCAJONM04111950\n",
      "CTCABAJ03111955\n",
      "CTCAGAK23041963\n",
      "CTCAWUK05041963\n",
      "CTCAHIB10121959\n",
      "CTCAHUG25081941\n"
     ]
    },
    {
     "name": "stderr",
     "output_type": "stream",
     "text": [
      " 11%|█         | 79/744 [00:01<00:08, 75.52it/s]"
     ]
    },
    {
     "name": "stdout",
     "output_type": "stream",
     "text": [
      "CTCABAU12091968\n",
      "CTCACEI01071940\n",
      "CTCACAS11041945\n",
      "1019 CTCA1960\n",
      "CTCAPAS13121955\n",
      "CTCAARD10111950\n",
      "CTCAPRN24101949\n",
      "CTCABOM03071955\n",
      "CTCABOF07081953\n",
      "CTCAMIV03101952\n",
      "CTCANAA25091925\n",
      "CTCATHR12061965\n",
      "CTCACHY14101949\n",
      "CTCAGOD07121961\n",
      "CTCADEW30121968\n"
     ]
    },
    {
     "name": "stderr",
     "output_type": "stream",
     "text": [
      "\r",
      " 12%|█▏        | 87/744 [00:01<00:09, 71.14it/s]"
     ]
    },
    {
     "name": "stdout",
     "output_type": "stream",
     "text": [
      "CTCAWIT08081971\n",
      "1033 CTCA1945\n",
      "CTCAABU16111967\n",
      "CTCADHAG13081961\n",
      "1046 CTCA1964\n",
      "CTCASTP11041948\n",
      "CTCASCN04121966\n",
      "CTCAFAI15031978\n",
      "CTCASTW15121946\n",
      "CTCAJAD01031956\n",
      "CTCAKAD01081968\n",
      "1041 CTCA1964\n",
      "CTCALEX19121968\n",
      "1053 CTCA1979\n",
      "CTCAPAH25051962\n"
     ]
    },
    {
     "name": "stderr",
     "output_type": "stream",
     "text": [
      " 14%|█▍        | 103/744 [00:01<00:08, 73.60it/s]"
     ]
    },
    {
     "name": "stdout",
     "output_type": "stream",
     "text": [
      "CTCANGT01051968\n",
      "CTCAMOC16041942\n",
      "CTCAMCB11031950\n",
      "1031 CTCA1967\n",
      "CTCAKIT24071959\n",
      "1045 CTCA1950\n",
      "CTCADAR31081968\n",
      "CTCAPUJ05021952\n",
      "CTCAGRA18051968\n",
      "CTCAHUJ15101954\n",
      "CTCAANV13011954\n",
      "CTCAHAE26121983\n",
      "CTCABEL03111978\n",
      "CTCACAR02091949\n",
      "CTCAMAE11081949\n",
      "CTCATRH02061949\n"
     ]
    },
    {
     "name": "stderr",
     "output_type": "stream",
     "text": [
      " 16%|█▌        | 119/744 [00:01<00:08, 75.14it/s]"
     ]
    },
    {
     "name": "stdout",
     "output_type": "stream",
     "text": [
      "CTCABLB03011936\n",
      "CTCADIJ24101985\n",
      "CTCAZAS01111946\n",
      "1063 CTCA1979\n",
      "CTCAALJ04071966\n",
      "CTCALAC24101956\n",
      "CTCAMOE07031963\n",
      "CTCACAG11081945\n",
      "CTCAAVH30091974\n",
      "CTCAPRR29101944\n",
      "CTCAMAT14101964\n",
      "CTCAKOK28071950\n",
      "CTCAPRD05011942\n",
      "CTCAELR05061973\n",
      "CTCANID17011976\n",
      "CTCASAR26091960\n"
     ]
    },
    {
     "name": "stderr",
     "output_type": "stream",
     "text": [
      " 18%|█▊        | 135/744 [00:01<00:08, 73.55it/s]"
     ]
    },
    {
     "name": "stdout",
     "output_type": "stream",
     "text": [
      "CTCATAA28071960\n",
      "CTCADAN16011945\n",
      "CTCAGIJ28071948\n",
      "CTCAFAJ25011956\n",
      "CTCAHEJ29071947\n",
      "CTCAPEP30101982\n",
      "CTCAXIP08011952\n",
      "CTCAPHT13091968\n",
      "CTCAPOA11041950\n",
      "CTCATRM17041959\n",
      "CTCAGRS22121954\n",
      "CTCAYAX04121967\n",
      "CTCACOC31031962\n",
      "CTCACOV07031950\n",
      "CTCAGOS05111954\n"
     ]
    },
    {
     "name": "stderr",
     "output_type": "stream",
     "text": [
      " 20%|██        | 151/744 [00:02<00:07, 74.41it/s]"
     ]
    },
    {
     "name": "stdout",
     "output_type": "stream",
     "text": [
      "CTCAVAV21041974\n",
      "CTCASIB31121979\n",
      "CTCAEWG11041952\n",
      "CTCAGIM19101962\n",
      "CTCATOJ08041973\n",
      "CTCALIM04031966\n",
      "CTCABRL10121958\n",
      "CTCABIA20051940\n",
      "CTCAWOT09081947\n",
      "CTCAVEC19021971\n",
      "CTCATUQ02091955\n",
      "CTCATIS27021946\n",
      "CTCAALR18121945\n",
      "CTCAHEM27111973\n",
      "CTCATRM02031956\n",
      "1066 CTCA1963\n"
     ]
    },
    {
     "name": "stderr",
     "output_type": "stream",
     "text": [
      " 22%|██▏       | 167/744 [00:02<00:07, 74.60it/s]"
     ]
    },
    {
     "name": "stdout",
     "output_type": "stream",
     "text": [
      "CTCALYP04021962\n",
      "CTCASAM15101957\n",
      "CTCAREJ13011964\n",
      "CTCATRD05041958\n",
      "CTCAMCD18111977\n",
      "CTCAHEY04071964\n",
      "CTCAEIA13071967\n",
      "CTCADAM16061964\n",
      "CTCAKEP15081962\n",
      "CTCAMCR11051947\n",
      "1028 CTCA1964\n",
      "CTCAMAM06011952\n",
      "CTCAHOK10051952\n",
      "CTCARUN29081958\n",
      "CTCABLG12101945\n",
      "CTCABAN15051969\n"
     ]
    },
    {
     "name": "stderr",
     "output_type": "stream",
     "text": [
      " 25%|██▍       | 183/744 [00:02<00:07, 74.69it/s]"
     ]
    },
    {
     "name": "stdout",
     "output_type": "stream",
     "text": [
      "CTCAZAM03011951\n",
      "CTCASAR15101938\n",
      "CTCADED23081947\n",
      "CTCADRC03011954\n",
      "CTCAGAE16091970\n",
      "1014 CTCA1950\n",
      "CTCAALR27081972\n",
      "CTCAROM04021952\n",
      "CTCAHOE06011952\n",
      "CTCABOJ02101965\n",
      "CTCAINJ15061951\n",
      "CTCADES05101972\n",
      "CTCATOL08041984\n",
      "CTCAUMD28031950\n",
      "CTCATRH14021945\n"
     ]
    },
    {
     "name": "stderr",
     "output_type": "stream",
     "text": [
      " 27%|██▋       | 199/744 [00:02<00:07, 73.85it/s]"
     ]
    },
    {
     "name": "stdout",
     "output_type": "stream",
     "text": [
      "CTCAKAJ12021946\n",
      "1011 CTCA1966\n",
      "CTCAWUJ01041970\n",
      "CTCAMCJ29041973\n",
      "CTCABLG30101947\n",
      "CTCASCF04051972\n",
      "CTCAPAB25021966\n",
      "CTCAHAP22031954\n",
      "CTCACOC13081966\n",
      "CTCADIM19081959\n",
      "CTCALED04121967\n",
      "CTCAARA22081947\n",
      "1025 CTCA1973\n",
      "CTCAMUC23091956\n",
      "CTCAKOR23091950\n",
      "CTCALOL05111960\n"
     ]
    },
    {
     "name": "stderr",
     "output_type": "stream",
     "text": [
      " 29%|██▉       | 215/744 [00:02<00:07, 75.06it/s]"
     ]
    },
    {
     "name": "stdout",
     "output_type": "stream",
     "text": [
      "CTCASIP17081980\n",
      "CTCAYAY28011972\n",
      "CTCACOA05051980\n",
      "CTCAODJ09091954\n",
      "1051 CTCA1940\n",
      "CTCADUC28011969\n",
      "CTCADES01051972\n",
      "CTCASAR25081950\n",
      "CTCAALR31101986\n",
      "CTCAFOJ19021975\n",
      "CTCAVAH09071948\n",
      "CTCAZOD18071961\n",
      "1010 CTCA1952\n",
      "CTCARAA13051979\n",
      "CTCACHS06011940\n",
      "CTCAGUN15021975\n"
     ]
    },
    {
     "name": "stderr",
     "output_type": "stream",
     "text": [
      " 31%|███       | 231/744 [00:03<00:06, 75.65it/s]"
     ]
    },
    {
     "name": "stdout",
     "output_type": "stream",
     "text": [
      "CTCASMG29031951\n",
      "CTCABAT27011976\n",
      "CTCADOL12081970\n",
      "CTCADJG28091949\n",
      "CTCADEB14021972\n",
      "CTCAJEA09111957\n",
      "CTCALIM27071947\n",
      "CTCAPID12031963\n",
      "CTCAAID19041953\n",
      "CTCASIP30041975\n",
      "CTCASAM23081952\n",
      "CTCAYEL10021947\n",
      "CTCATHM25111962\n",
      "CTCAWIS30071966\n",
      "CTCABIY07041951\n",
      "CTCAGUK01051961\n"
     ]
    },
    {
     "name": "stderr",
     "output_type": "stream",
     "text": [
      " 33%|███▎      | 247/744 [00:03<00:06, 73.93it/s]"
     ]
    },
    {
     "name": "stdout",
     "output_type": "stream",
     "text": [
      "CTCAEAL11071946\n",
      "CTCAFAR17121938\n",
      "CTCAJIH04111954\n",
      "CTCABRK09121977\n",
      "CTCABUS16061963\n",
      "CTCABIJ11051956\n",
      "CTCADER26031967\n",
      "CTCAOBA05021946\n",
      "CTCAKAM12031972\n",
      "CTCALUX13101950\n",
      "CTCANGM17081945\n",
      "CTCAANK23101957\n",
      "1054 CTCA1953\n",
      "CTCAALC04021959\n",
      "CTCACOS28101950\n"
     ]
    },
    {
     "name": "stderr",
     "output_type": "stream",
     "text": [
      " 35%|███▌      | 263/744 [00:03<00:06, 75.07it/s]"
     ]
    },
    {
     "name": "stdout",
     "output_type": "stream",
     "text": [
      "CTCAZOF20051940\n",
      "CTCAJAC22091959\n",
      "CTCAWAK11061958\n",
      "CTCAHOC02031957\n",
      "CTCASTE11081946\n",
      "1052 CTCA1957\n",
      "CTCAHUW03041988\n",
      "CTCABOM15031948\n",
      "CTCATRH10061944\n",
      "CTCARAT29031953\n",
      "CTCALOJ20051936\n",
      "CTCALAR04081987\n",
      "CTCAFRP12041968\n",
      "CTCAMIK02071954\n",
      "CTCACHK07111955\n",
      "CTCAFRD01071967\n"
     ]
    },
    {
     "name": "stderr",
     "output_type": "stream",
     "text": [
      " 38%|███▊      | 279/744 [00:03<00:06, 75.56it/s]"
     ]
    },
    {
     "name": "stdout",
     "output_type": "stream",
     "text": [
      "CTCAQUM09101945\n",
      "CTCABOM03051933\n",
      "CTCADAJ03121967\n",
      "CTCASOH10051949\n",
      "CTCAHOJ02091938\n",
      "CTCAPOR20061944\n",
      "CTCAZSR26031950\n",
      "CTCAYOP20011964\n",
      "CTCATSR04011957\n",
      "CTCAZHX30011957\n",
      "CTCACHD22121964\n",
      "CTCAWHN01061948\n",
      "Error!\n",
      "1067 CTCA1946\n",
      "CTCAJOK16081964\n",
      "CTCAMIJ01011949\n"
     ]
    },
    {
     "name": "stderr",
     "output_type": "stream",
     "text": [
      " 40%|███▉      | 295/744 [00:03<00:06, 73.85it/s]"
     ]
    },
    {
     "name": "stdout",
     "output_type": "stream",
     "text": [
      "CTCALOR28041951\n",
      "CTCABLI29061978\n",
      "CTCACAM19011957\n",
      "CTCACAA05121944\n",
      "CTCASPHD16081938\n",
      "CTCAYOG08091955\n",
      "CTCABUL19101948\n",
      "CTCAKEM21011954\n",
      "CTCAFRZ25041962\n",
      "CTCAELS01121969\n",
      "CTCAALJ05061968\n",
      "CTCACUM29011952\n",
      "CTCANIN05021971\n",
      "CTCAPAP16061962\n",
      "CTCAIAM10111964\n",
      "1021 CTCA1957\n"
     ]
    },
    {
     "name": "stderr",
     "output_type": "stream",
     "text": [
      " 42%|████▏     | 311/744 [00:04<00:05, 74.72it/s]"
     ]
    },
    {
     "name": "stdout",
     "output_type": "stream",
     "text": [
      "CTCAPOT29031971\n",
      "CTCAGAB19091982\n",
      "CTCAVAA12021957\n",
      "CTCANIB03021959\n",
      "CTCABAS07091965\n",
      "CTCABUA19081963\n",
      "CTCABAL17031943\n",
      "CTCACHT10121950\n",
      "CTCABOC04051952\n",
      "CTCASAJ20051973\n",
      "CTCAMAC08071949\n",
      "CTCAROF27081939\n",
      "CTCALOC04031955\n",
      "CTCADIE26111971\n",
      "CTCABIV01071975\n",
      "1017 CTCA1965\n"
     ]
    },
    {
     "name": "stderr",
     "output_type": "stream",
     "text": [
      " 44%|████▍     | 327/744 [00:04<00:05, 75.65it/s]"
     ]
    },
    {
     "name": "stdout",
     "output_type": "stream",
     "text": [
      "CTCAWIA16091949\n",
      "CTCAOLM18061959\n",
      "CTCAKNJ05061962\n",
      "CTCAMIJ24121949\n",
      "1068 CTCA1965\n",
      "CTCARYA14051975\n",
      "1038 CTCA1979\n",
      "CTCAROS28091967\n",
      "CTCALAN28121951\n",
      "CTCAMCM13101965\n",
      "CTCADOC01011939\n",
      "CTCALIS10071959\n",
      "CTCAPWG15041947\n",
      "CTCANIG15071969\n",
      "CTCAFON19121956\n"
     ]
    },
    {
     "name": "stderr",
     "output_type": "stream",
     "text": [
      " 46%|████▌     | 343/744 [00:04<00:05, 72.90it/s]"
     ]
    },
    {
     "name": "stdout",
     "output_type": "stream",
     "text": [
      "CTCALAS15021963\n",
      "CTCAWIM24071960\n",
      "CTCAYUH07051951\n",
      "CTCAREL07111960\n",
      "CTCADER07041933\n",
      "CTCAJOS19101956\n",
      "CTCANIN21061961\n",
      "CTCALAM11041957\n",
      "1055 CTCA1940\n",
      "CTCAFLA01021951\n",
      "CTCANAI09081957\n",
      "CTCAMCE16031959\n",
      "CTCAKRR04101944\n",
      "CTCAALJ09041974\n",
      "CTCARYM13031960\n",
      "CTCAMUJ26121935\n"
     ]
    },
    {
     "name": "stderr",
     "output_type": "stream",
     "text": [
      " 48%|████▊     | 359/744 [00:04<00:05, 73.84it/s]"
     ]
    },
    {
     "name": "stdout",
     "output_type": "stream",
     "text": [
      "CTCACON15031968\n",
      "1006 CTCA1961\n",
      "CTCAPUP12081941\n",
      "CTCAWHG07051947\n",
      "CTCACOJ19041959\n",
      "CTCASUP18091942\n",
      "CTCAVES16111953\n",
      "CTCAMID23021968\n",
      "CTCAPAP26101958\n",
      "CTCALIY25101936\n",
      "CTCANIC06071977\n",
      "CTCAWAG26031956\n",
      "1056 CTCA1975\n",
      "CTCACAS02111945\n",
      "CTCADEA11031934\n",
      "CTCAKEA21071963\n"
     ]
    },
    {
     "name": "stderr",
     "output_type": "stream",
     "text": [
      " 50%|█████     | 375/744 [00:05<00:05, 72.36it/s]"
     ]
    },
    {
     "name": "stdout",
     "output_type": "stream",
     "text": [
      "CTCAHAM12031963\n",
      "CTCALAM07041983\n",
      "CTCANAM01011958\n",
      "1065 CTCA1975\n",
      "CTCAPHM02051973\n",
      "CTCATRH28111961\n",
      "CTCAEUJ28061947\n",
      "CTCASTP26091970\n",
      "CTCAATJ12091964\n",
      "CTCASAD22031955\n",
      "CTCAWAL11031957\n",
      "CTCAFOA17071936\n",
      "1022 CTCA1970\n",
      "CTCASMW25011965\n",
      "CTCANGD08021962\n",
      "CTCASCG29081959\n"
     ]
    },
    {
     "name": "stderr",
     "output_type": "stream",
     "text": [
      " 53%|█████▎    | 391/744 [00:05<00:04, 73.96it/s]"
     ]
    },
    {
     "name": "stdout",
     "output_type": "stream",
     "text": [
      "CTCACLM08111963\n",
      "CTCAREA01101963\n",
      "CTCAOZA25051960\n",
      "CTCAANM20091965\n",
      "CTCAPHN24041956\n",
      "CTCAERE19041969\n",
      "CTCAAVE26051952\n",
      "CTCASHK01071965\n",
      "CTCALIY07061941\n",
      "CTCASAA16011948\n",
      "CTCAGOJ04081950\n",
      "CTCAYEA25021959\n",
      "CTCAKAM05041965\n",
      "CTCAFIF29081962\n",
      "CTCALEH15091954\n"
     ]
    },
    {
     "name": "stderr",
     "output_type": "stream",
     "text": [
      " 55%|█████▍    | 407/744 [00:05<00:04, 69.73it/s]"
     ]
    },
    {
     "name": "stdout",
     "output_type": "stream",
     "text": [
      "CTCAWOD25061972\n",
      "CTCALEP19021961\n",
      "CTCAHUL31121979\n",
      "1030 CTCA1942\n",
      "CTCANOT29121954\n",
      "DOP23111947\n",
      "1007 CTCA1959\n",
      "CTCARUE27031956\n",
      "CTCALIG23101958\n",
      "1029 CTCA1946\n",
      "CTCALOG09081952\n",
      "CTCAWOJ08061951\n",
      "1043 CTCA1947\n",
      "CTCAONK14021969\n",
      "CTCADIK26091982\n"
     ]
    },
    {
     "name": "stderr",
     "output_type": "stream",
     "text": [
      " 57%|█████▋    | 423/744 [00:05<00:04, 71.28it/s]"
     ]
    },
    {
     "name": "stdout",
     "output_type": "stream",
     "text": [
      "CTCAHAK07071989\n",
      "CTCAPER20051953\n",
      "CTCAFIL30091959\n",
      "CTCACLP03101964\n",
      "CTCAGHR05051944\n",
      "1013 CTCA1968\n",
      "CTCAMIA19051956\n",
      "CTCACHJ03051975\n",
      "CTCAABS20051975\n",
      "CTCAALS10011968\n",
      "CTCADEW15091966\n",
      "CTCATRK08061957\n",
      "CTCABIG08081948\n",
      "CTCATAY21121955\n",
      "CTCAGHS23011946\n"
     ]
    },
    {
     "name": "stderr",
     "output_type": "stream",
     "text": [
      "\r",
      " 58%|█████▊    | 431/744 [00:05<00:04, 72.30it/s]"
     ]
    },
    {
     "name": "stdout",
     "output_type": "stream",
     "text": [
      "CTCAGRK05051966\n",
      "CTCACOL20081960\n",
      "CTCAWAD12111978\n",
      "CTCARUJ13031970\n",
      "CTCASAF08011966\n",
      "CTCAMAB06011971\n",
      "CTCAKAA04061988\n",
      "CTCALEK24101973\n",
      "CTCASAA04021955\n",
      "CTCALIH29011953\n",
      "CTCAYOA13121966\n",
      "CTCATAL16071942\n",
      "CTCAKOG14041971\n",
      "CTCANIJ16061961\n",
      "CTCAANJ15011966\n",
      "CTCALIH01041952\n"
     ]
    },
    {
     "name": "stderr",
     "output_type": "stream",
     "text": [
      " 60%|██████    | 447/744 [00:06<00:04, 69.16it/s]"
     ]
    },
    {
     "name": "stdout",
     "output_type": "stream",
     "text": [
      "1059 CTCA1948\n",
      "CTCADUN02091949\n",
      "CTCAYOM21111962\n",
      "CTCASAC09091967\n",
      "CTCAALK23011941\n",
      "CTCAWIA26081961\n",
      "1060 CTCA1959\n",
      "CTCADES01091969\n",
      "CTCACUJ26111956\n",
      "CTCATUJ10031952\n",
      "CTCACAL06051964\n",
      "CTCACUL11051976\n",
      "CTCASHJ10081965\n",
      "CTCAFIR29061959\n"
     ]
    },
    {
     "name": "stderr",
     "output_type": "stream",
     "text": [
      " 62%|██████▏   | 463/744 [00:06<00:03, 72.56it/s]"
     ]
    },
    {
     "name": "stdout",
     "output_type": "stream",
     "text": [
      "CTCAMCJ03111971\n",
      "CTCANIP30061951\n",
      "1042 CTCA1963\n",
      "CTCACAG10091951\n",
      "1057 CTCA1970\n",
      "CTCAABA15071978\n",
      "CTCABAD05021966\n",
      "CTCAHAM21081956\n",
      "CTCAHAA12121955\n",
      "CTCADEE10061964\n",
      "CTCASPF22031950\n",
      "CTCANGJ21101965\n",
      "CTCANGD08031959\n",
      "CTCACAM19071962\n",
      "CTCAAMJ02121958\n",
      "CTCABLM10031948\n"
     ]
    },
    {
     "name": "stderr",
     "output_type": "stream",
     "text": [
      " 64%|██████▍   | 479/744 [00:06<00:03, 74.60it/s]"
     ]
    },
    {
     "name": "stdout",
     "output_type": "stream",
     "text": [
      "CTCAWIW03091957\n",
      "CTCARUM21071960\n",
      "CTCASUR08101955\n",
      "CTCALAS26031955\n",
      "CTCAKIM10051959\n",
      "CTCAROA25111965\n",
      "CTCAKUJ26101958\n",
      "CTCALIJ25091960\n",
      "CTCAGAM07071954\n",
      "1027 CTCA1965\n",
      "CTCAFRD03031970\n",
      "CTCALAN17091954\n",
      "1008 CTCA1953\n",
      "CTCAMOM16071939\n",
      "CTCACHN27011976\n",
      "CTCAMAJ11101955\n"
     ]
    },
    {
     "name": "stderr",
     "output_type": "stream",
     "text": [
      " 67%|██████▋   | 495/744 [00:06<00:03, 74.07it/s]"
     ]
    },
    {
     "name": "stdout",
     "output_type": "stream",
     "text": [
      "CTCADUS31011959\n",
      "CTCALIT24011959\n",
      "1062 CTCA1950\n",
      "1049 CTCA1948\n",
      "CTCAGOD16101961\n",
      "CTCAPIH03011940\n",
      "CTCABUL09101957\n",
      "CTCASUM14111968\n",
      "CTCASOA02031935\n",
      "CTCAKAG03101958\n",
      "CTCABIM05031976\n",
      "CTCAREM16071951\n",
      "CTCAGRK16111978\n",
      "CTCAFUK23081966\n",
      "CTCAROD03071963\n"
     ]
    },
    {
     "name": "stderr",
     "output_type": "stream",
     "text": [
      " 69%|██████▊   | 511/744 [00:06<00:03, 74.88it/s]"
     ]
    },
    {
     "name": "stdout",
     "output_type": "stream",
     "text": [
      "CTCAFOL20081954\n",
      "CTCABAR15031947\n",
      "CTCALOC30081957\n",
      "CTCAPAD28111958\n",
      "CTCAHAM28051973\n",
      "CTCACHD05011974\n",
      "CTCAMAJ25091943\n",
      "CTCAMEJ30111966\n",
      "1039 CTCA1962\n",
      "CTCAFAM14021944\n",
      "CTCAZDV13081958\n",
      "1050 CTCA1970\n",
      "CTCABUK10061941\n",
      "CTCASEA22051965\n",
      "CTCARON05071963\n",
      "CTCABEJ27081974\n"
     ]
    },
    {
     "name": "stderr",
     "output_type": "stream",
     "text": [
      " 71%|███████   | 527/744 [00:07<00:02, 75.20it/s]"
     ]
    },
    {
     "name": "stdout",
     "output_type": "stream",
     "text": [
      "CTCAMAA21091962\n",
      "CTCASHI20071976\n",
      "CTCABRR26081951\n",
      "CTCAHOR03051964\n",
      "1032 CTCA1953\n",
      "CTCAJAB03061972\n",
      "CTCAHAN06081951\n",
      "CTCASSTR19121963\n",
      "CTCABIK30071951\n",
      "CTCAJOJ18081952\n",
      "CTCAYAH26091963\n",
      "CTCATKR01031953\n",
      "1034 CTCA1968\n",
      "CTCAWID07011953\n",
      "CTCAPAE18101950\n",
      "CTCABIS12031974\n"
     ]
    },
    {
     "name": "stderr",
     "output_type": "stream",
     "text": [
      " 73%|███████▎  | 543/744 [00:07<00:02, 75.55it/s]"
     ]
    },
    {
     "name": "stdout",
     "output_type": "stream",
     "text": [
      "CTCAWII29041949\n",
      "CTCALYK26111949\n",
      "CTCAMAD11101958\n",
      "CTCABLP12071954\n",
      "CTCADID11041947\n",
      "CTCATOB10071953\n",
      "CTCAARV06091960\n",
      "CTCAOBO09071956\n",
      "CTCADIJ01051959\n",
      "CTCABRA09051945\n",
      "1048 CTCA1969\n",
      "CTCAREK14091958\n",
      "1036 CTCA1958\n",
      "CTCASZM03081953\n",
      "CTCASAB26021963\n"
     ]
    },
    {
     "name": "stderr",
     "output_type": "stream",
     "text": [
      " 75%|███████▌  | 559/744 [00:07<00:02, 74.99it/s]"
     ]
    },
    {
     "name": "stdout",
     "output_type": "stream",
     "text": [
      "CTCAFIJ20051944\n",
      "1024 CTCA1947\n",
      "CTCAAMP05021943\n",
      "CTCAXUG17101957\n",
      "CTCAAND23011985\n",
      "CTCASTS01111969\n",
      "CTCAMUF24011960\n",
      "CTCASTB22081954\n",
      "CTCAJON06051958\n",
      "CTCAMEL16071958\n",
      "1061 CTCA1958\n",
      "CTCAGOJ29111988\n",
      "CTCASHA02091971\n",
      "CTCASSCK30061977\n",
      "CTCAARM02111955\n",
      "CTCAMAJ16011947\n"
     ]
    },
    {
     "name": "stderr",
     "output_type": "stream",
     "text": [
      " 77%|███████▋  | 575/744 [00:07<00:02, 75.87it/s]"
     ]
    },
    {
     "name": "stdout",
     "output_type": "stream",
     "text": [
      "CTCAWAB12121964\n",
      "CTCASAM14101958\n",
      "CTCAGAL26021950\n",
      "CTCATIR05011973\n",
      "CTCAPAP02011978\n",
      "CTCACOP16111942\n",
      "CTCASPI20121934\n",
      "CTCABOJ10101974\n",
      "CTCALYM29101955\n",
      "CTCASMR20051961\n",
      "CTCAINM24101943\n",
      "CTCAPAM11021971\n",
      "CTCAHEH18071972\n",
      "1035 CTCA1963\n",
      "CTCAOSO06031956\n",
      "CTCAGEW21051949\n"
     ]
    },
    {
     "name": "stderr",
     "output_type": "stream",
     "text": [
      " 79%|███████▉  | 591/744 [00:07<00:02, 76.43it/s]"
     ]
    },
    {
     "name": "stdout",
     "output_type": "stream",
     "text": [
      "CTCAJOJ30031955\n",
      "CTCADAP31101957\n",
      "CTCAWOI17051966\n",
      "CTCAHAM24121959\n",
      "CTCAFAS30041953\n",
      "CTCAOBT05091952\n",
      "CTCACAS22071957\n",
      "CTCATRA27081947\n",
      "CTCALIJ25121960\n",
      "CTCABAD21031971\n",
      "CTCAPOD03051961\n",
      "CTCADIH01051966\n",
      "CTCAATC18051949\n",
      "CTCACLM20011937\n",
      "CTCAKEK18041957\n",
      "CTCADSM27111962\n"
     ]
    },
    {
     "name": "stderr",
     "output_type": "stream",
     "text": [
      " 82%|████████▏ | 607/744 [00:08<00:01, 72.54it/s]"
     ]
    },
    {
     "name": "stdout",
     "output_type": "stream",
     "text": [
      "CTCACHD14091940\n",
      "CTCALAL12111977\n",
      "CTCAALS24081961\n",
      "CTCAGRE17121953\n",
      "CTCASIJ17101947\n",
      "CTCABRK17071953\n",
      "1009 CTCA1955\n",
      "CTCABRA11121962\n",
      "CTCAHOD09121963\n",
      "CTCAFUP12011963\n",
      "CTCACHA05061964\n",
      "CTCAPAW11081956\n",
      "CTCAGAT05081949\n",
      "CTCATAR27091957\n"
     ]
    },
    {
     "name": "stderr",
     "output_type": "stream",
     "text": [
      " 84%|████████▎ | 623/744 [00:08<00:01, 74.85it/s]"
     ]
    },
    {
     "name": "stdout",
     "output_type": "stream",
     "text": [
      "CTCALAC16021949\n",
      "CTCACRM10081962\n",
      "CTCABHP18021957\n",
      "CTCAWIF19081951\n",
      "CTCAKOR29061959\n",
      "CTCAHOH10021975\n",
      "CTCAHOH20111949\n",
      "CTCALUR28041961\n",
      "CTCAMCK11101957\n",
      "CTCAZAA11071953\n",
      "CTCAZON16011962\n",
      "CTCAGIG10031949\n",
      "CTCAJAE22121969\n",
      "CTCAAMA10051949\n",
      "CTCAKUP13111962\n",
      "CTCABOC29071976\n",
      "CTCAHAS05121968\n"
     ]
    },
    {
     "name": "stderr",
     "output_type": "stream",
     "text": [
      " 86%|████████▌ | 639/744 [00:08<00:01, 76.28it/s]"
     ]
    },
    {
     "name": "stdout",
     "output_type": "stream",
     "text": [
      "CTCABRZ31031967\n",
      "CTCANGT15041950\n",
      "CTCAROJ27021964\n",
      "CTCAREM23111946\n",
      "CTCAMIK28021956\n",
      "CTCAHOB27061971\n",
      "CTCAHOM24111954\n",
      "CTCANEJ23051970\n",
      "CTCAROM23031950\n",
      "CTCAROA07091955\n",
      "CTCASAA13011957\n",
      "CTCATRN30041961\n",
      "1003 CTCA1952\n",
      "CTCADEM10031952\n",
      "CTCAMAN25091961\n",
      "CTCAPEP24061976\n"
     ]
    },
    {
     "name": "stderr",
     "output_type": "stream",
     "text": [
      " 88%|████████▊ | 655/744 [00:08<00:01, 73.09it/s]"
     ]
    },
    {
     "name": "stdout",
     "output_type": "stream",
     "text": [
      "1004 CTCA1955\n",
      "1070 CTCA1950\n",
      "CTCATAM15101977\n",
      "CTCAWHJ03091947\n",
      "CTCAKIK23071957\n",
      "CTCAIBA01071966\n",
      "CTCAPIS26121959\n",
      "CTCATAS19041964\n",
      "1016 CTCA1962\n",
      "CTCALAT23091942\n",
      "CTCAQUC25031951\n",
      "CTCASAG10051945\n",
      "CTCAWIC07031959\n",
      "CTCAILK23071937\n",
      "CTCAQUA07061949\n"
     ]
    },
    {
     "name": "stderr",
     "output_type": "stream",
     "text": [
      " 90%|█████████ | 671/744 [00:09<00:01, 72.65it/s]"
     ]
    },
    {
     "name": "stdout",
     "output_type": "stream",
     "text": [
      "1001 CTCA1947\n",
      "CTCAGAY31051980\n",
      "CTCASOK08111990\n",
      "CTCASEV04021963\n",
      "CTCABOJ16091972\n",
      "CTCAPAR19111945\n",
      "CTCAGIJ07041956\n",
      "CTCAWOC03021939\n",
      "CTCADIV19031951\n",
      "1005 CTCA1945\n",
      "1015 CTCA1967\n",
      "CTCAMOC15111963\n",
      "CTCABAM18061976\n",
      "CTCACHQ16061953\n",
      "CTCACID21061960\n"
     ]
    },
    {
     "name": "stderr",
     "output_type": "stream",
     "text": [
      " 92%|█████████▏| 687/744 [00:09<00:00, 73.59it/s]"
     ]
    },
    {
     "name": "stdout",
     "output_type": "stream",
     "text": [
      "CTCASTJ20111970\n",
      "CTCAVAE10021954\n",
      "CTCAMAT27021969\n",
      "CTCANAS04021967\n",
      "CTCATHC18051977\n",
      "CTCAJOS11031956\n",
      "1047 CTCA1946\n",
      "CTCAPAE21071949\n",
      "1069 CTCA1951\n",
      "CTCATAN26011954\n",
      "CTCAWET15021980\n",
      "CTCAODJ10101953\n",
      "1064 CTCA1958\n",
      "CTCAGOH16121968\n",
      "CTCADHP18091972\n",
      "CTCADYJ20091966\n"
     ]
    },
    {
     "name": "stderr",
     "output_type": "stream",
     "text": [
      " 94%|█████████▍| 703/744 [00:09<00:00, 72.80it/s]"
     ]
    },
    {
     "name": "stdout",
     "output_type": "stream",
     "text": [
      "CTCAKIB01061964\n",
      "CTCATUC21061956\n",
      "CTCAILV18021966\n",
      "CTCACAK20091961\n",
      "CTCAHOP09101954\n",
      "CTCABRR14011952\n",
      "CTCACOM10011939\n",
      "CTCAHOC22051965\n",
      "CTCAFER25031943\n",
      "CTCADAC17041956\n",
      "CTCARIC26111946\n",
      "CTCAARG09091933\n",
      "CTCAKAA17051968\n",
      "CTCAAGK05031979\n",
      "CTCAARI01081944\n",
      "CTCAPIJ31011964\n"
     ]
    },
    {
     "name": "stderr",
     "output_type": "stream",
     "text": [
      " 97%|█████████▋| 719/744 [00:09<00:00, 73.98it/s]"
     ]
    },
    {
     "name": "stdout",
     "output_type": "stream",
     "text": [
      "CTCAPEJ30101975\n",
      "CTCATAM24041955\n",
      "CTCAMAP18021966\n",
      "COV10031966\n",
      "CTCALID04021953\n",
      "CTCADGOE28101952\n",
      "CTCATRV02031937\n",
      "CTCAKIA22041947\n",
      "CTCANGA24091958\n",
      "CTCARIS28021951\n",
      "CTCALAH29101940\n",
      "CTCAIKE28031986\n",
      "CTCALAJ21021947\n",
      "CTCAANM18021961\n",
      "1040 CTCA1962\n",
      "CTCAPOM18091967\n"
     ]
    },
    {
     "name": "stderr",
     "output_type": "stream",
     "text": [
      " 99%|█████████▉| 735/744 [00:09<00:00, 75.89it/s]"
     ]
    },
    {
     "name": "stdout",
     "output_type": "stream",
     "text": [
      "1023 CTCA1960\n",
      "CTCACES20071965\n",
      "CTCABIB16101983\n",
      "1012 CTCA1962\n",
      "CTCAMIA30041964\n",
      "CTCABRW29041967\n",
      "CTCASPB03121931\n",
      "CTCAJHH20081965\n",
      "CTCALIB10031961\n",
      "CTCABAM11031964\n",
      "CTCASCL12011981\n",
      "CTCADOT21121946\n",
      "CTCALID04061955\n",
      "CTCAWOM06061941\n",
      "CTCAVRC07081978\n",
      "CTCADAG07031973\n",
      "CTCARIS09111963\n"
     ]
    },
    {
     "name": "stderr",
     "output_type": "stream",
     "text": [
      "100%|██████████| 744/744 [00:10<00:00, 74.08it/s]"
     ]
    },
    {
     "name": "stdout",
     "output_type": "stream",
     "text": [
      "CTCAMIM08101949\n",
      "CTCAODJ27091949\n",
      "CTCALAN04091968\n",
      "1058 CTCA1956\n",
      "CTCABOJ29051945\n",
      "CTCAGRC24011965\n",
      "CTCAGAR01101953\n"
     ]
    },
    {
     "name": "stderr",
     "output_type": "stream",
     "text": [
      "\n"
     ]
    },
    {
     "data": {
      "text/html": [
       "<div>\n",
       "<style scoped>\n",
       "    .dataframe tbody tr th:only-of-type {\n",
       "        vertical-align: middle;\n",
       "    }\n",
       "\n",
       "    .dataframe tbody tr th {\n",
       "        vertical-align: top;\n",
       "    }\n",
       "\n",
       "    .dataframe thead th {\n",
       "        text-align: right;\n",
       "    }\n",
       "</style>\n",
       "<table border=\"1\" class=\"dataframe\">\n",
       "  <thead>\n",
       "    <tr style=\"text-align: right;\">\n",
       "      <th></th>\n",
       "      <th>PATIENT_ID</th>\n",
       "      <th>REPORT_ID</th>\n",
       "      <th>PROXIMAL</th>\n",
       "      <th>DISTAL</th>\n",
       "      <th>OM</th>\n",
       "      <th>OM1</th>\n",
       "      <th>OM2</th>\n",
       "      <th>OM3</th>\n",
       "      <th>PDA</th>\n",
       "      <th>PLV</th>\n",
       "    </tr>\n",
       "  </thead>\n",
       "  <tbody>\n",
       "    <tr>\n",
       "      <th>0</th>\n",
       "      <td>CTCAHER21101967</td>\n",
       "      <td>CTCAHER21101967</td>\n",
       "      <td>NORMAL</td>\n",
       "      <td>-</td>\n",
       "      <td>-</td>\n",
       "      <td>NORMAL</td>\n",
       "      <td>-</td>\n",
       "      <td>-</td>\n",
       "      <td>-</td>\n",
       "      <td>-</td>\n",
       "    </tr>\n",
       "    <tr>\n",
       "      <th>1</th>\n",
       "      <td>CTCAGRH27071943</td>\n",
       "      <td>CTCAGRH27071943</td>\n",
       "      <td>NORMAL</td>\n",
       "      <td>NORMAL</td>\n",
       "      <td>-</td>\n",
       "      <td>NORMAL</td>\n",
       "      <td>NORMAL</td>\n",
       "      <td>-</td>\n",
       "      <td>NORMAL</td>\n",
       "      <td>-</td>\n",
       "    </tr>\n",
       "    <tr>\n",
       "      <th>2</th>\n",
       "      <td>CTCADRG22021959</td>\n",
       "      <td>CTCADRG22021959</td>\n",
       "      <td>NORMAL</td>\n",
       "      <td>NORMAL</td>\n",
       "      <td>-</td>\n",
       "      <td>NORMAL</td>\n",
       "      <td>-</td>\n",
       "      <td>-</td>\n",
       "      <td>-</td>\n",
       "      <td>-</td>\n",
       "    </tr>\n",
       "    <tr>\n",
       "      <th>3</th>\n",
       "      <td>CTCAXUZ07071955</td>\n",
       "      <td>CTCAXUZ07071955</td>\n",
       "      <td>NORMAL</td>\n",
       "      <td>NORMAL</td>\n",
       "      <td>-</td>\n",
       "      <td>NORMAL</td>\n",
       "      <td>NORMAL</td>\n",
       "      <td>-</td>\n",
       "      <td>-</td>\n",
       "      <td>-</td>\n",
       "    </tr>\n",
       "    <tr>\n",
       "      <th>4</th>\n",
       "      <td>CTCAQUD02121959</td>\n",
       "      <td>CTCAQUD02121959</td>\n",
       "      <td>NORMAL</td>\n",
       "      <td>NORMAL</td>\n",
       "      <td>-</td>\n",
       "      <td>NORMAL</td>\n",
       "      <td>NORMAL</td>\n",
       "      <td>NORMAL</td>\n",
       "      <td>-</td>\n",
       "      <td>-</td>\n",
       "    </tr>\n",
       "  </tbody>\n",
       "</table>\n",
       "</div>"
      ],
      "text/plain": [
       "        PATIENT_ID        REPORT_ID PROXIMAL  DISTAL OM     OM1     OM2  \\\n",
       "0  CTCAHER21101967  CTCAHER21101967   NORMAL       -  -  NORMAL       -   \n",
       "1  CTCAGRH27071943  CTCAGRH27071943   NORMAL  NORMAL  -  NORMAL  NORMAL   \n",
       "2  CTCADRG22021959  CTCADRG22021959   NORMAL  NORMAL  -  NORMAL       -   \n",
       "3  CTCAXUZ07071955  CTCAXUZ07071955   NORMAL  NORMAL  -  NORMAL  NORMAL   \n",
       "4  CTCAQUD02121959  CTCAQUD02121959   NORMAL  NORMAL  -  NORMAL  NORMAL   \n",
       "\n",
       "      OM3     PDA PLV  \n",
       "0       -       -   -  \n",
       "1       -  NORMAL   -  \n",
       "2       -       -   -  \n",
       "3       -       -   -  \n",
       "4  NORMAL       -   -  "
      ]
     },
     "execution_count": 14,
     "metadata": {},
     "output_type": "execute_result"
    }
   ],
   "source": [
    "# GET LCX TABLE\n",
    "\n",
    "extracted_lcx_df = pd.DataFrame(columns=['PATIENT_ID', 'REPORT_ID', 'PROXIMAL', 'DISTAL', 'OM', 'OM1', 'OM2', 'OM3', \n",
    "                                     'PDA', 'PLV'])\n",
    "\n",
    "\n",
    "def calculate_stenosis(info):\n",
    "    score = get_level_of_stenosis_from_string(info)\n",
    "    score =  score[0] if score else 'NORMAL'\n",
    "    return score\n",
    "\n",
    "for i in tqdm(range(len(list_of_files))):\n",
    "    try:\n",
    "        cur_report_name = list_of_files[i]\n",
    "        cur_file = read_and_strip_record(os.path.join(reports_path, cur_report_name))\n",
    "        cur_patient_info = get_lad_info_from_report(cur_file, 'LEFT CIRCUMFLEX')\n",
    "\n",
    "        new_row = pd.Series(['-','-','-','-','-','-','-','-', '-','-'], index=extracted_lcx_df.columns)\n",
    "        new_row['PATIENT_ID'] = cur_patient_info[0]\n",
    "        new_row['REPORT_ID'] = cur_report_name.split('.')[0].split('RT ')[1]\n",
    "        print(cur_report_name.split('.')[0].split('RT ')[1])\n",
    "        cur_patient_info.pop(0)\n",
    "        list_of_lcx_branches = [x + ' ' for x in list(extracted_lcx_df.columns)]\n",
    "        for line_info in cur_patient_info:\n",
    "            artery_area_name = [x for x in list_of_lcx_branches \n",
    "                                if x in line_info or x.lower() in line_info or x.title() in line_info]\n",
    "            if len(artery_area_name) >=1:\n",
    "                for area_name in artery_area_name:\n",
    "                    area_name = area_name.strip()\n",
    "                    stenosis_score = calculate_stenosis(line_info)\n",
    "                    new_row.loc[area_name] = stenosis_score\n",
    "            else:\n",
    "                continue\n",
    "        extracted_lcx_df = extracted_lcx_df.append(new_row, ignore_index=True)\n",
    "    except:\n",
    "        print(\"Error!\")\n",
    "extracted_lcx_df.head()"
   ]
  },
  {
   "cell_type": "code",
   "execution_count": null,
   "metadata": {},
   "outputs": [],
   "source": []
  },
  {
   "cell_type": "code",
   "execution_count": 12,
   "metadata": {},
   "outputs": [],
   "source": [
    "extracted_lcx_df.to_excel('lcx_labels.xlsx', index=False)"
   ]
  },
  {
   "cell_type": "code",
   "execution_count": 13,
   "metadata": {},
   "outputs": [
    {
     "data": {
      "text/plain": [
       "-         692\n",
       "NORMAL     51\n",
       ">70%        1\n",
       "Name: PLV, dtype: int64"
      ]
     },
     "execution_count": 13,
     "metadata": {},
     "output_type": "execute_result"
    }
   ],
   "source": [
    "pd.value_counts(extracted_lcx_df['PLV'])"
   ]
  },
  {
   "cell_type": "code",
   "execution_count": 14,
   "metadata": {},
   "outputs": [
    {
     "data": {
      "text/html": [
       "<div>\n",
       "<style scoped>\n",
       "    .dataframe tbody tr th:only-of-type {\n",
       "        vertical-align: middle;\n",
       "    }\n",
       "\n",
       "    .dataframe tbody tr th {\n",
       "        vertical-align: top;\n",
       "    }\n",
       "\n",
       "    .dataframe thead th {\n",
       "        text-align: right;\n",
       "    }\n",
       "</style>\n",
       "<table border=\"1\" class=\"dataframe\">\n",
       "  <thead>\n",
       "    <tr style=\"text-align: right;\">\n",
       "      <th></th>\n",
       "      <th>PATIENT_ID</th>\n",
       "      <th>REPORT_ID</th>\n",
       "      <th>PROXIMAL</th>\n",
       "      <th>DISTAL</th>\n",
       "      <th>MID</th>\n",
       "      <th>PDA</th>\n",
       "      <th>PLV</th>\n",
       "    </tr>\n",
       "  </thead>\n",
       "  <tbody>\n",
       "    <tr>\n",
       "      <th>0</th>\n",
       "      <td>CTCAHER21101967</td>\n",
       "      <td>CTCAHER21101967</td>\n",
       "      <td>NORMAL</td>\n",
       "      <td>NORMAL</td>\n",
       "      <td>NORMAL</td>\n",
       "      <td>NORMAL</td>\n",
       "      <td>NORMAL</td>\n",
       "    </tr>\n",
       "    <tr>\n",
       "      <th>1</th>\n",
       "      <td>CTCAGRH27071943</td>\n",
       "      <td>CTCAGRH27071943</td>\n",
       "      <td>-</td>\n",
       "      <td>-</td>\n",
       "      <td>-</td>\n",
       "      <td>-</td>\n",
       "      <td>-</td>\n",
       "    </tr>\n",
       "    <tr>\n",
       "      <th>2</th>\n",
       "      <td>CTCADRG22021959</td>\n",
       "      <td>CTCADRG22021959</td>\n",
       "      <td>NORMAL</td>\n",
       "      <td>&lt;25%</td>\n",
       "      <td>&lt;25%</td>\n",
       "      <td>&lt;25%</td>\n",
       "      <td>NORMAL</td>\n",
       "    </tr>\n",
       "    <tr>\n",
       "      <th>3</th>\n",
       "      <td>CTCAXUZ07071955</td>\n",
       "      <td>CTCAXUZ07071955</td>\n",
       "      <td>NORMAL</td>\n",
       "      <td>NORMAL</td>\n",
       "      <td>NORMAL</td>\n",
       "      <td>NORMAL</td>\n",
       "      <td>NORMAL</td>\n",
       "    </tr>\n",
       "    <tr>\n",
       "      <th>4</th>\n",
       "      <td>CTCAQUD02121959</td>\n",
       "      <td>CTCAQUD02121959</td>\n",
       "      <td>NORMAL</td>\n",
       "      <td>NORMAL</td>\n",
       "      <td>70%</td>\n",
       "      <td>NORMAL</td>\n",
       "      <td>-</td>\n",
       "    </tr>\n",
       "  </tbody>\n",
       "</table>\n",
       "</div>"
      ],
      "text/plain": [
       "        PATIENT_ID        REPORT_ID PROXIMAL  DISTAL     MID     PDA     PLV\n",
       "0  CTCAHER21101967  CTCAHER21101967   NORMAL  NORMAL  NORMAL  NORMAL  NORMAL\n",
       "1  CTCAGRH27071943  CTCAGRH27071943        -       -       -       -       -\n",
       "2  CTCADRG22021959  CTCADRG22021959   NORMAL    <25%    <25%    <25%  NORMAL\n",
       "3  CTCAXUZ07071955  CTCAXUZ07071955   NORMAL  NORMAL  NORMAL  NORMAL  NORMAL\n",
       "4  CTCAQUD02121959  CTCAQUD02121959   NORMAL  NORMAL     70%  NORMAL       -"
      ]
     },
     "execution_count": 14,
     "metadata": {},
     "output_type": "execute_result"
    }
   ],
   "source": [
    "# GET RCA TABLE\n",
    "extracted_rca_df = pd.DataFrame(columns=['PATIENT_ID', 'REPORT_ID', 'PROXIMAL', 'DISTAL', 'MID',\n",
    "                                     'PDA', 'PLV'])\n",
    "\n",
    "def calculate_stenosis_rca(info, cur_report_name):\n",
    "    if len(info) > 100:\n",
    "        return '-'\n",
    "    score = get_level_of_stenosis_from_string(info)\n",
    "    score = score[0] if score else '-'\n",
    "    if 'normal' in info.lower():\n",
    "        score = 'NORMAL' \n",
    "    return score\n",
    "\n",
    "for i, el in enumerate(list_of_files):\n",
    "    try:\n",
    "        cur_report_name = list_of_files[i]\n",
    "        cur_file = read_and_strip_record(os.path.join(reports_path, cur_report_name))\n",
    "        cur_patient_info = get_lad_info_from_report(cur_file, 'RIGHT CORONARY')\n",
    "        \n",
    "        new_row = pd.Series(['-','-','-','-','-','-','-'], index=extracted_rca_df.columns)\n",
    "        new_row['PATIENT_ID'] = cur_patient_info[0]\n",
    "        new_row['REPORT_ID'] = cur_report_name.split('.')[0].split('RT ')[1]\n",
    "\n",
    "        cur_patient_info.pop(0)\n",
    "        list_of_lcx_branches = [x + ' ' for x in list(extracted_rca_df.columns)]\n",
    "        for line_info in cur_patient_info:\n",
    "            artery_area_name = [x for x in list_of_lcx_branches \n",
    "                                if x in line_info or x.lower() in line_info or x.title() in line_info]\n",
    "            if len(artery_area_name) >=1:\n",
    "                for area_name in artery_area_name:\n",
    "                    area_name = area_name.strip()\n",
    "                    stenosis_score = calculate_stenosis_rca(line_info, cur_report_name)\n",
    "                    new_row.loc[area_name] = stenosis_score\n",
    "            else:\n",
    "                continue\n",
    "        extracted_rca_df = extracted_rca_df.append(new_row, ignore_index=True)\n",
    "    except:\n",
    "        print(\"Error, wrong file (not excel)!\")\n",
    "extracted_rca_df.head()"
   ]
  },
  {
   "cell_type": "code",
   "execution_count": null,
   "metadata": {},
   "outputs": [],
   "source": []
  },
  {
   "cell_type": "code",
   "execution_count": 68,
   "metadata": {},
   "outputs": [],
   "source": [
    "# extracted_rca_df.to_csv('rca_labels_titlesreports.csv', index=False)"
   ]
  },
  {
   "cell_type": "code",
   "execution_count": 15,
   "metadata": {},
   "outputs": [],
   "source": [
    "extracted_rca_df.to_excel('rca_labelsreports.xlsx', index=False)"
   ]
  },
  {
   "cell_type": "code",
   "execution_count": 17,
   "metadata": {},
   "outputs": [
    {
     "data": {
      "text/plain": [
       "(744, 7)"
      ]
     },
     "execution_count": 17,
     "metadata": {},
     "output_type": "execute_result"
    }
   ],
   "source": []
  },
  {
   "cell_type": "code",
   "execution_count": null,
   "metadata": {},
   "outputs": [],
   "source": []
  }
 ],
 "metadata": {
  "kernelspec": {
   "display_name": "Python 3",
   "language": "python",
   "name": "python3"
  },
  "language_info": {
   "codemirror_mode": {
    "name": "ipython",
    "version": 3
   },
   "file_extension": ".py",
   "mimetype": "text/x-python",
   "name": "python",
   "nbconvert_exporter": "python",
   "pygments_lexer": "ipython3",
   "version": "3.5.2"
  },
  "pycharm": {
   "stem_cell": {
    "cell_type": "raw",
    "metadata": {
     "collapsed": false
    },
    "source": []
   }
  }
 },
 "nbformat": 4,
 "nbformat_minor": 2
}
