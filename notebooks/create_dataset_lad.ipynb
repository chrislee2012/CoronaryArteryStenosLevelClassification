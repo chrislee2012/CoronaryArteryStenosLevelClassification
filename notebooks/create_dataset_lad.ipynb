{
 "cells": [
  {
   "cell_type": "code",
   "execution_count": 1,
   "metadata": {},
   "outputs": [],
   "source": [
    "import pandas as pd\n",
    "import os\n",
    "from tqdm import tqdm\n",
    "import re\n",
    "from numpy import nan as Nan\n",
    "import pydicom as dicom\n",
    "import cv2\n",
    "import shutil\n"
   ]
  },
  {
   "cell_type": "code",
   "execution_count": 2,
   "metadata": {
    "scrolled": true
   },
   "outputs": [],
   "source": [
    "reports = pd.read_excel('lad_reports.xlsx')"
   ]
  },
  {
   "cell_type": "code",
   "execution_count": 3,
   "metadata": {},
   "outputs": [
    {
     "data": {
      "text/html": [
       "<div>\n",
       "<style scoped>\n",
       "    .dataframe tbody tr th:only-of-type {\n",
       "        vertical-align: middle;\n",
       "    }\n",
       "\n",
       "    .dataframe tbody tr th {\n",
       "        vertical-align: top;\n",
       "    }\n",
       "\n",
       "    .dataframe thead th {\n",
       "        text-align: right;\n",
       "    }\n",
       "</style>\n",
       "<table border=\"1\" class=\"dataframe\">\n",
       "  <thead>\n",
       "    <tr style=\"text-align: right;\">\n",
       "      <th></th>\n",
       "      <th>PATIENT_ID</th>\n",
       "      <th>PROXIMAL</th>\n",
       "      <th>MID</th>\n",
       "      <th>DISTAL</th>\n",
       "      <th>D-1</th>\n",
       "      <th>D-2</th>\n",
       "      <th>D-3</th>\n",
       "      <th>D-4</th>\n",
       "    </tr>\n",
       "  </thead>\n",
       "  <tbody>\n",
       "    <tr>\n",
       "      <th>0</th>\n",
       "      <td>1001 CTCA1947</td>\n",
       "      <td>25-50%</td>\n",
       "      <td>25-50%</td>\n",
       "      <td>25-50%</td>\n",
       "      <td>NORMAL</td>\n",
       "      <td>25-50%</td>\n",
       "      <td>-</td>\n",
       "      <td>-</td>\n",
       "    </tr>\n",
       "    <tr>\n",
       "      <th>1</th>\n",
       "      <td>1002 CTCA1955</td>\n",
       "      <td>NORMAL</td>\n",
       "      <td>50%</td>\n",
       "      <td>NORMAL</td>\n",
       "      <td>NORMAL</td>\n",
       "      <td>-</td>\n",
       "      <td>-</td>\n",
       "      <td>-</td>\n",
       "    </tr>\n",
       "    <tr>\n",
       "      <th>2</th>\n",
       "      <td>DDJ261Z</td>\n",
       "      <td>50-70%</td>\n",
       "      <td>NORMAL</td>\n",
       "      <td>NORMAL</td>\n",
       "      <td>NORMAL</td>\n",
       "      <td>NORMAL</td>\n",
       "      <td>25-50%</td>\n",
       "      <td>-</td>\n",
       "    </tr>\n",
       "    <tr>\n",
       "      <th>3</th>\n",
       "      <td>1004 CTCA1955</td>\n",
       "      <td>&gt;50%</td>\n",
       "      <td>NORMAL</td>\n",
       "      <td>NORMAL</td>\n",
       "      <td>NORMAL</td>\n",
       "      <td>NORMAL</td>\n",
       "      <td>-</td>\n",
       "      <td>-</td>\n",
       "    </tr>\n",
       "    <tr>\n",
       "      <th>4</th>\n",
       "      <td>1005 CTCA1945</td>\n",
       "      <td>25-50%</td>\n",
       "      <td>NORMAL</td>\n",
       "      <td>NORMAL</td>\n",
       "      <td>NORMAL</td>\n",
       "      <td>-</td>\n",
       "      <td>-</td>\n",
       "      <td>-</td>\n",
       "    </tr>\n",
       "  </tbody>\n",
       "</table>\n",
       "</div>"
      ],
      "text/plain": [
       "      PATIENT_ID PROXIMAL     MID  DISTAL     D-1     D-2     D-3 D-4\n",
       "0  1001 CTCA1947   25-50%  25-50%  25-50%  NORMAL  25-50%       -   -\n",
       "1  1002 CTCA1955   NORMAL     50%  NORMAL  NORMAL       -       -   -\n",
       "2        DDJ261Z   50-70%  NORMAL  NORMAL  NORMAL  NORMAL  25-50%   -\n",
       "3  1004 CTCA1955     >50%  NORMAL  NORMAL  NORMAL  NORMAL       -   -\n",
       "4  1005 CTCA1945   25-50%  NORMAL  NORMAL  NORMAL       -       -   -"
      ]
     },
     "execution_count": 3,
     "metadata": {},
     "output_type": "execute_result"
    }
   ],
   "source": [
    "reports.head()"
   ]
  },
  {
   "cell_type": "code",
   "execution_count": 4,
   "metadata": {
    "scrolled": true
   },
   "outputs": [
    {
     "data": {
      "text/plain": [
       "0        1001 CTCA1947\n",
       "1        1002 CTCA1955\n",
       "2              DDJ261Z\n",
       "3        1004 CTCA1955\n",
       "4        1005 CTCA1945\n",
       "5         106 CTCA1961\n",
       "6        1007 CTCA1959\n",
       "7        1008 CTCA1953\n",
       "8        1009 CTCA1955\n",
       "9        1010 CTCA1952\n",
       "10       1011 CTCA1966\n",
       "11       1012 CTCA1962\n",
       "12       1013 CTCA1968\n",
       "13       1014 CTCA1950\n",
       "14       1015 CTCA1967\n",
       "15       1016 CTCA1962\n",
       "16       1017 CTCA1965\n",
       "17       1019 CTCA1960\n",
       "18       1020 CTCA1963\n",
       "19       1021 CTCA1957\n",
       "20       1022 CTCA1970\n",
       "21       1023 CTCA1960\n",
       "22       1024 CTCA1947\n",
       "23       1025 CTCA1973\n",
       "24       1026 CTCA1953\n",
       "25       1027 CTCA1965\n",
       "26       1028 CTCA1964\n",
       "27       1029 CTCA1946\n",
       "28       1030 CTCA1942\n",
       "29       1031 CTCA1967\n",
       "            ...       \n",
       "714    CTCAWOD25061972\n",
       "715    CTCAWOI17051966\n",
       "716    CTCAWOJ08061951\n",
       "717    CTCAWOM06061941\n",
       "718    CTCAWOT09081947\n",
       "719    CTCAWUJ01041970\n",
       "720    CTCAWUK05041963\n",
       "721    CTCAXIP08011952\n",
       "722    CTCAXUG17101957\n",
       "723    CTCAXUZ07071955\n",
       "724    CTCAYAH26091963\n",
       "725    CTCAYAX04121967\n",
       "726    CTCAYAY28011972\n",
       "727    CTCAYEA25021959\n",
       "728    CTCAYEL10021947\n",
       "729    CTCAYOA13121966\n",
       "730    CTCAYOG08091955\n",
       "731    CTCAYOM21111962\n",
       "732    CTCAYOP20011964\n",
       "733    CTCAYUH07051951\n",
       "734    CTCAZAA11071953\n",
       "735    CTCAZAM03011951\n",
       "736    CTCAZAS01111946\n",
       "737    CTCAZDV13081958\n",
       "738    CTCAZHX30011957\n",
       "739    CTCAZOD18071961\n",
       "740    CTCAZOF20051940\n",
       "741    CTCAZON16011962\n",
       "742    CTCAZSR26031950\n",
       "743        DOP23111947\n",
       "Name: PATIENT_ID, Length: 744, dtype: object"
      ]
     },
     "execution_count": 4,
     "metadata": {},
     "output_type": "execute_result"
    }
   ],
   "source": [
    "reports['PATIENT_ID']"
   ]
  },
  {
   "cell_type": "code",
   "execution_count": 4,
   "metadata": {
    "scrolled": true
   },
   "outputs": [],
   "source": [
    "def get_labels(path_to_patient):\n",
    "    \"\"\"\n",
    "    Returns:\n",
    "        - dict: key(str) - type of the artery, value(int) - label(0 or 1)\n",
    "    \"\"\"\n",
    "    types_of_images = os.listdir(path_to_patient)\n",
    "    patient_name = [x for x in path_to_patient.split('/') if len(x) > 0][-1]\n",
    "    \n",
    "    labels_dict = {}\n",
    "#     print(types_of_images)\n",
    "    for i in range(len(types_of_images)):\n",
    "        if 'LAD' in types_of_images[i]:\n",
    "            label = 0 if 'NORMAL' in reports.loc[reports['PATIENT_ID'] == patient_name]['MID'].iloc[0] or \\\n",
    "               'NORMAL' in reports.loc[reports['PATIENT_ID'] == patient_name]['DISTAL'].iloc[0] or \\\n",
    "               'NORMAL' in reports.loc[reports['PATIENT_ID'] == patient_name]['PROXIMAL'].iloc[0] else 1\n",
    "        else:\n",
    "            if types_of_images[i] == 'D-1Original':\n",
    "                print(patient_name)\n",
    "            label = 0 if 'NORMAL' in reports.loc[reports['PATIENT_ID'] == patient_name][types_of_images[i]].iloc[0] else 1\n",
    "        \n",
    "        labels_dict[types_of_images[i]] = label\n",
    "        \n",
    "    return labels_dict\n",
    "\n",
    "def get_imgs_names_to_the_labels(path_to_patient, labels_dict):\n",
    "    \"\"\"\n",
    "    Args:\n",
    "        - dict: key - branch of artery(str), value - label(int) 0 or 1.   \n",
    "    Returns:\n",
    "        - dict: key - label(int) 0 or 1, value(list) list of images, belong to the labelT\n",
    "    \"\"\"\n",
    "    img_labels = {}\n",
    "\n",
    "    for key in labels_dict.keys():\n",
    "        list_of_images = os.listdir(os.path.join(path_to_patient, key))\n",
    "        if labels_dict[key] in img_labels:\n",
    "            img_labels[labels_dict[key]]+= list_of_images\n",
    "        else:\n",
    "            img_labels[labels_dict[key]] = list_of_images\n",
    "            \n",
    "    return img_labels\n"
   ]
  },
  {
   "cell_type": "code",
   "execution_count": 55,
   "metadata": {
    "scrolled": true
   },
   "outputs": [
    {
     "data": {
      "text/plain": [
       "{0: ['D-2_377_CTCAATC18051949_7.png',\n",
       "  'D-2_377_CTCAATC18051949_11.png',\n",
       "  'D-2_377_CTCAATC18051949_20.png',\n",
       "  'D-2_377_CTCAATC18051949_8.png',\n",
       "  'D-2_377_CTCAATC18051949_42.png',\n",
       "  'D-2_377_CTCAATC18051949_16.png',\n",
       "  'D-2_377_CTCAATC18051949_40.png',\n",
       "  'D-2_377_CTCAATC18051949_41.png',\n",
       "  'D-2_377_CTCAATC18051949_6.png',\n",
       "  'D-2_377_CTCAATC18051949_38.png',\n",
       "  'D-2_377_CTCAATC18051949_47.png',\n",
       "  'D-2_377_CTCAATC18051949_21.png',\n",
       "  'D-2_377_CTCAATC18051949_4.png',\n",
       "  'D-2_377_CTCAATC18051949_2.png',\n",
       "  'D-2_377_CTCAATC18051949_35.png',\n",
       "  'D-2_377_CTCAATC18051949_9.png',\n",
       "  'D-2_377_CTCAATC18051949_24.png',\n",
       "  'D-2_377_CTCAATC18051949_14.png',\n",
       "  'D-2_377_CTCAATC18051949_28.png',\n",
       "  'D-2_377_CTCAATC18051949_25.png',\n",
       "  'D-2_377_CTCAATC18051949_12.png',\n",
       "  'D-2_377_CTCAATC18051949_31.png',\n",
       "  'D-2_377_CTCAATC18051949_49.png',\n",
       "  'D-2_377_CTCAATC18051949_32.png',\n",
       "  'D-2_377_CTCAATC18051949_19.png',\n",
       "  'D-2_377_CTCAATC18051949_45.png',\n",
       "  'D-2_377_CTCAATC18051949_37.png',\n",
       "  'D-2_377_CTCAATC18051949_48.png',\n",
       "  'D-2_377_CTCAATC18051949_18.png',\n",
       "  'D-2_377_CTCAATC18051949_44.png',\n",
       "  'D-2_377_CTCAATC18051949_23.png',\n",
       "  'D-2_377_CTCAATC18051949_30.png',\n",
       "  'D-2_377_CTCAATC18051949_22.png',\n",
       "  'D-2_377_CTCAATC18051949_15.png',\n",
       "  'D-2_377_CTCAATC18051949_17.png',\n",
       "  'D-2_377_CTCAATC18051949_5.png',\n",
       "  'D-2_377_CTCAATC18051949_46.png',\n",
       "  'D-2_377_CTCAATC18051949_33.png',\n",
       "  'D-2_377_CTCAATC18051949_39.png',\n",
       "  'D-2_377_CTCAATC18051949_13.png',\n",
       "  'D-2_377_CTCAATC18051949_10.png',\n",
       "  'D-2_377_CTCAATC18051949_29.png',\n",
       "  'D-2_377_CTCAATC18051949_26.png',\n",
       "  'D-2_377_CTCAATC18051949_36.png',\n",
       "  'D-2_377_CTCAATC18051949_43.png',\n",
       "  'D-2_377_CTCAATC18051949_34.png',\n",
       "  'D-2_377_CTCAATC18051949_27.png',\n",
       "  'D-2_377_CTCAATC18051949_50.png',\n",
       "  'D-2_377_CTCAATC18051949_1.png',\n",
       "  'D-2_377_CTCAATC18051949_3.png',\n",
       "  'D-1_377_CTCAATC18051949_31.png',\n",
       "  'D-1_377_CTCAATC18051949_20.png',\n",
       "  'D-1_377_CTCAATC18051949_48.png',\n",
       "  'D-1_377_CTCAATC18051949_24.png',\n",
       "  'D-1_377_CTCAATC18051949_21.png',\n",
       "  'D-1_377_CTCAATC18051949_10.png',\n",
       "  'D-1_377_CTCAATC18051949_26.png',\n",
       "  'D-1_377_CTCAATC18051949_4.png',\n",
       "  'D-1_377_CTCAATC18051949_23.png',\n",
       "  'D-1_377_CTCAATC18051949_32.png',\n",
       "  'D-1_377_CTCAATC18051949_7.png',\n",
       "  'D-1_377_CTCAATC18051949_16.png',\n",
       "  'D-1_377_CTCAATC18051949_5.png',\n",
       "  'D-1_377_CTCAATC18051949_50.png',\n",
       "  'D-1_377_CTCAATC18051949_36.png',\n",
       "  'D-1_377_CTCAATC18051949_39.png',\n",
       "  'D-1_377_CTCAATC18051949_11.png',\n",
       "  'D-1_377_CTCAATC18051949_43.png',\n",
       "  'D-1_377_CTCAATC18051949_33.png',\n",
       "  'D-1_377_CTCAATC18051949_30.png',\n",
       "  'D-1_377_CTCAATC18051949_14.png',\n",
       "  'D-1_377_CTCAATC18051949_40.png',\n",
       "  'D-1_377_CTCAATC18051949_1.png',\n",
       "  'D-1_377_CTCAATC18051949_2.png',\n",
       "  'D-1_377_CTCAATC18051949_9.png',\n",
       "  'D-1_377_CTCAATC18051949_27.png',\n",
       "  'D-1_377_CTCAATC18051949_46.png',\n",
       "  'D-1_377_CTCAATC18051949_38.png',\n",
       "  'D-1_377_CTCAATC18051949_28.png',\n",
       "  'D-1_377_CTCAATC18051949_19.png',\n",
       "  'D-1_377_CTCAATC18051949_44.png',\n",
       "  'D-1_377_CTCAATC18051949_34.png',\n",
       "  'D-1_377_CTCAATC18051949_42.png',\n",
       "  'D-1_377_CTCAATC18051949_15.png',\n",
       "  'D-1_377_CTCAATC18051949_8.png',\n",
       "  'D-1_377_CTCAATC18051949_18.png',\n",
       "  'D-1_377_CTCAATC18051949_13.png',\n",
       "  'D-1_377_CTCAATC18051949_17.png',\n",
       "  'D-1_377_CTCAATC18051949_49.png',\n",
       "  'D-1_377_CTCAATC18051949_12.png',\n",
       "  'D-1_377_CTCAATC18051949_37.png',\n",
       "  'D-1_377_CTCAATC18051949_29.png',\n",
       "  'D-1_377_CTCAATC18051949_6.png',\n",
       "  'D-1_377_CTCAATC18051949_35.png',\n",
       "  'D-1_377_CTCAATC18051949_47.png',\n",
       "  'D-1_377_CTCAATC18051949_3.png',\n",
       "  'D-1_377_CTCAATC18051949_45.png',\n",
       "  'D-1_377_CTCAATC18051949_41.png',\n",
       "  'D-1_377_CTCAATC18051949_25.png',\n",
       "  'D-1_377_CTCAATC18051949_22.png']}"
      ]
     },
     "execution_count": 55,
     "metadata": {},
     "output_type": "execute_result"
    }
   ],
   "source": [
    "path_to_patient = r'/home/petryshak/CoronaryArteryPlaqueIdentification/data/ONLY_LAD/CTCAATC18051949'\n",
    "get_labels(path_to_patient)\n",
    "get_imgs_names_to_the_labels(path_to_patient ,get_labels(path_to_patient))"
   ]
  },
  {
   "cell_type": "markdown",
   "metadata": {},
   "source": [
    "# 2 Rename all images per patient"
   ]
  },
  {
   "cell_type": "code",
   "execution_count": 5,
   "metadata": {},
   "outputs": [],
   "source": [
    "PATH_TO_DATA = r'D:\\images\\\\'\n",
    " \n",
    "image_types = os.listdir(PATH_TO_DATA)"
   ]
  },
  {
   "cell_type": "code",
   "execution_count": null,
   "metadata": {},
   "outputs": [],
   "source": [
    "for img_type in image_types:\n",
    "    images_names = os.listdir(os.path.join(PATH_TO_DATA, img_type))\n",
    "    for img_name in images_names:\n",
    "        os.rename(os.path.join(PATH_TO_DATA, img_type, img_name),\n",
    "                  os.path.join(PATH_TO_DATA, img_type, img_type+'_'+'_'.join(img_name.split(' '))))"
   ]
  },
  {
   "cell_type": "markdown",
   "metadata": {},
   "source": [
    "# Rename all images in all patients"
   ]
  },
  {
   "cell_type": "code",
   "execution_count": 43,
   "metadata": {},
   "outputs": [],
   "source": [
    "PATH_TO_DATA = '/home/petryshak/CoronaryArteryPlaqueIdentification/data/thrash'\n",
    "patients_names = os.listdir(PATH_TO_DATA)\n",
    "\n",
    "for patient_name in tqdm(patients_names):\n",
    "    images_types = os.listdir(os.path.join(PATH_TO_DATA, patient_name))\n",
    "    \n",
    "    for img_type in images_types:\n",
    "        images_names = os.listdir(os.path.join(PATH_TO_DATA, patient_name, img_type))\n",
    "        for img_name in images_names:\n",
    "            os.rename(os.path.join(PATH_TO_DATA, patient_name, img_type, img_name),\n",
    "                      os.path.join(PATH_TO_DATA, patient_name, img_type, img_type+'_'+'_'.join(img_name.split(' '))))"
   ]
  },
  {
   "cell_type": "markdown",
   "metadata": {},
   "source": [
    "# 3 Create final dataset and create excel file with labels per image"
   ]
  },
  {
   "cell_type": "code",
   "execution_count": 5,
   "metadata": {
    "scrolled": true
   },
   "outputs": [
    {
     "name": "stderr",
     "output_type": "stream",
     "text": [
      "100%|██████████| 694/694 [00:50<00:00, 13.73it/s]\n"
     ]
    }
   ],
   "source": [
    "PATH_TO_DATA = r'/home/petryshak/CoronaryArteryPlaqueIdentification/data/binary_classification_only_lad/train'\n",
    "list_of_patients = os.listdir(PATH_TO_DATA)\n",
    "\n",
    "labels_csv = pd.DataFrame(columns=['PATIENT_NAME', 'IMG_NAME', 'LABEL'])\n",
    "\n",
    "for i in tqdm(range(len(list_of_patients))):\n",
    "    if i == 0:\n",
    "        continue\n",
    "    labels = get_labels(os.path.join(PATH_TO_DATA, list_of_patients[i]))\n",
    "    dict_labels_images = get_imgs_names_to_the_labels(os.path.join(PATH_TO_DATA, list_of_patients[i]), labels)\n",
    "    for key in dict_labels_images:\n",
    "        each_ind = 0\n",
    "\n",
    "        for j in range(len(dict_labels_images[key])):\n",
    "            if each_ind % 3 == 0:\n",
    "                new_row = pd.Series([list_of_patients[i],dict_labels_images[key][j], key],index=labels_csv.columns)\n",
    "                labels_csv = labels_csv.append(new_row, ignore_index=True)\n",
    "            each_ind+=1            \n"
   ]
  },
  {
   "cell_type": "code",
   "execution_count": 8,
   "metadata": {},
   "outputs": [
    {
     "data": {
      "text/plain": [
       "1    287\n",
       "0    254\n",
       "Name: LABEL, dtype: int64"
      ]
     },
     "execution_count": 8,
     "metadata": {},
     "output_type": "execute_result"
    }
   ],
   "source": [
    "pd.value_counts(labels_csv['LABEL'])"
   ]
  },
  {
   "cell_type": "code",
   "execution_count": 11,
   "metadata": {},
   "outputs": [],
   "source": [
    "labels_csv.to_csv('train.csv')"
   ]
  },
  {
   "cell_type": "code",
   "execution_count": 9,
   "metadata": {},
   "outputs": [
    {
     "data": {
      "text/html": [
       "<div>\n",
       "<style scoped>\n",
       "    .dataframe tbody tr th:only-of-type {\n",
       "        vertical-align: middle;\n",
       "    }\n",
       "\n",
       "    .dataframe tbody tr th {\n",
       "        vertical-align: top;\n",
       "    }\n",
       "\n",
       "    .dataframe thead th {\n",
       "        text-align: right;\n",
       "    }\n",
       "</style>\n",
       "<table border=\"1\" class=\"dataframe\">\n",
       "  <thead>\n",
       "    <tr style=\"text-align: right;\">\n",
       "      <th></th>\n",
       "      <th>ARTERY_SECTION</th>\n",
       "      <th>PATIENT_NAME</th>\n",
       "      <th>IMG_NAME</th>\n",
       "      <th>LABEL</th>\n",
       "    </tr>\n",
       "  </thead>\n",
       "  <tbody>\n",
       "    <tr>\n",
       "      <th>0</th>\n",
       "      <td>0</td>\n",
       "      <td>CTCAYOG08091955</td>\n",
       "      <td>D-2_889_CTCAYOG08091955_13.png</td>\n",
       "      <td>0</td>\n",
       "    </tr>\n",
       "    <tr>\n",
       "      <th>1</th>\n",
       "      <td>0</td>\n",
       "      <td>CTCAYOG08091955</td>\n",
       "      <td>D-2_889_CTCAYOG08091955_18.png</td>\n",
       "      <td>0</td>\n",
       "    </tr>\n",
       "    <tr>\n",
       "      <th>2</th>\n",
       "      <td>0</td>\n",
       "      <td>CTCAYOG08091955</td>\n",
       "      <td>D-2_889_CTCAYOG08091955_8.png</td>\n",
       "      <td>0</td>\n",
       "    </tr>\n",
       "    <tr>\n",
       "      <th>3</th>\n",
       "      <td>0</td>\n",
       "      <td>CTCAYOG08091955</td>\n",
       "      <td>D-2_889_CTCAYOG08091955_25.png</td>\n",
       "      <td>0</td>\n",
       "    </tr>\n",
       "    <tr>\n",
       "      <th>4</th>\n",
       "      <td>0</td>\n",
       "      <td>CTCAYOG08091955</td>\n",
       "      <td>D-2_889_CTCAYOG08091955_29.png</td>\n",
       "      <td>0</td>\n",
       "    </tr>\n",
       "  </tbody>\n",
       "</table>\n",
       "</div>"
      ],
      "text/plain": [
       "  ARTERY_SECTION     PATIENT_NAME                        IMG_NAME LABEL\n",
       "0              0  CTCAYOG08091955  D-2_889_CTCAYOG08091955_13.png     0\n",
       "1              0  CTCAYOG08091955  D-2_889_CTCAYOG08091955_18.png     0\n",
       "2              0  CTCAYOG08091955   D-2_889_CTCAYOG08091955_8.png     0\n",
       "3              0  CTCAYOG08091955  D-2_889_CTCAYOG08091955_25.png     0\n",
       "4              0  CTCAYOG08091955  D-2_889_CTCAYOG08091955_29.png     0"
      ]
     },
     "execution_count": 9,
     "metadata": {},
     "output_type": "execute_result"
    }
   ],
   "source": [
    "labels_csv.head()"
   ]
  },
  {
   "cell_type": "code",
   "execution_count": null,
   "metadata": {},
   "outputs": [],
   "source": []
  },
  {
   "cell_type": "markdown",
   "metadata": {},
   "source": [
    "# 1 Rename patients folders names"
   ]
  },
  {
   "cell_type": "code",
   "execution_count": 41,
   "metadata": {},
   "outputs": [],
   "source": [
    "file_names = os.listdir(path_to_rename)\n",
    "file_names_reports = list(reports['PATIENT_ID'])"
   ]
  },
  {
   "cell_type": "code",
   "execution_count": 42,
   "metadata": {},
   "outputs": [],
   "source": [
    "path_to_rename = '/home/petryshak/CoronaryArteryPlaqueIdentification/data/thrash'\n",
    "new_values = []\n",
    "exceptions_which_should_be_added = \\\n",
    "    [\n",
    "     '348 CTCAGRH27071943',\n",
    "     '349 CTCANGM17081945',\n",
    "     '350 CTCATRH10061944',\n",
    "     '351 CTCAGRH27071943',\n",
    "     '353 CTCANGM17081945',\n",
    "     '371 CTCATRH10061944'\n",
    "    ]\n",
    "\n",
    "for i in range(len(file_names)):\n",
    "    if file_names[i] in exceptions_which_should_be_added:\n",
    "        continue\n",
    "    \n",
    "    splited_value = file_names[i].split(' ')\n",
    "    if len(splited_value[0]) == 4 or file_names[i] in exceptions_which_should_be_added:\n",
    "        new_values.append(file_names[i])\n",
    "    else:\n",
    "        os.rename(os.path.join(path_to_rename, file_names[i]), os.path.join(path_to_rename, splited_value[1]))\n",
    "        new_values.append(splited_value[1])"
   ]
  },
  {
   "cell_type": "code",
   "execution_count": null,
   "metadata": {},
   "outputs": [],
   "source": [
    "list_of_folders = os.listdir('E:\\ONLY_LAD')"
   ]
  },
  {
   "cell_type": "code",
   "execution_count": null,
   "metadata": {
    "scrolled": true
   },
   "outputs": [],
   "source": [
    "remove_files = []\n",
    "for i in range(len(list_of_folders)):\n",
    "    if list_of_folders[i] not in file_names_reports:\n",
    "        remove_files.append(list_of_folders[i])\n",
    "#         shutil.move(os.path.join('E:\\ONLY_LAD\\\\',list_of_folders[i]), \n",
    "#                     os.path.join('E:\\exceptions_lad\\\\', list_of_folders[i]))"
   ]
  },
  {
   "cell_type": "code",
   "execution_count": null,
   "metadata": {},
   "outputs": [],
   "source": []
  },
  {
   "cell_type": "code",
   "execution_count": 10,
   "metadata": {},
   "outputs": [
    {
     "name": "stdout",
     "output_type": "stream",
     "text": [
      "2D-2\n",
      "2D-2\n",
      "2D-2\n",
      "2D-2\n",
      "2D-2\n",
      "2D-2\n",
      "2D-2\n",
      "2D-2\n",
      "2D-2\n",
      "2D-2\n",
      "2D-2\n",
      "2D-2\n",
      "2D-2\n",
      "2D-2\n",
      "2D-2\n",
      "2D-2\n",
      "2D-2\n",
      "LADOriginal\n",
      "LADOriginal\n",
      "LADOriginal\n",
      "LADOriginal\n",
      "LADOriginal\n",
      "LADOriginal\n",
      "LADOriginal\n",
      "LADOriginal\n",
      "LADOriginal\n",
      "LADOriginal\n",
      "LADOriginal\n",
      "LADOriginal\n",
      "LADOriginal\n",
      "LADOriginal\n",
      "LADOriginal\n",
      "LADOriginal\n",
      "LADOriginal\n",
      "D-1Original\n",
      "D-1Original\n",
      "D-1Original\n",
      "D-1Original\n",
      "D-1Original\n",
      "D-1Original\n",
      "D-1Original\n",
      "D-1Original\n",
      "D-1Original\n",
      "D-1Original\n",
      "D-1Original\n",
      "D-1Original\n",
      "D-1Original\n",
      "D-1Original\n",
      "D-1Original\n",
      "D-1Original\n",
      "D-1Original\n"
     ]
    }
   ],
   "source": [
    "for i in range(len(labels_csv)):\n",
    "    lol = labels_csv['IMG_NAME'].iloc[i].split('_')[0]\n",
    "    if lol not in ['LAD', 'D-1', 'D-2', 'D-3', 'D-4']:\n",
    "        print(lol)"
   ]
  },
  {
   "cell_type": "code",
   "execution_count": null,
   "metadata": {},
   "outputs": [],
   "source": []
  }
 ],
 "metadata": {
  "kernelspec": {
   "display_name": "Python 3",
   "language": "python",
   "name": "python3"
  },
  "language_info": {
   "codemirror_mode": {
    "name": "ipython",
    "version": 3
   },
   "file_extension": ".py",
   "mimetype": "text/x-python",
   "name": "python",
   "nbconvert_exporter": "python",
   "pygments_lexer": "ipython3",
   "version": "3.5.2"
  }
 },
 "nbformat": 4,
 "nbformat_minor": 2
}
