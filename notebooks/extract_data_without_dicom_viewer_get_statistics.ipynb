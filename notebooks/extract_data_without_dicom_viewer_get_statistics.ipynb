{
 "cells": [
  {
   "cell_type": "code",
   "execution_count": 1,
   "metadata": {},
   "outputs": [],
   "source": [
    "import pandas as pd\n",
    "import pydicom as dicom\n",
    "from PIL import Image\n",
    "import numpy as np\n",
    "import os\n",
    "import cv2\n",
    "import shutil\n",
    "from tqdm import tqdm\n",
    "import matplotlib.pyplot as plt"
   ]
  },
  {
   "cell_type": "markdown",
   "metadata": {},
   "source": [
    "# Helpful functions\n"
   ]
  },
  {
   "cell_type": "code",
   "execution_count": 2,
   "metadata": {
    "scrolled": true
   },
   "outputs": [],
   "source": [
    "def check_wether_patient_has_records(path_to_patient_folder, get_names_of_records=False):\n",
    "    \n",
    "    \"\"\"\n",
    "    Args:\n",
    "        get_names_of_records (bool): wether return names of record files\n",
    "        \n",
    "    Returns:\n",
    "        bool: Retuns value. True if patient folder contains the records and False otherwise. \n",
    "        or\n",
    "        tuple (bool, list): returns bool and names of the record files for the patient.  \n",
    "    \"\"\"\n",
    "    names_of_the_records = [x for x in os.listdir(path_to_patient_folder) if 'doc' in x or 'xlsx' in x]\n",
    "    if get_names_of_records:\n",
    "        return len(names_of_the_records) >=1, names_of_the_records\n",
    "    else:\n",
    "        return len(names_of_the_records) >=1\n",
    "\n",
    "def check_wether_patient_has_image_data(path_to_patient_folder):\n",
    "    \"\"\"\n",
    "    Returns:\n",
    "        bool : Returns True if patient folder contatin image data and False otherwise\n",
    "    \"\"\"\n",
    "    names_of_the_records = [x for x in os.listdir(path_to_patient_folder) if 'DICOMOBJ' in x]\n",
    "    return len(names_of_the_records) >= 1\n",
    "\n",
    "def get_structure_of_the_dataset(path_to_dataset):\n",
    "    \"\"\"\n",
    "    \n",
    "    Returns:\n",
    "        dict :  keys - patient names(str): values (list of strings) - paths to the images and records\n",
    "                                                    \n",
    "    \"\"\"\n",
    "    patients_database = {}\n",
    "    \n",
    "    reports_folders = [x for x in os.listdir(path_to_dataset) if not any(i in x for i in\n",
    "                            ['System', 'BIN', '$.BIN', 'Autorun.inf','Seagate', 'SeagateExpansion.ico', \n",
    "                             'Start_Here_Mac.app', 'Start_Here_Win.exe', 'Warranty.pdf'])]\n",
    "                       #'System' not in x and 'BIN' not in x]\n",
    "    for report_folder in tqdm(reports_folders):\n",
    "        patients_per_folder = os.listdir(os.path.join(path_to_dataset, report_folder))\n",
    "        \n",
    "        for patient in patients_per_folder:\n",
    "            \n",
    "            files_in_patient_folder = os.listdir(os.path.join(path_to_dataset, report_folder, patient))\n",
    "            \n",
    "            if check_wether_patient_has_image_data(os.path.join(path_to_dataset, report_folder, patient)):\n",
    "                patient_images = os.listdir(os.path.join(path_to_dataset, report_folder, patient, 'DICOMOBJ'))\n",
    "                patient_images_paths = [os.path.join(path_to_dataset, report_folder, patient, 'DICOMOBJ', x) \n",
    "                                 for x in patient_images]\n",
    "            else:\n",
    "                patient_images = []\n",
    "                patient_images_paths = []\n",
    "            _, patient_records = check_wether_patient_has_records(\n",
    "                                      os.path.join(path_to_dataset, report_folder, patient), \n",
    "                                      get_names_of_records=True)\n",
    "            patient_records_paths = [os.path.join(path_to_dataset, report_folder, patient, x) for x in patient_records]\n",
    "            patients_database[patient] = []\n",
    "            patients_database[patient] += patient_records_paths\n",
    "            patients_database[patient] += patient_images_paths\n",
    "    \n",
    "    return patients_database"
   ]
  },
  {
   "cell_type": "markdown",
   "metadata": {},
   "source": [
    "# Dataset statistics"
   ]
  },
  {
   "cell_type": "code",
   "execution_count": 3,
   "metadata": {},
   "outputs": [],
   "source": [
    "PATH_TO_THE_WHOLE_DATASET = 'E:\\\\'"
   ]
  },
  {
   "cell_type": "code",
   "execution_count": 4,
   "metadata": {},
   "outputs": [
    {
     "name": "stderr",
     "output_type": "stream",
     "text": [
      "100%|██████████████████████████████████████████████████████████████████████████████████| 55/55 [00:09<00:00,  6.35it/s]\n"
     ]
    }
   ],
   "source": [
    "patients_database = get_structure_of_the_dataset(PATH_TO_THE_WHOLE_DATASET)"
   ]
  },
  {
   "cell_type": "markdown",
   "metadata": {},
   "source": [
    "### Patients without images or even Empty folders"
   ]
  },
  {
   "cell_type": "code",
   "execution_count": 55,
   "metadata": {},
   "outputs": [
    {
     "name": "stdout",
     "output_type": "stream",
     "text": [
      "18 CTCAHAS15091955 ['E:\\\\CTCA NO RECONS EXCEL REPORTS 1-30\\\\18 CTCAHAS15091955\\\\REPORT CTCAHAS15091955.xlsx']\n",
      "19 CTCAYOM10121943 ['E:\\\\CTCA NO RECONS EXCEL REPORTS 1-30\\\\19 CTCAYOM10121943\\\\REPORT CTCAYOM10121943.xlsx']\n",
      "119 CTCADIJ08101969 ['E:\\\\CTCA NO RECONS EXCEL REPORTS 111-130\\\\119 CTCADIJ08101969\\\\REPORT CTCADIJ08101969.xlsx']\n",
      "127 CTCALUT11021950 ['E:\\\\CTCA NO RECONS EXCEL REPORTS 111-130\\\\127 CTCALUT11021950\\\\REPORT CTCALUT11021950.xlsx']\n",
      "129 CTCABOE18111946 ['E:\\\\CTCA NO RECONS EXCEL REPORTS 111-130\\\\129 CTCABOE18111946\\\\REPORT CTCABOE18111946.xlsx']\n",
      "275 CTCAMCM21081951 ['E:\\\\CTCA NO RECONS EXCEL REPORTS 271-290\\\\275 CTCAMCM21081951\\\\REPORT CTCAMCM21081951.xlsx']\n",
      "278 CTCATRJ09081960 ['E:\\\\CTCA NO RECONS EXCEL REPORTS 271-290\\\\278 CTCATRJ09081960\\\\REPORT CTCATRJ09081960.xlsx']\n",
      "29 CTCAGIS19031946 []\n",
      "32 CTCAPAS14011976 []\n",
      "41 CTCADUA20091962 ['E:\\\\CTCA NO RECONS EXCEL REPORTS 31-50\\\\41 CTCADUA20091962\\\\REPORT CTCADUA20091962.xlsx']\n",
      "42 CTCANAB01011955 ['E:\\\\CTCA NO RECONS EXCEL REPORTS 31-50\\\\42 CTCANAB01011955\\\\REPORT CTCANAB01011955.xlsx']\n",
      "76 CTCARER11081939 ['E:\\\\CTCA NO RECONS EXCEL REPORTS 71-90\\\\76 CTCARER11081939\\\\REPORT CTCARER11081939.xlsx']\n",
      "323 C TCAMAJ25091943 ['E:\\\\CTCA WITH RECONS EXCEL REPORTS 321-350\\\\323 C TCAMAJ25091943\\\\REPORT CTCAMAJ25091943.xlsx']\n",
      "337 CTCAFON19121956 ['E:\\\\CTCA WITH RECONS EXCEL REPORTS 321-350\\\\337 CTCAFON19121956\\\\REPORT CTCAFON19121956.xlsx']\n",
      "881 CTCAFRZ25041962 ['E:\\\\CTCA WITH RECONS EXCEL REPORTS 871-890\\\\881 CTCAFRZ25041962\\\\REPORT CTCAFRZ25041962.xlsx']\n",
      "905 CTCAFER25031943 ['E:\\\\CTCA WITH RECONS EXCEL REPORTS 891-910\\\\905 CTCAFER25031943\\\\REPORT CTCAFER25031943.xlsx']\n",
      "909 CTCALID04021953 ['E:\\\\CTCA WITH RECONS EXCEL REPORTS 891-910\\\\909 CTCALID04021953\\\\REPORT CTCALID04021953.xlsx']\n",
      "935 CTCAKAA04061988 ['E:\\\\CTCA WITH RECONS EXCEL REPORTS 931-950\\\\935 CTCAKAA04061988\\\\REPORT CTCAKAA04061988.xlsx']\n"
     ]
    }
   ],
   "source": [
    "for i in patients_database:\n",
    "    if len(patients_database[i]) <=1:\n",
    "        print(i, patients_database[i])"
   ]
  },
  {
   "cell_type": "markdown",
   "metadata": {},
   "source": [
    "### Patient with a very few images"
   ]
  },
  {
   "cell_type": "code",
   "execution_count": 56,
   "metadata": {},
   "outputs": [
    {
     "name": "stdout",
     "output_type": "stream",
     "text": [
      "24 CTCAAHG14111965 ['E:\\\\CTCA NO RECONS EXCEL REPORTS 1-30\\\\24 CTCAAHG14111965\\\\REPORT CTCAAHG14111965.xlsx', 'E:\\\\CTCA NO RECONS EXCEL REPORTS 1-30\\\\24 CTCAAHG14111965\\\\DICOMOBJ\\\\00000001']\n",
      "140 CTCACHP07101955 ['E:\\\\CTCA NO RECONS EXCEL REPORTS 131-150\\\\140 CTCACHP07101955\\\\REPORT CTCACHP07101955.xlsx', 'E:\\\\CTCA NO RECONS EXCEL REPORTS 131-150\\\\140 CTCACHP07101955\\\\DICOMOBJ\\\\00000001']\n",
      "798 CTCASAC09091967 ['E:\\\\CTCA WITH RECONS EXCEL REPORTS 791-810\\\\798 CTCASAC09091967\\\\REPORT CTCASAC09091967.xlsx', 'E:\\\\CTCA WITH RECONS EXCEL REPORTS 791-810\\\\798 CTCASAC09091967\\\\DICOMOBJ\\\\00000001']\n"
     ]
    }
   ],
   "source": [
    "for i in patients_database:\n",
    "    if len(patients_database[i]) <=20 and len(patients_database[i]) >1:\n",
    "        print(i, patients_database[i])"
   ]
  },
  {
   "cell_type": "markdown",
   "metadata": {},
   "source": [
    "### Patients without Records"
   ]
  },
  {
   "cell_type": "code",
   "execution_count": 57,
   "metadata": {
    "scrolled": true
   },
   "outputs": [
    {
     "name": "stdout",
     "output_type": "stream",
     "text": [
      "1 CTCACOB24121949\n",
      "349 CTCANGM17081945\n",
      "428 CTCASIN11111959\n",
      "629 CTCATAA17041965\n",
      "952 CTCASTV03081936\n"
     ]
    }
   ],
   "source": [
    "for i in patients_database:\n",
    "    if len(patients_database[i])>=1:\n",
    "        \n",
    "        if not patients_database[i][0].endswith('docx') and \\\n",
    "            not patients_database[i][0].endswith('xlsx'):\n",
    "            print(i)"
   ]
  },
  {
   "cell_type": "markdown",
   "metadata": {},
   "source": [
    "### Number of DOCX and XLSX"
   ]
  },
  {
   "cell_type": "code",
   "execution_count": 58,
   "metadata": {
    "scrolled": true
   },
   "outputs": [
    {
     "name": "stdout",
     "output_type": "stream",
     "text": [
      "Num of docs:  20\n",
      "Num of excels:  1044\n"
     ]
    }
   ],
   "source": [
    "word = 0\n",
    "excel = 0\n",
    "for i in patients_database:\n",
    "    if len(patients_database[i])>=1:\n",
    "        if patients_database[i][0].endswith('docx'):\n",
    "            word+=1\n",
    "        elif patients_database[i][0].endswith('xlsx'):\n",
    "            excel += 1\n",
    "\n",
    "print(\"Num of docs: \", word)\n",
    "print(\"Num of excels: \", excel)"
   ]
  },
  {
   "cell_type": "markdown",
   "metadata": {},
   "source": [
    "# Copy only images and reports"
   ]
  },
  {
   "cell_type": "code",
   "execution_count": 59,
   "metadata": {
    "scrolled": true
   },
   "outputs": [
    {
     "name": "stderr",
     "output_type": "stream",
     "text": [
      "100%|███████████████████████████████████████████████████████████████████████████| 1071/1071 [00:00<00:00, 11400.34it/s]\n"
     ]
    }
   ],
   "source": [
    "def copy_dataset(patients_database, path_to_copy):\n",
    "    \"\"\"\n",
    "    Copy only image data and records without DICOM viewer program\n",
    "    Args:\n",
    "        patients_database (dict): dictionary with patients and corresponding \n",
    "                                  images and records\n",
    "        path_to_copy (str): destination folder, where all dataset will\n",
    "                            be located\n",
    "        \n",
    "    Returns:\n",
    "        None\n",
    "    \"\"\"\n",
    "    # Create folder to the dataset\n",
    "    if not os.path.exists(path_to_copy):\n",
    "        os.mkdir(path_to_copy)\n",
    "    \n",
    "    for patient in tqdm(patients_database):\n",
    "        # Check wether patient's folder contains images\n",
    "        if len(patients_database[patient]) <=2:\n",
    "            continue\n",
    "            \n",
    "        # Check wether patient contains the records\n",
    "        path_to_the_patient = patients_database[patient][0]\n",
    "        path_to_the_patient = '\\\\'.join(path_to_the_patient.split('\\\\')[:2])\n",
    "        if not check_wether_patient_has_records(path_to_the_patient):\n",
    "            continue\n",
    "         \n",
    "        group_folder_name = patients_database[patient][0].split('\\\\')[0][2:]\n",
    "        group_folder_name = '_'.join([x.lower() for x in group_folder_name.split()])\n",
    "        patient_folder_name = patients_database[patient][0].split('\\\\')[1]\n",
    "        patient_folder_name = '_'.join([x for x in patient_folder_name.split()])\n",
    "        \n",
    "        # Create directories\n",
    "        if not os.path.exists(os.path.join(path_to_copy, group_folder_name)):\n",
    "            os.mkdir(os.path.join(path_to_copy, group_folder_name))\n",
    "        if not os.path.exists(os.path.join(path_to_copy, group_folder_name, patient_folder_name)):\n",
    "            os.mkdir(os.path.join(path_to_copy, group_folder_name, patient_folder_name))\n",
    "        \n",
    "        # Copy Records\n",
    "        shutil.copy(patients_database[patient][0], os.path.join(\n",
    "                path_to_copy, group_folder_name, patient_folder_name, patients_database[patient][0].split('\\\\')[-1]))\n",
    "        \n",
    "        # Create folder patients's for images\n",
    "        if not os.path.exists(os.path.join( path_to_copy, group_folder_name, patient_folder_name, 'images')):\n",
    "            os.mkdir(os.path.join( path_to_copy, group_folder_name, patient_folder_name, 'images'))\n",
    "            \n",
    "        # Copy images\n",
    "        for i in range(1, len(patients_database[patient])):\n",
    "            shutil.copy(patients_database[patient][i], os.path.join(\n",
    "                path_to_copy, group_folder_name, patient_folder_name, 'images', patients_database[patient][i].split('\\\\')[-1]))\n",
    "\n",
    "copy_dataset(patients_database, 'D:\\coronaryProject\\dataset')"
   ]
  },
  {
   "cell_type": "code",
   "execution_count": 7,
   "metadata": {},
   "outputs": [
    {
     "name": "stdout",
     "output_type": "stream",
     "text": [
      "1 CTCACOB24121949\n"
     ]
    }
   ],
   "source": [
    "for key in patients_database:\n",
    "    print(key)\n",
    "    break"
   ]
  },
  {
   "cell_type": "code",
   "execution_count": null,
   "metadata": {},
   "outputs": [],
   "source": []
  },
  {
   "cell_type": "code",
   "execution_count": null,
   "metadata": {},
   "outputs": [],
   "source": []
  }
 ],
 "metadata": {
  "kernelspec": {
   "display_name": "Python 3",
   "language": "python",
   "name": "python3"
  },
  "language_info": {
   "codemirror_mode": {
    "name": "ipython",
    "version": 3
   },
   "file_extension": ".py",
   "mimetype": "text/x-python",
   "name": "python",
   "nbconvert_exporter": "python",
   "pygments_lexer": "ipython3",
   "version": "3.6.8"
  }
 },
 "nbformat": 4,
 "nbformat_minor": 2
}
