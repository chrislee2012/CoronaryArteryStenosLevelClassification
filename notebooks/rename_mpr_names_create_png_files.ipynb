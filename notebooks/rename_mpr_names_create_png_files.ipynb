{
 "cells": [
  {
   "cell_type": "code",
   "execution_count": 69,
   "metadata": {},
   "outputs": [],
   "source": [
    "import pandas as pd\n",
    "import os\n",
    "from tqdm import tqdm\n",
    "import re\n",
    "from numpy import nan as Nan\n",
    "import pydicom as dicom\n",
    "import cv2"
   ]
  },
  {
   "cell_type": "code",
   "execution_count": 2,
   "metadata": {},
   "outputs": [],
   "source": [
    "def split_mpr_name(mpr_name):\n",
    "    return \\\n",
    "        \"\".join(mpr_name.split()).replace('*', '').replace('original', '') \\\n",
    "        .replace('LIMA-', '').replace('Branchof','').replace('TOPDA', '').replace('PDATO', '')\n",
    "\n",
    "def get_patient_dictionary(path_to_patient_folder):\n",
    "    \"\"\"\n",
    "    \n",
    "    Returns dict of different types of images in the folder of patient. \n",
    "    \n",
    "    Returns:\n",
    "        dict: key - type of images; value - list of DICOM files, which sorted in the ascending order with restepct to the\n",
    "                    depth of the image slice.\n",
    "    \"\"\"\n",
    "    patient_dict = {}\n",
    "    \n",
    "    dicom_file_names = os.listdir(path_to_patient_folder)\n",
    "    \n",
    "    for i in range(len(dicom_file_names)):\n",
    "        cur_dicom_obj = dicom.dcmread(os.path.join(path_to_patient_folder, dicom_file_names[i]))\n",
    "        \n",
    "        if cur_dicom_obj.SeriesDescription not in patient_dict.keys():\n",
    "            patient_dict[cur_dicom_obj.SeriesDescription] = []\n",
    "        patient_dict[cur_dicom_obj.SeriesDescription].append(cur_dicom_obj)\n",
    "        \n",
    "    # sort each type of images with respect to their depth in ascending order\n",
    "    for i in patient_dict:\n",
    "        patient_dict[i].sort(key=lambda x: x.InstanceNumber)\n",
    "    \n",
    "    return patient_dict\n",
    "\n",
    "def get_pixels_hu(list_of_imgs):\n",
    "    \"\"\"\n",
    "    Convert stack of the images into Houndsfeld units\n",
    "    \"\"\"\n",
    "    image = np.stack([s.pixel_array for s in list_of_imgs])\n",
    "    # Convert to int16 (from sometimes int16), \n",
    "    # should be possible as values should always be low enough (<32k)\n",
    "    image = image.astype(np.int16)\n",
    "\n",
    "    # Set outside-of-scan pixels to 1\n",
    "    # The intercept is usually -1024, so air is approximately 0\n",
    "    image[image == -2000] = 0\n",
    "    \n",
    "    # Convert to Hounsfield units (HU)\n",
    "    intercept = list_of_imgs[0].RescaleIntercept\n",
    "    slope = list_of_imgs[0].RescaleSlope\n",
    "    \n",
    "    if slope != 1:\n",
    "        image = slope * image.astype(np.float64)\n",
    "        image = image.astype(np.int16)\n",
    "        \n",
    "    image += np.int16(intercept)\n",
    "    \n",
    "    return np.array(image, dtype=np.int16)"
   ]
  },
  {
   "cell_type": "code",
   "execution_count": 44,
   "metadata": {},
   "outputs": [],
   "source": [
    "path_to_data = r'D:\\coronaryProject\\dataset\\binary_classification_MPR\\images'\n",
    "path_to_new_data = r'E:\\ONLY_LAD\\\\'\n",
    "\n",
    "list_of_patients = os.listdir(path_to_data)\n",
    "# patient_dictionary = get_patient_dictionary(path_to_data + '\\\\'+ list_of_patients[0])"
   ]
  },
  {
   "cell_type": "code",
   "execution_count": null,
   "metadata": {
    "scrolled": true
   },
   "outputs": [
    {
     "name": "stderr",
     "output_type": "stream",
     "text": [
      " 16%|████████████▍                                                                 | 118/743 [34:53<2:26:42, 14.08s/it]"
     ]
    }
   ],
   "source": [
    "for i in tqdm(range(len(list_of_patients))):\n",
    "    patient_dictionary = get_patient_dictionary(path_to_data + '\\\\'+ list_of_patients[i])\n",
    "    splited_mpr_names = [split_mpr_name(x) for x in patient_dictionary.keys()]\n",
    "    splited_mpr_names_filtered = [split_mpr_name(x).replace('LAD-', '').replace('D','D-').replace('AD-', 'AD') for x in patient_dictionary.keys() \n",
    "                                  if 'LAD' in split_mpr_name(x)]\n",
    "    dict_keys = list(patient_dictionary.keys())\n",
    "    \n",
    "    # change keys in the dict to the corresponding labels in the reports\n",
    "    for key_element in dict_keys:\n",
    "        patient_dictionary[split_mpr_name(key_element).replace('LAD-', '').replace('D','D-').replace('AD-', 'AD')] = \\\n",
    "            patient_dictionary[key_element]\n",
    "        del patient_dictionary[key_element]\n",
    "    \n",
    "    if not os.path.exists(os.path.join(path_to_new_data, list_of_patients[i])):\n",
    "        os.mkdir(os.path.join(path_to_new_data, list_of_patients[i]))\n",
    "    \n",
    "    for key in patient_dictionary.keys():\n",
    "        if key not in splited_mpr_names_filtered:\n",
    "            continue\n",
    "        \n",
    "        for dicom_file in patient_dictionary[key]:\n",
    "            if not os.path.exists(os.path.join(path_to_new_data, list_of_patients[i])):\n",
    "                os.mkdir(os.path.join(path_to_new_data, list_of_patients[i]))\n",
    "            \n",
    "            if not os.path.exists(os.path.join(path_to_new_data, list_of_patients[i], key)):\n",
    "                os.mkdir(os.path.join(path_to_new_data, list_of_patients[i], key))\n",
    "#             dicom_file.save_as(os.path.join(path_to_new_data, \n",
    "#                                             list_of_patients[i], \n",
    "#                                             key,\n",
    "#                                             list_of_patients[i]+'_'+str(dicom_file.InstanceNumber)\n",
    "#                                            )\n",
    "#                               )\n",
    "            cv2.imwrite(os.path.join(path_to_new_data, \n",
    "                                            list_of_patients[i], \n",
    "                                            key,\n",
    "                                            list_of_patients[i]+'_'+str(dicom_file.InstanceNumber)+'.png'\n",
    "                                           ),\n",
    "                        cv2.normalize(dicom_file.pixel_array, None, alpha = 0, \n",
    "                                      beta = 255, norm_type = cv2.NORM_MINMAX, dtype = cv2.CV_32F)\n",
    "                       )\n",
    "\n",
    "    "
   ]
  },
  {
   "cell_type": "code",
   "execution_count": 75,
   "metadata": {
    "scrolled": true
   },
   "outputs": [
    {
     "data": {
      "text/plain": [
       "4095"
      ]
     },
     "execution_count": 75,
     "metadata": {},
     "output_type": "execute_result"
    }
   ],
   "source": [
    "dicom_file.pixel_array.()"
   ]
  },
  {
   "cell_type": "markdown",
   "metadata": {},
   "source": [
    "# Rename patients folders with respect to the report names"
   ]
  },
  {
   "cell_type": "code",
   "execution_count": null,
   "metadata": {},
   "outputs": [],
   "source": []
  }
 ],
 "metadata": {
  "kernelspec": {
   "display_name": "Python 3",
   "language": "python",
   "name": "python3"
  },
  "language_info": {
   "codemirror_mode": {
    "name": "ipython",
    "version": 3
   },
   "file_extension": ".py",
   "mimetype": "text/x-python",
   "name": "python",
   "nbconvert_exporter": "python",
   "pygments_lexer": "ipython3",
   "version": "3.6.8"
  }
 },
 "nbformat": 4,
 "nbformat_minor": 2
}
