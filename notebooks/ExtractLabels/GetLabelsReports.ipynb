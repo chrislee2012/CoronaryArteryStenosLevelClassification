{
 "cells": [
  {
   "cell_type": "code",
   "execution_count": 3,
   "metadata": {},
   "outputs": [],
   "source": [
    "import pandas as pd\n",
    "import numpy as np\n",
    "import os\n",
    "import shutil\n",
    "from tqdm import tqdm\n",
    "import pydicom as dicom\n",
    "\n",
    "import os\n",
    "import re\n",
    "from numpy import nan as Nan"
   ]
  },
  {
   "cell_type": "code",
   "execution_count": 4,
   "metadata": {},
   "outputs": [],
   "source": [
    "##################################### ADDITIONAL FUNCTIONS #####################################################\n",
    "\n",
    "def strip_mpr_lad_name(mpr_name):\n",
    "    \"\"\"\n",
    "    Strip MPR name of the LAD artery. We do this step because the name in the doctor's report \n",
    "    is not equal to the name in the MPR. \n",
    "    \n",
    "    Returns:\n",
    "        - str: striped string\n",
    "    \"\"\"\n",
    "    return \"\".join(mpr_name.split()).replace('*', '').replace('original', '')\n",
    "\n",
    "def read_and_strip_record(path_to_record):\n",
    "    '''\n",
    "    Read record file and remove empty rows and rows with all NaNs.\n",
    "    \n",
    "    Returns:\n",
    "        - Pandas DataFrame: \n",
    "    '''\n",
    "    excel_file = pd.read_excel(path_to_record,index_col=None, header=None)\n",
    "    excel_file.dropna(how='all')\n",
    "    excel_file.rename(columns={0: 'a', 1: 'b'}, inplace=True)\n",
    "    excel_file = excel_file.fillna('  ')\n",
    "    excel_file = excel_file.replace('', '  ', regex=True)\n",
    "    excel_file = excel_file.drop(excel_file[excel_file['a'].str.isspace()].index)\n",
    "    return excel_file\n",
    "\n",
    "def get_lad_info_from_report(striped_record, artery_type):\n",
    "    \"\"\"\n",
    "    Takes striped(without any empty lines and NaNs) and returns info only about the certain artery type. \n",
    "    \n",
    "    Returns:\n",
    "        - list: each element is the string with some info about certain artery type\n",
    "    \"\"\"\n",
    "    lad_info = []\n",
    "    wether_add = False\n",
    "    lad_info.append(striped_record.iloc[0]['b'])\n",
    "    for ind, row_value in striped_record.iterrows():\n",
    "        if wether_add and row_value['a'].isupper():\n",
    "            break\n",
    "        if wether_add:\n",
    "            lad_info.append(row_value['a'])\n",
    "        \n",
    "        if artery_type in row_value['a']:\n",
    "            wether_add = True\n",
    "    return lad_info\n",
    "\n",
    "\n",
    "def get_level_of_stenosis_from_string(artery_info):\n",
    "    \"\"\"\n",
    "    Returns:\n",
    "        - list of str: each element is the string with percentage of stenosis. \n",
    "    \"\"\"\n",
    "    return [x.strip() for x in re.findall(r'.\\d{1,3}.?\\d{1,3}\\%', artery_info)]"
   ]
  },
  {
   "cell_type": "code",
   "execution_count": 5,
   "metadata": {},
   "outputs": [],
   "source": [
    "reports_path = r'/home/petryshak/CoronaryArteryPlaqueIdentification/data/reports'\n",
    "list_of_files = os.listdir(reports_path)"
   ]
  },
  {
   "cell_type": "code",
   "execution_count": 6,
   "metadata": {},
   "outputs": [],
   "source": [
    "# GET LIST OF ALL BRANCHES OF RCA\n",
    "unique_rca = list()\n",
    "for i in range(len(list_of_files)):\n",
    "    try:\n",
    "        cur_report_name = list_of_files[i]\n",
    "        cur_file = read_and_strip_record(os.path.join(reports_path, cur_report_name))\n",
    "        cur_patient_info = get_lad_info_from_report(cur_file, 'RIGHT CORONARY')\n",
    "        cur_patient_info.pop(0)\n",
    "        for name in [el.split(' -')[0] for el in cur_patient_info]:\n",
    "            new_branch = name.lstrip()\n",
    "            if len(new_branch) < 20 and '.' not in new_branch:\n",
    "                unique_rca.append(new_branch)\n",
    "    except:\n",
    "        print('Error!')"
   ]
  },
  {
   "cell_type": "code",
   "execution_count": 7,
   "metadata": {
    "scrolled": true
   },
   "outputs": [],
   "source": [
    "# GET LIST OF ALL BRANCHES OF LEFT CIRCUMFLEX \n",
    "unique_lcx = list()\n",
    "for i in range(len(list_of_files)):\n",
    "    try:\n",
    "        cur_report_name = list_of_files[i]\n",
    "        cur_file = read_and_strip_record(os.path.join(reports_path, cur_report_name))\n",
    "        cur_patient_info = get_lad_info_from_report(cur_file, 'LEFT CIRCUMFLEX')\n",
    "        cur_patient_info.pop(0)\n",
    "        for name in [el.split(' -')[0] for el in cur_patient_info]:\n",
    "            new_branch = name.lstrip()\n",
    "            if len(new_branch) < 20 and '.' not in new_branch:\n",
    "                unique_lcx.append(new_branch)\n",
    "    except:\n",
    "        print('Error!')"
   ]
  },
  {
   "cell_type": "code",
   "execution_count": 8,
   "metadata": {},
   "outputs": [
    {
     "data": {
      "text/plain": [
       "Index(['Proximal', 'OM1', 'Distal', 'OM2', 'OM3', 'PDA', 'PLV', 'PL'], dtype='object')"
      ]
     },
     "execution_count": 8,
     "metadata": {},
     "output_type": "execute_result"
    }
   ],
   "source": [
    "# UNIQUE LCX SECTIONS in REPORTS\n",
    "pd.Series(unique_lcx).value_counts()[pd.Series(unique_lcx).value_counts() > 20].index"
   ]
  },
  {
   "cell_type": "code",
   "execution_count": 9,
   "metadata": {},
   "outputs": [
    {
     "data": {
      "text/plain": [
       "Index(['Proximal', 'Distal', 'Mid', 'PDA', 'PLV'], dtype='object')"
      ]
     },
     "execution_count": 9,
     "metadata": {},
     "output_type": "execute_result"
    }
   ],
   "source": [
    "# UNIQUE RCA SECTIONS in REPORTS\n",
    "pd.Series(unique_rca).value_counts()[pd.Series(unique_rca).value_counts() > 5].index"
   ]
  },
  {
   "cell_type": "code",
   "execution_count": 10,
   "metadata": {},
   "outputs": [],
   "source": [
    "# UNIQUE BRANCHES in IMAGES\n",
    "# unique_branches_images = pd.read_csv('num_unique_branches.csv')"
   ]
  },
  {
   "cell_type": "code",
   "execution_count": 11,
   "metadata": {},
   "outputs": [
    {
     "name": "stderr",
     "output_type": "stream",
     "text": [
      "100%|██████████| 744/744 [00:09<00:00, 81.50it/s]\n"
     ]
    },
    {
     "data": {
      "text/html": [
       "<div>\n",
       "<style scoped>\n",
       "    .dataframe tbody tr th:only-of-type {\n",
       "        vertical-align: middle;\n",
       "    }\n",
       "\n",
       "    .dataframe tbody tr th {\n",
       "        vertical-align: top;\n",
       "    }\n",
       "\n",
       "    .dataframe thead th {\n",
       "        text-align: right;\n",
       "    }\n",
       "</style>\n",
       "<table border=\"1\" class=\"dataframe\">\n",
       "  <thead>\n",
       "    <tr style=\"text-align: right;\">\n",
       "      <th></th>\n",
       "      <th>PATIENT_ID</th>\n",
       "      <th>REPORT_ID</th>\n",
       "      <th>PROXIMAL</th>\n",
       "      <th>DISTAL</th>\n",
       "      <th>OM</th>\n",
       "      <th>OM1</th>\n",
       "      <th>OM2</th>\n",
       "      <th>OM3</th>\n",
       "      <th>PDA</th>\n",
       "      <th>PLV</th>\n",
       "    </tr>\n",
       "  </thead>\n",
       "  <tbody>\n",
       "    <tr>\n",
       "      <th>0</th>\n",
       "      <td>CTCAHER21101967</td>\n",
       "      <td>CTCAHER21101967</td>\n",
       "      <td>NORMAL</td>\n",
       "      <td>-</td>\n",
       "      <td>-</td>\n",
       "      <td>NORMAL</td>\n",
       "      <td>-</td>\n",
       "      <td>-</td>\n",
       "      <td>-</td>\n",
       "      <td>-</td>\n",
       "    </tr>\n",
       "    <tr>\n",
       "      <th>1</th>\n",
       "      <td>CTCAGRH27071943</td>\n",
       "      <td>CTCAGRH27071943</td>\n",
       "      <td>NORMAL</td>\n",
       "      <td>NORMAL</td>\n",
       "      <td>-</td>\n",
       "      <td>NORMAL</td>\n",
       "      <td>NORMAL</td>\n",
       "      <td>-</td>\n",
       "      <td>NORMAL</td>\n",
       "      <td>-</td>\n",
       "    </tr>\n",
       "    <tr>\n",
       "      <th>2</th>\n",
       "      <td>CTCADRG22021959</td>\n",
       "      <td>CTCADRG22021959</td>\n",
       "      <td>NORMAL</td>\n",
       "      <td>NORMAL</td>\n",
       "      <td>-</td>\n",
       "      <td>NORMAL</td>\n",
       "      <td>-</td>\n",
       "      <td>-</td>\n",
       "      <td>-</td>\n",
       "      <td>-</td>\n",
       "    </tr>\n",
       "    <tr>\n",
       "      <th>3</th>\n",
       "      <td>CTCAXUZ07071955</td>\n",
       "      <td>CTCAXUZ07071955</td>\n",
       "      <td>NORMAL</td>\n",
       "      <td>NORMAL</td>\n",
       "      <td>-</td>\n",
       "      <td>NORMAL</td>\n",
       "      <td>NORMAL</td>\n",
       "      <td>-</td>\n",
       "      <td>-</td>\n",
       "      <td>-</td>\n",
       "    </tr>\n",
       "    <tr>\n",
       "      <th>4</th>\n",
       "      <td>CTCAQUD02121959</td>\n",
       "      <td>CTCAQUD02121959</td>\n",
       "      <td>NORMAL</td>\n",
       "      <td>NORMAL</td>\n",
       "      <td>-</td>\n",
       "      <td>NORMAL</td>\n",
       "      <td>NORMAL</td>\n",
       "      <td>NORMAL</td>\n",
       "      <td>-</td>\n",
       "      <td>-</td>\n",
       "    </tr>\n",
       "  </tbody>\n",
       "</table>\n",
       "</div>"
      ],
      "text/plain": [
       "        PATIENT_ID        REPORT_ID PROXIMAL  DISTAL OM     OM1     OM2  \\\n",
       "0  CTCAHER21101967  CTCAHER21101967   NORMAL       -  -  NORMAL       -   \n",
       "1  CTCAGRH27071943  CTCAGRH27071943   NORMAL  NORMAL  -  NORMAL  NORMAL   \n",
       "2  CTCADRG22021959  CTCADRG22021959   NORMAL  NORMAL  -  NORMAL       -   \n",
       "3  CTCAXUZ07071955  CTCAXUZ07071955   NORMAL  NORMAL  -  NORMAL  NORMAL   \n",
       "4  CTCAQUD02121959  CTCAQUD02121959   NORMAL  NORMAL  -  NORMAL  NORMAL   \n",
       "\n",
       "      OM3     PDA PLV  \n",
       "0       -       -   -  \n",
       "1       -  NORMAL   -  \n",
       "2       -       -   -  \n",
       "3       -       -   -  \n",
       "4  NORMAL       -   -  "
      ]
     },
     "execution_count": 11,
     "metadata": {},
     "output_type": "execute_result"
    }
   ],
   "source": [
    "# GET LCX TABLE\n",
    "\n",
    "extracted_lcx_df = pd.DataFrame(columns=['PATIENT_ID', 'REPORT_ID', 'PROXIMAL', 'DISTAL', 'OM', 'OM1', 'OM2', 'OM3', \n",
    "                                     'PDA', 'PLV'])\n",
    "\n",
    "\n",
    "def calculate_stenosis(info):\n",
    "    score = get_level_of_stenosis_from_string(info)\n",
    "    score =  score[0] if score else 'NORMAL'\n",
    "    return score\n",
    "\n",
    "for i in tqdm(range(len(list_of_files))):\n",
    "    try:\n",
    "        cur_report_name = list_of_files[i]\n",
    "        cur_file = read_and_strip_record(os.path.join(reports_path, cur_report_name))\n",
    "        cur_patient_info = get_lad_info_from_report(cur_file, 'LEFT CIRCUMFLEX')\n",
    "\n",
    "        new_row = pd.Series(['-','-','-','-','-','-','-','-', '-','-'], index=extracted_lcx_df.columns)\n",
    "        new_row['PATIENT_ID'] = cur_patient_info[0]\n",
    "        new_row['REPORT_ID'] = cur_report_name.split('.')[0].split('RT ')[1]\n",
    "\n",
    "        cur_patient_info.pop(0)\n",
    "        list_of_lcx_branches = [x + ' ' for x in list(extracted_lcx_df.columns)]\n",
    "        for line_info in cur_patient_info:\n",
    "            artery_area_name = [x for x in list_of_lcx_branches \n",
    "                                if x in line_info or x.lower() in line_info or x.title() in line_info]\n",
    "            if len(artery_area_name) >=1:\n",
    "                for area_name in artery_area_name:\n",
    "                    area_name = area_name.strip()\n",
    "                    stenosis_score = calculate_stenosis(line_info)\n",
    "                    new_row.loc[area_name] = stenosis_score\n",
    "            else:\n",
    "                continue\n",
    "        extracted_lcx_df = extracted_lcx_df.append(new_row, ignore_index=True)\n",
    "    except:\n",
    "        print(\"Error!\")\n",
    "extracted_lcx_df.head()"
   ]
  },
  {
   "cell_type": "code",
   "execution_count": null,
   "metadata": {},
   "outputs": [],
   "source": []
  },
  {
   "cell_type": "code",
   "execution_count": 12,
   "metadata": {},
   "outputs": [],
   "source": [
    "extracted_lcx_df.to_excel('lcx_labels.xlsx', index=False)"
   ]
  },
  {
   "cell_type": "code",
   "execution_count": 13,
   "metadata": {},
   "outputs": [
    {
     "data": {
      "text/plain": [
       "-         692\n",
       "NORMAL     51\n",
       ">70%        1\n",
       "Name: PLV, dtype: int64"
      ]
     },
     "execution_count": 13,
     "metadata": {},
     "output_type": "execute_result"
    }
   ],
   "source": [
    "pd.value_counts(extracted_lcx_df['PLV'])"
   ]
  },
  {
   "cell_type": "code",
   "execution_count": 14,
   "metadata": {},
   "outputs": [
    {
     "data": {
      "text/html": [
       "<div>\n",
       "<style scoped>\n",
       "    .dataframe tbody tr th:only-of-type {\n",
       "        vertical-align: middle;\n",
       "    }\n",
       "\n",
       "    .dataframe tbody tr th {\n",
       "        vertical-align: top;\n",
       "    }\n",
       "\n",
       "    .dataframe thead th {\n",
       "        text-align: right;\n",
       "    }\n",
       "</style>\n",
       "<table border=\"1\" class=\"dataframe\">\n",
       "  <thead>\n",
       "    <tr style=\"text-align: right;\">\n",
       "      <th></th>\n",
       "      <th>PATIENT_ID</th>\n",
       "      <th>REPORT_ID</th>\n",
       "      <th>PROXIMAL</th>\n",
       "      <th>DISTAL</th>\n",
       "      <th>MID</th>\n",
       "      <th>PDA</th>\n",
       "      <th>PLV</th>\n",
       "    </tr>\n",
       "  </thead>\n",
       "  <tbody>\n",
       "    <tr>\n",
       "      <th>0</th>\n",
       "      <td>CTCAHER21101967</td>\n",
       "      <td>CTCAHER21101967</td>\n",
       "      <td>NORMAL</td>\n",
       "      <td>NORMAL</td>\n",
       "      <td>NORMAL</td>\n",
       "      <td>NORMAL</td>\n",
       "      <td>NORMAL</td>\n",
       "    </tr>\n",
       "    <tr>\n",
       "      <th>1</th>\n",
       "      <td>CTCAGRH27071943</td>\n",
       "      <td>CTCAGRH27071943</td>\n",
       "      <td>-</td>\n",
       "      <td>-</td>\n",
       "      <td>-</td>\n",
       "      <td>-</td>\n",
       "      <td>-</td>\n",
       "    </tr>\n",
       "    <tr>\n",
       "      <th>2</th>\n",
       "      <td>CTCADRG22021959</td>\n",
       "      <td>CTCADRG22021959</td>\n",
       "      <td>NORMAL</td>\n",
       "      <td>&lt;25%</td>\n",
       "      <td>&lt;25%</td>\n",
       "      <td>&lt;25%</td>\n",
       "      <td>NORMAL</td>\n",
       "    </tr>\n",
       "    <tr>\n",
       "      <th>3</th>\n",
       "      <td>CTCAXUZ07071955</td>\n",
       "      <td>CTCAXUZ07071955</td>\n",
       "      <td>NORMAL</td>\n",
       "      <td>NORMAL</td>\n",
       "      <td>NORMAL</td>\n",
       "      <td>NORMAL</td>\n",
       "      <td>NORMAL</td>\n",
       "    </tr>\n",
       "    <tr>\n",
       "      <th>4</th>\n",
       "      <td>CTCAQUD02121959</td>\n",
       "      <td>CTCAQUD02121959</td>\n",
       "      <td>NORMAL</td>\n",
       "      <td>NORMAL</td>\n",
       "      <td>70%</td>\n",
       "      <td>NORMAL</td>\n",
       "      <td>-</td>\n",
       "    </tr>\n",
       "  </tbody>\n",
       "</table>\n",
       "</div>"
      ],
      "text/plain": [
       "        PATIENT_ID        REPORT_ID PROXIMAL  DISTAL     MID     PDA     PLV\n",
       "0  CTCAHER21101967  CTCAHER21101967   NORMAL  NORMAL  NORMAL  NORMAL  NORMAL\n",
       "1  CTCAGRH27071943  CTCAGRH27071943        -       -       -       -       -\n",
       "2  CTCADRG22021959  CTCADRG22021959   NORMAL    <25%    <25%    <25%  NORMAL\n",
       "3  CTCAXUZ07071955  CTCAXUZ07071955   NORMAL  NORMAL  NORMAL  NORMAL  NORMAL\n",
       "4  CTCAQUD02121959  CTCAQUD02121959   NORMAL  NORMAL     70%  NORMAL       -"
      ]
     },
     "execution_count": 14,
     "metadata": {},
     "output_type": "execute_result"
    }
   ],
   "source": [
    "# GET RCA TABLE\n",
    "extracted_rca_df = pd.DataFrame(columns=['PATIENT_ID', 'REPORT_ID', 'PROXIMAL', 'DISTAL', 'MID',\n",
    "                                     'PDA', 'PLV'])\n",
    "\n",
    "def calculate_stenosis_rca(info, cur_report_name):\n",
    "    if len(info) > 100:\n",
    "        return '-'\n",
    "    score = get_level_of_stenosis_from_string(info)\n",
    "    score = score[0] if score else '-'\n",
    "    if 'normal' in info.lower():\n",
    "        score = 'NORMAL' \n",
    "    return score\n",
    "\n",
    "for i, el in enumerate(list_of_files):\n",
    "    try:\n",
    "        cur_report_name = list_of_files[i]\n",
    "        cur_file = read_and_strip_record(os.path.join(reports_path, cur_report_name))\n",
    "        cur_patient_info = get_lad_info_from_report(cur_file, 'RIGHT CORONARY')\n",
    "        \n",
    "        new_row = pd.Series(['-','-','-','-','-','-','-'], index=extracted_rca_df.columns)\n",
    "        new_row['PATIENT_ID'] = cur_patient_info[0]\n",
    "        new_row['REPORT_ID'] = cur_report_name.split('.')[0].split('RT ')[1]\n",
    "\n",
    "        cur_patient_info.pop(0)\n",
    "        list_of_lcx_branches = [x + ' ' for x in list(extracted_rca_df.columns)]\n",
    "        for line_info in cur_patient_info:\n",
    "            artery_area_name = [x for x in list_of_lcx_branches \n",
    "                                if x in line_info or x.lower() in line_info or x.title() in line_info]\n",
    "            if len(artery_area_name) >=1:\n",
    "                for area_name in artery_area_name:\n",
    "                    area_name = area_name.strip()\n",
    "                    stenosis_score = calculate_stenosis_rca(line_info, cur_report_name)\n",
    "                    new_row.loc[area_name] = stenosis_score\n",
    "            else:\n",
    "                continue\n",
    "        extracted_rca_df = extracted_rca_df.append(new_row, ignore_index=True)\n",
    "    except:\n",
    "        print(\"Error, wrong file (not excel)!\")\n",
    "extracted_rca_df.head()"
   ]
  },
  {
   "cell_type": "code",
   "execution_count": null,
   "metadata": {},
   "outputs": [],
   "source": []
  },
  {
   "cell_type": "code",
   "execution_count": 68,
   "metadata": {},
   "outputs": [],
   "source": [
    "# extracted_rca_df.to_csv('rca_labels_titlesreports.csv', index=False)"
   ]
  },
  {
   "cell_type": "code",
   "execution_count": 15,
   "metadata": {},
   "outputs": [],
   "source": [
    "extracted_rca_df.to_excel('rca_labelsreports.xlsx', index=False)"
   ]
  },
  {
   "cell_type": "code",
   "execution_count": 17,
   "metadata": {},
   "outputs": [
    {
     "data": {
      "text/plain": [
       "(744, 7)"
      ]
     },
     "execution_count": 17,
     "metadata": {},
     "output_type": "execute_result"
    }
   ],
   "source": []
  },
  {
   "cell_type": "code",
   "execution_count": null,
   "metadata": {},
   "outputs": [],
   "source": []
  }
 ],
 "metadata": {
  "kernelspec": {
   "display_name": "Python 3",
   "language": "python",
   "name": "python3"
  },
  "language_info": {
   "codemirror_mode": {
    "name": "ipython",
    "version": 3
   },
   "file_extension": ".py",
   "mimetype": "text/x-python",
   "name": "python",
   "nbconvert_exporter": "python",
   "pygments_lexer": "ipython3",
   "version": "3.5.2"
  },
  "pycharm": {
   "stem_cell": {
    "cell_type": "raw",
    "metadata": {
     "collapsed": false
    },
    "source": []
   }
  }
 },
 "nbformat": 4,
 "nbformat_minor": 2
}
