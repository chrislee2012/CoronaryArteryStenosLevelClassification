{
 "cells": [
  {
   "cell_type": "code",
   "execution_count": 1,
   "metadata": {},
   "outputs": [],
   "source": [
    "import pandas as pd\n",
    "from tqdm import tqdm\n",
    "import re\n",
    "from numpy import nan as Nan\n",
    "import pydicom as dicom\n",
    "import cv2\n",
    "import shutil, os, glob\n"
   ]
  },
  {
   "cell_type": "markdown",
   "metadata": {},
   "source": [
    "# Splitting procedure\n",
    "\n",
    "We have 50 images per one branch of the LAD in one patient. It means that the angel of rotation per one stride in MPR of LAD is near 7%. We took each 3d image, i. e. 20% of rotation, near 15 images per patient.   \n",
    "<br>\n",
    "While splitting we payed attention to a couple of things:\n",
    "1. Number of stenosis score levels images should be proportional\n",
    "2. Numbers of different branches of coronary artery should be proportional\n",
    "3. We took separate patients for test and val\n",
    "4. "
   ]
  },
  {
   "cell_type": "code",
   "execution_count": null,
   "metadata": {},
   "outputs": [],
   "source": []
  },
  {
   "cell_type": "markdown",
   "metadata": {},
   "source": [
    "# Val part\n",
    "<b>0</b>    254 <br>\n",
    "\n",
    "<b>1</b>    153 </b>\n",
    "<br>\n",
    "<b>NORMAL: </b> <br>\n",
    "    106 CTCA1961 (NORMAL\tNORMAL\tNORMAL\tNORMAL) <br>\n",
    "    1007 CTCA1959 (NORMAL\tNORMAL\tNORMAL\tNORMAL\tNORMAL) <br>\n",
    "    1009 CTCA1955 (NORMAL\tNORMAL\tNORMAL\tNORMAL) <br>\n",
    "<br>\n",
    "\n",
    "<b>25%: </b> <br>\n",
    "    1027 CTCA1965 (<25%\t<25%\t<25%\t<25%\tNORMAL) <br>\n",
    "    CTCAAGK05031979 (NORMAL\t<25%\tNORMAL\t<25%) <br>\n",
    "    CTCAANM18021961 (<25%\t<25%\tNORMAL\tNORMAL) <br>\n",
    "<br>    \n",
    "\n",
    "<b>50%</b> <br>\n",
    "    1001 CTCA1947 (25-50%\t25-50%\t25-50%\tNORMAL\t25-50%) <br>\n",
    "    1002 CTCA1955 (NORMAL\t50%\tNORMAL\tNORMAL) <br>\n",
    "    1060 CTCA1959 (50%\tNORMAL\tNORMAL\t25-50%) <br>\n",
    "<br>\n",
    "<b>70%</b><br>\n",
    "    1038 CTCA1979 (NORMAL\t50-70%\tNORMAL\tNORMAL) <br>\n",
    "    1045 CTCA1950 (50-70%\t25-50%\tNORMAL\t25-50%) <br>\n",
    "    \n"
   ]
  },
  {
   "cell_type": "markdown",
   "metadata": {},
   "source": [
    "# Test part\n",
    "\n",
    "<b>0</b>    254 <br>\n",
    "\n",
    "<b>1</b>    287 </b>\n",
    "\n",
    "<b>NORMAL: </b> <br>\n",
    "    CTCAZHX30011957 (NORMAL\tNORMAL\tNORMAL\tNORMAL\tNORMAL), <br>\n",
    "    CTCAYOG08091955 (NORMAL\tNORMAL\tNORMAL\tNORMAL\tNORMAL), <br>\n",
    "    CTCAYOA13121966 (NORMAL\tNORMAL\tNORMAL\tNORMAL\tNORMAL) <br>\n",
    "\n",
    "<br>\n",
    "<b>25%: </b> <br>\n",
    "    CTCAWUK05041963 (25% 25%\t25%\tNORMAL), <br>\n",
    "    CTCATHJ17011957 (25%,25%,NORMAL,25%) , <br>\n",
    "    CTCAPHD16081938 (25%,25%,25%,25%),<br>\n",
    "    CTCASIP30041975 (25-50%, 25%,25%,25%,25%)<br>\n",
    "<br>    \n",
    "<br>\n",
    "<b>50%</b> <br>\n",
    "    CTCASTR17021954 (25%\t25-50%\t25-50%\t25%),<br>\n",
    "    CTCASTS01111969 (50%\t50%\tNORMAL\tNORMAL)<br>\n",
    "    CTCASTW15121946 (25-50%\tNORMAL\tNORMAL)<br>\n",
    "    CTCATKR01031953 (25-50%\tNORMAL\tNORMAL\t50%\tNORMAL)<br>\n",
    "<br>\n",
    "<b>70%</b><br>\n",
    "    CTCATUQ02091955 (50-70%\t>70%\tNORMAL\t25-50%)<br>\n",
    "    CTCAVAH09071948 (\t>70%\t>70%\tNORMAL\t50-70%)<br>\n",
    "    CTCAZDV13081958 (25-50%\t50-70%\tNORMAL\t25%\t50%<br>\n"
   ]
  },
  {
   "cell_type": "code",
   "execution_count": 7,
   "metadata": {},
   "outputs": [],
   "source": [
    "test_part = [\n",
    "    'CTCAZHX30011957',\n",
    "    'CTCAYOG08091955',\n",
    "    'CTCAYOA13121966',\n",
    "    'CTCAWUK05041963',\n",
    "    'CTCATHJ17011957',\n",
    "    'CTCAPHD16081938',\n",
    "    'CTCASIP30041975',\n",
    "    'CTCASTR17021954',\n",
    "    'CTCASTS01111969',\n",
    "    'CTCASTW15121946',\n",
    "    'CTCATKR01031953',\n",
    "    'CTCATUQ02091955',\n",
    "    'CTCAVAH09071948',\n",
    "    'CTCAZDV13081958',\n",
    "]\n",
    "val_part = [\n",
    "    '106 CTCA1961',\n",
    "    '1007 CTCA1959',\n",
    "    '1009 CTCA1955',\n",
    "    '1027 CTCA1965',\n",
    "    'CTCAAGK05031979',\n",
    "    'CTCAANM18021961',\n",
    "    '1001 CTCA1947',\n",
    "    '1002 CTCA1955',\n",
    "    '1060 CTCA1959',\n",
    "    '1038 CTCA1979',\n",
    "    '1045 CTCA1950',  \n",
    "]\n"
   ]
  },
  {
   "cell_type": "markdown",
   "metadata": {},
   "source": [
    "# Moving the data"
   ]
  },
  {
   "cell_type": "code",
   "execution_count": 3,
   "metadata": {},
   "outputs": [],
   "source": [
    "def move_dataset_part(dataset_part_name, patients_list,path_to_data , path_to_move):\n",
    "    \"\"\"\n",
    "    Takes patient list and move to new subdataset.\n",
    "    \n",
    "    Args:\n",
    "        - dataset_part_name(str): name of the new subpart of the dataset\n",
    "        - patients_list: list of the patient, which sould be moved\n",
    "        - path_to_data: dataset, from which we take the patient folders\n",
    "        - path_to_move: path, where create new dataset\n",
    "    Returns:\n",
    "        - None\n",
    "    \"\"\"\n",
    "    if not os.path.exists(os.path.join(path_to_move, dataset_part_name)):\n",
    "        os.mkdir(os.path.join(path_to_move, dataset_part_name))\n",
    "    \n",
    "    for i in range(len(patients_list)):\n",
    "        shutil.move(os.path.join(path_to_data, patients_list[i]), os.path.join(path_to_move, dataset_part_name, patients_list[i]))"
   ]
  },
  {
   "cell_type": "code",
   "execution_count": 9,
   "metadata": {},
   "outputs": [],
   "source": [
    "PATH_TO_DATA = '/home/petryshak/CoronaryArteryPlaqueIdentification/data/ONLY_LAD'\n",
    "PATH_TO_MOVE = '/home/petryshak/CoronaryArteryPlaqueIdentification/data/'\n",
    "\n",
    "val_name = 'val'\n",
    "test_name = 'test'\n"
   ]
  },
  {
   "cell_type": "markdown",
   "metadata": {},
   "source": [
    "### Val moving"
   ]
  },
  {
   "cell_type": "code",
   "execution_count": 8,
   "metadata": {},
   "outputs": [],
   "source": [
    "move_dataset_part(val_name, val_part, PATH_TO_DATA,PATH_TO_MOVE)"
   ]
  },
  {
   "cell_type": "markdown",
   "metadata": {},
   "source": [
    "### Test moving "
   ]
  },
  {
   "cell_type": "code",
   "execution_count": 10,
   "metadata": {},
   "outputs": [],
   "source": [
    "move_dataset_part(test_name, test_part, PATH_TO_DATA, PATH_TO_MOVE)"
   ]
  },
  {
   "cell_type": "code",
   "execution_count": null,
   "metadata": {},
   "outputs": [],
   "source": []
  }
 ],
 "metadata": {
  "kernelspec": {
   "display_name": "Python 3",
   "language": "python",
   "name": "python3"
  },
  "language_info": {
   "codemirror_mode": {
    "name": "ipython",
    "version": 3
   },
   "file_extension": ".py",
   "mimetype": "text/x-python",
   "name": "python",
   "nbconvert_exporter": "python",
   "pygments_lexer": "ipython3",
   "version": "3.5.2"
  }
 },
 "nbformat": 4,
 "nbformat_minor": 2
}
