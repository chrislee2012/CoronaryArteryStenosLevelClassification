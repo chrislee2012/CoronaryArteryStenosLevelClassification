{
 "cells": [
  {
   "cell_type": "code",
   "execution_count": 1,
   "metadata": {},
   "outputs": [],
   "source": [
    "import pandas as pd\n",
    "import os\n",
    "from tqdm import tqdm\n",
    "import re\n",
    "from numpy import nan as Nan\n",
    "import pydicom as dicom\n",
    "import cv2\n",
    "import shutil\n"
   ]
  },
  {
   "cell_type": "code",
   "execution_count": null,
   "metadata": {},
   "outputs": [],
   "source": [
    "def get_label_for_patient(lad_segment, reports, patient_id):\n",
    "    \"\"\"\n",
    "    \n",
    "    \n",
    "    Example:\n",
    "        get_label_for_patient('LAD', reports, 'DDJ261Z' )\n",
    "\n",
    "    \"\"\"\n",
    "    classes_to_positive = ['<25%','25%', 'NORMAL', '-']\n",
    "\n",
    "    if lad_segment == 'LAD':\n",
    "        curr_section_label = reports.loc[reports['PATIENT_ID'] == patient_id][['MID', 'PROXIMAL', 'DISTAL']].iloc[0]\n",
    "        stenosis_score = [x for x in curr_section_label if x not in classes_to_positive]\n",
    "        label = 1 if len(stenosis_score) > 0 else 0\n",
    "        return label, '___'.join(curr_section_label.values)\n",
    "        \n",
    "    else:\n",
    "        curr_section_label =  reports.loc[reports['PATIENT_ID'] == patient_id][lad_segment].iloc[0]\n",
    "        label = 0 if curr_section_label in classes_to_positive else 1    \n",
    "        return label, curr_section_label\n",
    "\n",
    "def get_labels(path_to_patient, reports):\n",
    "    \"\"\"\n",
    "    Returns:\n",
    "        - dict: key(str) - type of the artery, value(int) - label(0 or 1)\n",
    "    \"\"\"\n",
    "    \n",
    "    types_of_images = os.listdir(path_to_patient)\n",
    "    patient_name = [x for x in path_to_patient.split('/') if len(x) > 0][-1]\n",
    "    labels_dict = {}\n",
    "    \n",
    "    for i in range(len(types_of_images)):\n",
    "        labels_dict[types_of_images[i]] = get_label_for_patient(types_of_images[i], reports, patient_name)\n",
    "        \n",
    "    return labels_dict\n",
    "\n",
    "def get_imgs_names_to_the_labels(path_to_patient, labels_dict):\n",
    "    \"\"\"\n",
    "    Args:\n",
    "        - dict: key - branch of artery(str), value - label(int) 0 or 1.   \n",
    "    Returns:\n",
    "        - dict: key - label(int) 0 or 1, value(list) list of images, belong to the labelT\n",
    "    \"\"\"\n",
    "    img_labels = {}\n",
    "\n",
    "    for key in labels_dict.keys():\n",
    "        list_of_images = os.listdir(os.path.join(path_to_patient, key))\n",
    "        if labels_dict[key][1]=='-' or labels_dict[key][1]=='-___-___-':\n",
    "            continue\n",
    "        if labels_dict[key] in img_labels:\n",
    "            img_labels[labels_dict[key]]+= list_of_images\n",
    "        else:\n",
    "            img_labels[labels_dict[key]] = list_of_images\n",
    "            \n",
    "    return img_labels\n",
    "\n",
    "\n"
   ]
  },
  {
   "cell_type": "code",
   "execution_count": null,
   "metadata": {},
   "outputs": [],
   "source": [
    "path_to_patient = r'/home/petryshak/CoronaryArteryPlaqueIdentification/data/binary_classification_only_lad/train/CTCAZOD18071961'\n",
    "get_labels(path_to_patient, reports)"
   ]
  },
  {
   "cell_type": "code",
   "execution_count": null,
   "metadata": {},
   "outputs": [],
   "source": [
    "path_to_patient = r'/home/petryshak/CoronaryArteryPlaqueIdentification/data/binary_classification_only_lad/train/CTCAZSR26031950'\n",
    "# get_labels(path_to_patient)\n",
    "get_imgs_names_to_the_labels(path_to_patient ,get_labels(path_to_patient, reports))"
   ]
  },
  {
   "cell_type": "markdown",
   "metadata": {},
   "source": [
    "# Read reports file"
   ]
  },
  {
   "cell_type": "code",
   "execution_count": null,
   "metadata": {},
   "outputs": [],
   "source": [
    "reports = pd.read_excel('lad_reports.xlsx')\n",
    "reports.tail()"
   ]
  },
  {
   "cell_type": "code",
   "execution_count": null,
   "metadata": {},
   "outputs": [],
   "source": [
    "reports[reports['PATIENT_ID'] == 'CTCAYAY28011972']"
   ]
  },
  {
   "cell_type": "code",
   "execution_count": null,
   "metadata": {},
   "outputs": [],
   "source": []
  },
  {
   "cell_type": "markdown",
   "metadata": {},
   "source": [
    "# 1 Rename patients folders names"
   ]
  },
  {
   "cell_type": "code",
   "execution_count": null,
   "metadata": {},
   "outputs": [],
   "source": [
    "file_names = os.listdir(path_to_rename)\n",
    "file_names_reports = list(reports['PATIENT_ID'])"
   ]
  },
  {
   "cell_type": "code",
   "execution_count": null,
   "metadata": {},
   "outputs": [],
   "source": [
    "path_to_rename = '/home/petryshak/CoronaryArteryPlaqueIdentification/data/thrash'\n",
    "new_values = []\n",
    "exceptions_which_should_be_added = \\\n",
    "    [\n",
    "     '348 CTCAGRH27071943',\n",
    "     '349 CTCANGM17081945',\n",
    "     '350 CTCATRH10061944',\n",
    "     '351 CTCAGRH27071943',\n",
    "     '353 CTCANGM17081945',\n",
    "     '371 CTCATRH10061944'\n",
    "    ]\n",
    "\n",
    "for i in range(len(file_names)):\n",
    "    if file_names[i] in exceptions_which_should_be_added:\n",
    "        continue\n",
    "    \n",
    "    splited_value = file_names[i].split(' ')\n",
    "    if len(splited_value[0]) == 4 or file_names[i] in exceptions_which_should_be_added:\n",
    "        new_values.append(file_names[i])\n",
    "    else:\n",
    "        os.rename(os.path.join(path_to_rename, file_names[i]), os.path.join(path_to_rename, splited_value[1]))\n",
    "        new_values.append(splited_value[1])"
   ]
  },
  {
   "cell_type": "code",
   "execution_count": null,
   "metadata": {},
   "outputs": [],
   "source": [
    "list_of_folders = os.listdir('E:\\ONLY_LAD')"
   ]
  },
  {
   "cell_type": "code",
   "execution_count": null,
   "metadata": {},
   "outputs": [],
   "source": [
    "remove_files = []\n",
    "for i in range(len(list_of_folders)):\n",
    "    if list_of_folders[i] not in file_names_reports:\n",
    "        remove_files.append(list_of_folders[i])\n",
    "#         shutil.move(os.path.join('E:\\ONLY_LAD\\\\',list_of_folders[i]), \n",
    "#                     os.path.join('E:\\exceptions_lad\\\\', list_of_folders[i]))"
   ]
  },
  {
   "cell_type": "code",
   "execution_count": null,
   "metadata": {},
   "outputs": [],
   "source": [
    "for i in range(len(labels_csv)):\n",
    "    lol = labels_csv['IMG_NAME'].iloc[i].split('_')[0]\n",
    "    if lol not in ['LAD', 'D-1', 'D-2', 'D-3', 'D-4']:\n",
    "        print(lol)"
   ]
  },
  {
   "cell_type": "code",
   "execution_count": null,
   "metadata": {},
   "outputs": [],
   "source": [
    "pd.value_counts(pd.read_csv('val.csv')['LABEL'])"
   ]
  },
  {
   "cell_type": "markdown",
   "metadata": {},
   "source": [
    "# 2 Rename all images per patient"
   ]
  },
  {
   "cell_type": "code",
   "execution_count": null,
   "metadata": {},
   "outputs": [],
   "source": [
    "PATH_TO_DATA = r'D:\\images\\\\'\n",
    " \n",
    "image_types = os.listdir(PATH_TO_DATA)"
   ]
  },
  {
   "cell_type": "code",
   "execution_count": null,
   "metadata": {},
   "outputs": [],
   "source": [
    "for img_type in image_types:\n",
    "    images_names = os.listdir(os.path.join(PATH_TO_DATA, img_type))\n",
    "    for img_name in images_names:\n",
    "        os.rename(os.path.join(PATH_TO_DATA, img_type, img_name),\n",
    "                  os.path.join(PATH_TO_DATA, img_type, img_type+'_'+'_'.join(img_name.split(' '))))"
   ]
  },
  {
   "cell_type": "markdown",
   "metadata": {},
   "source": [
    "### Rename all images in all patients"
   ]
  },
  {
   "cell_type": "code",
   "execution_count": null,
   "metadata": {},
   "outputs": [],
   "source": [
    "PATH_TO_DATA = '/home/petryshak/CoronaryArteryPlaqueIdentification/data/thrash'\n",
    "patients_names = os.listdir(PATH_TO_DATA)\n",
    "\n",
    "for patient_name in tqdm(patients_names):\n",
    "    images_types = os.listdir(os.path.join(PATH_TO_DATA, patient_name))\n",
    "    \n",
    "    for img_type in images_types:\n",
    "        images_names = os.listdir(os.path.join(PATH_TO_DATA, patient_name, img_type))\n",
    "        for img_name in images_names:\n",
    "            os.rename(os.path.join(PATH_TO_DATA, patient_name, img_type, img_name),\n",
    "                      os.path.join(PATH_TO_DATA, patient_name, img_type, img_type+'_'+'_'.join(img_name.split(' '))))"
   ]
  },
  {
   "cell_type": "markdown",
   "metadata": {},
   "source": [
    "# 3 Create final dataset and create excel file with labels per image\n"
   ]
  },
  {
   "cell_type": "code",
   "execution_count": null,
   "metadata": {},
   "outputs": [],
   "source": [
    "PATH_TO_DATA = r'/home/petryshak/CoronaryArteryPlaqueIdentification/data/binary_classification_only_lad/test'\n",
    "list_of_patients = os.listdir(PATH_TO_DATA)\n",
    "\n",
    "labels_csv = pd.DataFrame(columns=['PATIENT_NAME', 'IMG_NAME', 'LABEL', 'STENOSIS_SCORE'])\n",
    "\n",
    "for i in tqdm(range(len(list_of_patients))):\n",
    "    if i == 0:\n",
    "        continue\n",
    "    labels = get_labels(os.path.join(PATH_TO_DATA, list_of_patients[i]), reports)\n",
    "    dict_labels_images = get_imgs_names_to_the_labels(os.path.join(PATH_TO_DATA, list_of_patients[i]), labels)\n",
    "    for key in dict_labels_images:\n",
    "        each_ind = 0\n",
    "        for j in range(len(dict_labels_images[key])):\n",
    "            if each_ind % 3 == 0:\n",
    "                new_row = pd.Series([list_of_patients[i],dict_labels_images[key][j], key[0], key[1]],index=labels_csv.columns)\n",
    "                labels_csv = labels_csv.append(new_row, ignore_index=True)\n",
    "            each_ind+=1            \n"
   ]
  },
  {
   "cell_type": "code",
   "execution_count": null,
   "metadata": {},
   "outputs": [],
   "source": [
    "pd.value_counts(labels_csv['LABEL'])"
   ]
  },
  {
   "cell_type": "code",
   "execution_count": null,
   "metadata": {},
   "outputs": [],
   "source": [
    "labels_csv.to_csv('test_without_25.csv')"
   ]
  },
  {
   "cell_type": "code",
   "execution_count": null,
   "metadata": {},
   "outputs": [],
   "source": [
    "labels_csv.head()"
   ]
  },
  {
   "cell_type": "markdown",
   "metadata": {},
   "source": [
    "# 4 Create images without text"
   ]
  },
  {
   "cell_type": "code",
   "execution_count": 15,
   "metadata": {},
   "outputs": [],
   "source": [
    "import matplotlib.pyplot as plt\n",
    "import numpy as np"
   ]
  },
  {
   "cell_type": "code",
   "execution_count": 19,
   "metadata": {
    "scrolled": true
   },
   "outputs": [
    {
     "name": "stdout",
     "output_type": "stream",
     "text": [
      "(512, 512, 3)\n"
     ]
    }
   ],
   "source": [
    "def remove_text(img):\n",
    "    mask = cv2.threshold(img, 250, 255, cv2.THRESH_BINARY)[1][:,:,0]\n",
    "    dilated_mask = cv2.dilate(mask, cv2.getStructuringElement(cv2.MORPH_ELLIPSE,(3,3)))\n",
    "    dst = cv2.inpaint(img, dilated_mask, 5, cv2.INPAINT_NS)\n",
    "    return dst\n",
    "    \n",
    "path_to_img = '/home/petryshak/CoronaryArteryPlaqueIdentification/data/binary_classification_only_lad/train/CTCAZON16011962/D-3/D-3_674_CTCAZON16011962_10.png'\n",
    "img = cv2.imread(path_to_img)\n",
    "print(img.shape)\n",
    "removed_text = remove_text(img)\n",
    "\n",
    "# cv2.imwrite('lol.png', removed_text)\n"
   ]
  },
  {
   "cell_type": "code",
   "execution_count": 52,
   "metadata": {
    "scrolled": true
   },
   "outputs": [
    {
     "name": "stderr",
     "output_type": "stream",
     "text": [
      "\n",
      "  0%|          | 0/694 [00:00<?, ?it/s]\u001b[A\n",
      "  0%|          | 1/694 [00:02<33:29,  2.90s/it]\u001b[A\n",
      "  0%|          | 2/694 [00:07<39:31,  3.43s/it]\u001b[A\n",
      " 91%|█████████ | 629/694 [00:07<02:35,  2.40s/it]\u001b[A\n",
      "100%|██████████| 694/694 [00:07<00:00, 90.48it/s]\u001b[A"
     ]
    }
   ],
   "source": [
    "PATH_TO_DATA = '/home/petryshak/CoronaryArteryPlaqueIdentification/data/binary_classification_only_lad/train'\n",
    "patients_names = os.listdir(PATH_TO_DATA)\n",
    "\n",
    "for patient_name in tqdm(patients_names):\n",
    "    images_types = os.listdir(os.path.join(PATH_TO_DATA, patient_name))\n",
    "    \n",
    "    for img_type in images_types:\n",
    "        images_names = os.listdir(os.path.join(PATH_TO_DATA, patient_name, img_type))\n",
    "        filtered_imgs = [x for x in images_names if '_text_deleted' in x]\n",
    "        if len(filtered_imgs) > 0:\n",
    "            continue\n",
    "            \n",
    "#         print('loool')\n",
    "        for img_name in images_names:\n",
    "            img_path = os.path.join(PATH_TO_DATA, patient_name, img_type, img_name)\n",
    "            cur_img = cv2.imread(img_path)\n",
    "            img_without_text = remove_text(cur_img)\n",
    "            cv2.imwrite(os.path.join(PATH_TO_DATA, patient_name, img_type, img_name.split('.')[0] + '_text_deleted.png'), img_without_text)\n"
   ]
  },
  {
   "cell_type": "code",
   "execution_count": 50,
   "metadata": {},
   "outputs": [
    {
     "data": {
      "text/plain": [
       "'CTCATHR12061965'"
      ]
     },
     "execution_count": 50,
     "metadata": {},
     "output_type": "execute_result"
    }
   ],
   "source": [
    "patient_name"
   ]
  },
  {
   "cell_type": "code",
   "execution_count": null,
   "metadata": {},
   "outputs": [],
   "source": []
  }
 ],
 "metadata": {
  "kernelspec": {
   "display_name": "Python 3",
   "language": "python",
   "name": "python3"
  },
  "language_info": {
   "codemirror_mode": {
    "name": "ipython",
    "version": 3
   },
   "file_extension": ".py",
   "mimetype": "text/x-python",
   "name": "python",
   "nbconvert_exporter": "python",
   "pygments_lexer": "ipython3",
   "version": "3.5.2"
  }
 },
 "nbformat": 4,
 "nbformat_minor": 2
}
