{
 "cells": [
  {
   "cell_type": "code",
   "execution_count": 1,
   "metadata": {},
   "outputs": [],
   "source": [
    "import pandas as pd\n",
    "import pydicom as dicom\n",
    "from PIL import Image\n",
    "import numpy as np\n",
    "import os\n",
    "import cv2\n",
    "import shutil\n",
    "from tqdm import tqdm\n",
    "import matplotlib.pyplot as plt\n",
    "import re"
   ]
  },
  {
   "cell_type": "code",
   "execution_count": 2,
   "metadata": {},
   "outputs": [],
   "source": [
    "### USEFUL FINCTIONS \n",
    "\n",
    "def get_maximum_stenosis_score_category(section_stenosis_string):\n",
    "    \"\"\"\n",
    "    Returns the max stenois score category\n",
    "    \n",
    "    Args:\n",
    "        - section_stenosis_string(str): NORMAL_<25%_NORMAL\n",
    "    \n",
    "    Returns:\n",
    "        - max_stenosis_score(str): <25%\n",
    "    \"\"\"\n",
    "    categories = section_stenosis_string.split('_')\n",
    "    numbers = [[int(i) for i in re.findall(r'\\d+', x)] for x in categories]\n",
    "    print(numbers)\n",
    "    max_elements_of_sublists = [max(x or [0]) for x in numbers]\n",
    "    max_stenosis_category = categories[max_elements_of_sublists.index(max(max_elements_of_sublists))]\n",
    "    \n",
    "    return max_stenosis_category\n",
    "\n",
    "def split_string(section_stenosis_string):\n",
    "    return section_stenosis_string.split('_')\n",
    "\n",
    "def remove_thrash_categories(df):\n",
    "    \"\"\"\n",
    "    Merge rare stenosis scores into the broader ones.\n",
    "    \"\"\"\n",
    "    right_categies_names = {\n",
    "     '<25%': ['<35%'], #'25%'],\n",
    "     '25-50%': ['-25-50%', '<25-50%'],\n",
    "     '50%': ['*50%'], #'>50%'],\n",
    "     '50-70%': ['50-75%'],\n",
    "     '70-90%': ['>70%', '>75%'],\n",
    "     '90-100%': ['>90%', '90%']\n",
    "    }\n",
    "    for right_category in right_categies_names:\n",
    "        df.replace(right_categies_names[right_category], right_category, inplace=True)\n",
    "    return df"
   ]
  },
  {
   "cell_type": "markdown",
   "metadata": {},
   "source": [
    "### Read reports"
   ]
  },
  {
   "cell_type": "code",
   "execution_count": 5,
   "metadata": {},
   "outputs": [],
   "source": [
    "lad = pd.read_excel('lad_reports.xlsx')\n",
    "rca = pd.read_excel('rca_reports.xlsx')\n",
    "lcx = pd.read_excel('lcx_reports.xlsx')\n",
    "\n"
   ]
  },
  {
   "cell_type": "code",
   "execution_count": 6,
   "metadata": {},
   "outputs": [],
   "source": [
    "assert len(np.intersect1d(lad['PATIENT_ID'].values, rca['PATIENT_ID'].values)) == lad.shape[0] \n",
    "assert len(np.intersect1d(lad['PATIENT_ID'].values, lcx['PATIENT_ID'].values)) == lad.shape[0] "
   ]
  },
  {
   "cell_type": "code",
   "execution_count": 7,
   "metadata": {},
   "outputs": [
    {
     "data": {
      "text/plain": [
       "((744, 8), (744, 7), (744, 10))"
      ]
     },
     "execution_count": 7,
     "metadata": {},
     "output_type": "execute_result"
    }
   ],
   "source": [
    "lad.shape, rca.shape, lcx.shape"
   ]
  },
  {
   "cell_type": "code",
   "execution_count": 8,
   "metadata": {},
   "outputs": [
    {
     "data": {
      "text/plain": [
       "(Index(['PATIENT_ID', 'PROXIMAL', 'MID', 'DISTAL', 'D-1', 'D-2', 'D-3', 'D-4'], dtype='object'),\n",
       " Index(['PATIENT_ID', 'REPORT_ID', 'PROXIMAL', 'DISTAL', 'MID', 'PDA', 'PLV'], dtype='object'),\n",
       " Index(['PATIENT_ID', 'REPORT_ID', 'PROXIMAL', 'DISTAL', 'OM', 'OM1', 'OM2',\n",
       "        'OM3', 'PDA', 'PLV'],\n",
       "       dtype='object'))"
      ]
     },
     "execution_count": 8,
     "metadata": {},
     "output_type": "execute_result"
    }
   ],
   "source": [
    "lad.columns, rca.columns, lcx.columns"
   ]
  },
  {
   "cell_type": "markdown",
   "metadata": {},
   "source": [
    "### Merge all sections to one table"
   ]
  },
  {
   "cell_type": "code",
   "execution_count": 9,
   "metadata": {},
   "outputs": [
    {
     "data": {
      "text/plain": [
       "Index(['REPORT_ID', 'PATIENT_ID', 'LAD', 'D-1', 'D-2', 'D-3', 'RCA', 'PDA_RCA',\n",
       "       'PLV_RCA', 'LCX', 'OM', 'OM1', 'OM2', 'OM3', 'PDA_LCX', 'PLV_LCX'],\n",
       "      dtype='object')"
      ]
     },
     "execution_count": 9,
     "metadata": {},
     "output_type": "execute_result"
    }
   ],
   "source": [
    "# Merge proximal mid distal\n",
    "lad['LAD'] = lad['PROXIMAL'] +'_'+ lad['MID'] +'_'+ lad['DISTAL']\n",
    "rca['RCA'] = rca['PROXIMAL'] +'_'+ rca['MID'] +'_'+ rca['DISTAL']\n",
    "lcx['LCX'] = lcx['PROXIMAL'] +'_'+ lcx['DISTAL']\n",
    "\n",
    "# Del redundant columns\n",
    "for df in [lad, rca, lcx]:\n",
    "    del df['PROXIMAL']\n",
    "    del df['DISTAL']\n",
    "del lad['MID']\n",
    "del rca['MID']\n",
    "\n",
    "# Merge tables, removing redundant columns\n",
    "lad_rca = pd.merge(lad, rca, on='PATIENT_ID')\n",
    "lad_rca_lcx = pd.merge(lad_rca, lcx, on='PATIENT_ID', suffixes=['_RCA', '_LCX'])  # FULL DATAFRAME FOR ALL BRANCHES!\n",
    "lad_rca_lcx.drop(['D-4', 'REPORT_ID_LCX'], axis=1, inplace=True)\n",
    "lad_rca_lcx.rename(columns={'REPORT_ID_RCA': 'REPORT_ID'}, inplace=True)\n",
    "new_order = [5, 0, 4, 1, 2, 3, 8, 6, 7, 15,9, 10, 11, 12, 13, 14]\n",
    "lad_rca_lcx = lad_rca_lcx[lad_rca_lcx.columns[new_order]]\n",
    "\n",
    "lad_rca_lcx.columns"
   ]
  },
  {
   "cell_type": "code",
   "execution_count": 10,
   "metadata": {},
   "outputs": [
    {
     "data": {
      "text/html": [
       "<div>\n",
       "<style scoped>\n",
       "    .dataframe tbody tr th:only-of-type {\n",
       "        vertical-align: middle;\n",
       "    }\n",
       "\n",
       "    .dataframe tbody tr th {\n",
       "        vertical-align: top;\n",
       "    }\n",
       "\n",
       "    .dataframe thead th {\n",
       "        text-align: right;\n",
       "    }\n",
       "</style>\n",
       "<table border=\"1\" class=\"dataframe\">\n",
       "  <thead>\n",
       "    <tr style=\"text-align: right;\">\n",
       "      <th></th>\n",
       "      <th>REPORT_ID</th>\n",
       "      <th>PATIENT_ID</th>\n",
       "      <th>LAD</th>\n",
       "      <th>D-1</th>\n",
       "      <th>D-2</th>\n",
       "      <th>D-3</th>\n",
       "      <th>RCA</th>\n",
       "      <th>PDA_RCA</th>\n",
       "      <th>PLV_RCA</th>\n",
       "      <th>LCX</th>\n",
       "      <th>OM</th>\n",
       "      <th>OM1</th>\n",
       "      <th>OM2</th>\n",
       "      <th>OM3</th>\n",
       "      <th>PDA_LCX</th>\n",
       "      <th>PLV_LCX</th>\n",
       "    </tr>\n",
       "  </thead>\n",
       "  <tbody>\n",
       "    <tr>\n",
       "      <th>0</th>\n",
       "      <td>CTCAHER21101967</td>\n",
       "      <td>CTCAHER21101967</td>\n",
       "      <td>[&lt;25%, &lt;25%, NORMAL]</td>\n",
       "      <td>NORMAL</td>\n",
       "      <td>-</td>\n",
       "      <td>-</td>\n",
       "      <td>[NORMAL, NORMAL, NORMAL]</td>\n",
       "      <td>NORMAL</td>\n",
       "      <td>NORMAL</td>\n",
       "      <td>[NORMAL, -]</td>\n",
       "      <td>-</td>\n",
       "      <td>NORMAL</td>\n",
       "      <td>-</td>\n",
       "      <td>-</td>\n",
       "      <td>-</td>\n",
       "      <td>-</td>\n",
       "    </tr>\n",
       "    <tr>\n",
       "      <th>1</th>\n",
       "      <td>CTCAGRH27071943</td>\n",
       "      <td>CTCAGRH27071943</td>\n",
       "      <td>[NORMAL, NORMAL, NORMAL]</td>\n",
       "      <td>NORMAL</td>\n",
       "      <td>-</td>\n",
       "      <td>-</td>\n",
       "      <td>[-, -, -]</td>\n",
       "      <td>-</td>\n",
       "      <td>-</td>\n",
       "      <td>[NORMAL, NORMAL]</td>\n",
       "      <td>-</td>\n",
       "      <td>NORMAL</td>\n",
       "      <td>NORMAL</td>\n",
       "      <td>-</td>\n",
       "      <td>NORMAL</td>\n",
       "      <td>-</td>\n",
       "    </tr>\n",
       "    <tr>\n",
       "      <th>2</th>\n",
       "      <td>CTCADRG22021959</td>\n",
       "      <td>CTCADRG22021959</td>\n",
       "      <td>[&lt;25%, &lt;25%, NORMAL]</td>\n",
       "      <td>&lt;25%</td>\n",
       "      <td>&lt;25%</td>\n",
       "      <td>NORMAL</td>\n",
       "      <td>[NORMAL, &lt;25%, &lt;25%]</td>\n",
       "      <td>&lt;25%</td>\n",
       "      <td>NORMAL</td>\n",
       "      <td>[NORMAL, NORMAL]</td>\n",
       "      <td>-</td>\n",
       "      <td>NORMAL</td>\n",
       "      <td>-</td>\n",
       "      <td>-</td>\n",
       "      <td>-</td>\n",
       "      <td>-</td>\n",
       "    </tr>\n",
       "    <tr>\n",
       "      <th>3</th>\n",
       "      <td>CTCAXUZ07071955</td>\n",
       "      <td>CTCAXUZ07071955</td>\n",
       "      <td>[NORMAL, NORMAL, NORMAL]</td>\n",
       "      <td>NORMAL</td>\n",
       "      <td>NORMAL</td>\n",
       "      <td>NORMAL</td>\n",
       "      <td>[NORMAL, NORMAL, NORMAL]</td>\n",
       "      <td>NORMAL</td>\n",
       "      <td>NORMAL</td>\n",
       "      <td>[NORMAL, NORMAL]</td>\n",
       "      <td>-</td>\n",
       "      <td>NORMAL</td>\n",
       "      <td>NORMAL</td>\n",
       "      <td>-</td>\n",
       "      <td>-</td>\n",
       "      <td>-</td>\n",
       "    </tr>\n",
       "    <tr>\n",
       "      <th>4</th>\n",
       "      <td>CTCAQUD02121959</td>\n",
       "      <td>CTCAQUD02121959</td>\n",
       "      <td>[70%, 25-50%, NORMAL]</td>\n",
       "      <td>NORMAL</td>\n",
       "      <td>NORMAL</td>\n",
       "      <td>-</td>\n",
       "      <td>[NORMAL, 70%, NORMAL]</td>\n",
       "      <td>NORMAL</td>\n",
       "      <td>-</td>\n",
       "      <td>[NORMAL, NORMAL]</td>\n",
       "      <td>-</td>\n",
       "      <td>NORMAL</td>\n",
       "      <td>NORMAL</td>\n",
       "      <td>NORMAL</td>\n",
       "      <td>-</td>\n",
       "      <td>-</td>\n",
       "    </tr>\n",
       "  </tbody>\n",
       "</table>\n",
       "</div>"
      ],
      "text/plain": [
       "         REPORT_ID       PATIENT_ID                       LAD     D-1     D-2  \\\n",
       "0  CTCAHER21101967  CTCAHER21101967      [<25%, <25%, NORMAL]  NORMAL       -   \n",
       "1  CTCAGRH27071943  CTCAGRH27071943  [NORMAL, NORMAL, NORMAL]  NORMAL       -   \n",
       "2  CTCADRG22021959  CTCADRG22021959      [<25%, <25%, NORMAL]    <25%    <25%   \n",
       "3  CTCAXUZ07071955  CTCAXUZ07071955  [NORMAL, NORMAL, NORMAL]  NORMAL  NORMAL   \n",
       "4  CTCAQUD02121959  CTCAQUD02121959     [70%, 25-50%, NORMAL]  NORMAL  NORMAL   \n",
       "\n",
       "      D-3                       RCA PDA_RCA PLV_RCA               LCX OM  \\\n",
       "0       -  [NORMAL, NORMAL, NORMAL]  NORMAL  NORMAL       [NORMAL, -]  -   \n",
       "1       -                 [-, -, -]       -       -  [NORMAL, NORMAL]  -   \n",
       "2  NORMAL      [NORMAL, <25%, <25%]    <25%  NORMAL  [NORMAL, NORMAL]  -   \n",
       "3  NORMAL  [NORMAL, NORMAL, NORMAL]  NORMAL  NORMAL  [NORMAL, NORMAL]  -   \n",
       "4       -     [NORMAL, 70%, NORMAL]  NORMAL       -  [NORMAL, NORMAL]  -   \n",
       "\n",
       "      OM1     OM2     OM3 PDA_LCX PLV_LCX  \n",
       "0  NORMAL       -       -       -       -  \n",
       "1  NORMAL  NORMAL       -  NORMAL       -  \n",
       "2  NORMAL       -       -       -       -  \n",
       "3  NORMAL  NORMAL       -       -       -  \n",
       "4  NORMAL  NORMAL  NORMAL       -       -  "
      ]
     },
     "execution_count": 10,
     "metadata": {},
     "output_type": "execute_result"
    }
   ],
   "source": [
    "# Convert proximalMidDistal string to stenosis category\n",
    "for branch in ['LAD', 'RCA', 'LCX']:\n",
    "    lad_rca_lcx[branch] = lad_rca_lcx[branch].apply(split_string)\n",
    "\n",
    "remove_thrash_categories(lad_rca_lcx).head()"
   ]
  },
  {
   "cell_type": "code",
   "execution_count": 11,
   "metadata": {},
   "outputs": [],
   "source": [
    "lad_rca_lcx.rename(columns={\"OM1\": \"OM-1\", \"OM2\": \"OM-2\", \"OM3\": \"OM-3\"}, inplace=True)"
   ]
  },
  {
   "cell_type": "code",
   "execution_count": 12,
   "metadata": {},
   "outputs": [
    {
     "data": {
      "text/html": [
       "<div>\n",
       "<style scoped>\n",
       "    .dataframe tbody tr th:only-of-type {\n",
       "        vertical-align: middle;\n",
       "    }\n",
       "\n",
       "    .dataframe tbody tr th {\n",
       "        vertical-align: top;\n",
       "    }\n",
       "\n",
       "    .dataframe thead th {\n",
       "        text-align: right;\n",
       "    }\n",
       "</style>\n",
       "<table border=\"1\" class=\"dataframe\">\n",
       "  <thead>\n",
       "    <tr style=\"text-align: right;\">\n",
       "      <th></th>\n",
       "      <th>REPORT_ID</th>\n",
       "      <th>PATIENT_ID</th>\n",
       "      <th>LAD</th>\n",
       "      <th>D-1</th>\n",
       "      <th>D-2</th>\n",
       "      <th>D-3</th>\n",
       "      <th>RCA</th>\n",
       "      <th>PDA_RCA</th>\n",
       "      <th>PLV_RCA</th>\n",
       "      <th>LCX</th>\n",
       "      <th>OM</th>\n",
       "      <th>OM-1</th>\n",
       "      <th>OM-2</th>\n",
       "      <th>OM-3</th>\n",
       "      <th>PDA_LCX</th>\n",
       "      <th>PLV_LCX</th>\n",
       "    </tr>\n",
       "  </thead>\n",
       "  <tbody>\n",
       "    <tr>\n",
       "      <th>0</th>\n",
       "      <td>CTCAHER21101967</td>\n",
       "      <td>CTCAHER21101967</td>\n",
       "      <td>[&lt;25%, &lt;25%, NORMAL]</td>\n",
       "      <td>NORMAL</td>\n",
       "      <td>-</td>\n",
       "      <td>-</td>\n",
       "      <td>[NORMAL, NORMAL, NORMAL]</td>\n",
       "      <td>NORMAL</td>\n",
       "      <td>NORMAL</td>\n",
       "      <td>[NORMAL, -]</td>\n",
       "      <td>-</td>\n",
       "      <td>NORMAL</td>\n",
       "      <td>-</td>\n",
       "      <td>-</td>\n",
       "      <td>-</td>\n",
       "      <td>-</td>\n",
       "    </tr>\n",
       "    <tr>\n",
       "      <th>1</th>\n",
       "      <td>CTCAGRH27071943</td>\n",
       "      <td>CTCAGRH27071943</td>\n",
       "      <td>[NORMAL, NORMAL, NORMAL]</td>\n",
       "      <td>NORMAL</td>\n",
       "      <td>-</td>\n",
       "      <td>-</td>\n",
       "      <td>[-, -, -]</td>\n",
       "      <td>-</td>\n",
       "      <td>-</td>\n",
       "      <td>[NORMAL, NORMAL]</td>\n",
       "      <td>-</td>\n",
       "      <td>NORMAL</td>\n",
       "      <td>NORMAL</td>\n",
       "      <td>-</td>\n",
       "      <td>NORMAL</td>\n",
       "      <td>-</td>\n",
       "    </tr>\n",
       "    <tr>\n",
       "      <th>2</th>\n",
       "      <td>CTCADRG22021959</td>\n",
       "      <td>CTCADRG22021959</td>\n",
       "      <td>[&lt;25%, &lt;25%, NORMAL]</td>\n",
       "      <td>&lt;25%</td>\n",
       "      <td>&lt;25%</td>\n",
       "      <td>NORMAL</td>\n",
       "      <td>[NORMAL, &lt;25%, &lt;25%]</td>\n",
       "      <td>&lt;25%</td>\n",
       "      <td>NORMAL</td>\n",
       "      <td>[NORMAL, NORMAL]</td>\n",
       "      <td>-</td>\n",
       "      <td>NORMAL</td>\n",
       "      <td>-</td>\n",
       "      <td>-</td>\n",
       "      <td>-</td>\n",
       "      <td>-</td>\n",
       "    </tr>\n",
       "    <tr>\n",
       "      <th>3</th>\n",
       "      <td>CTCAXUZ07071955</td>\n",
       "      <td>CTCAXUZ07071955</td>\n",
       "      <td>[NORMAL, NORMAL, NORMAL]</td>\n",
       "      <td>NORMAL</td>\n",
       "      <td>NORMAL</td>\n",
       "      <td>NORMAL</td>\n",
       "      <td>[NORMAL, NORMAL, NORMAL]</td>\n",
       "      <td>NORMAL</td>\n",
       "      <td>NORMAL</td>\n",
       "      <td>[NORMAL, NORMAL]</td>\n",
       "      <td>-</td>\n",
       "      <td>NORMAL</td>\n",
       "      <td>NORMAL</td>\n",
       "      <td>-</td>\n",
       "      <td>-</td>\n",
       "      <td>-</td>\n",
       "    </tr>\n",
       "    <tr>\n",
       "      <th>4</th>\n",
       "      <td>CTCAQUD02121959</td>\n",
       "      <td>CTCAQUD02121959</td>\n",
       "      <td>[70%, 25-50%, NORMAL]</td>\n",
       "      <td>NORMAL</td>\n",
       "      <td>NORMAL</td>\n",
       "      <td>-</td>\n",
       "      <td>[NORMAL, 70%, NORMAL]</td>\n",
       "      <td>NORMAL</td>\n",
       "      <td>-</td>\n",
       "      <td>[NORMAL, NORMAL]</td>\n",
       "      <td>-</td>\n",
       "      <td>NORMAL</td>\n",
       "      <td>NORMAL</td>\n",
       "      <td>NORMAL</td>\n",
       "      <td>-</td>\n",
       "      <td>-</td>\n",
       "    </tr>\n",
       "  </tbody>\n",
       "</table>\n",
       "</div>"
      ],
      "text/plain": [
       "         REPORT_ID       PATIENT_ID                       LAD     D-1     D-2  \\\n",
       "0  CTCAHER21101967  CTCAHER21101967      [<25%, <25%, NORMAL]  NORMAL       -   \n",
       "1  CTCAGRH27071943  CTCAGRH27071943  [NORMAL, NORMAL, NORMAL]  NORMAL       -   \n",
       "2  CTCADRG22021959  CTCADRG22021959      [<25%, <25%, NORMAL]    <25%    <25%   \n",
       "3  CTCAXUZ07071955  CTCAXUZ07071955  [NORMAL, NORMAL, NORMAL]  NORMAL  NORMAL   \n",
       "4  CTCAQUD02121959  CTCAQUD02121959     [70%, 25-50%, NORMAL]  NORMAL  NORMAL   \n",
       "\n",
       "      D-3                       RCA PDA_RCA PLV_RCA               LCX OM  \\\n",
       "0       -  [NORMAL, NORMAL, NORMAL]  NORMAL  NORMAL       [NORMAL, -]  -   \n",
       "1       -                 [-, -, -]       -       -  [NORMAL, NORMAL]  -   \n",
       "2  NORMAL      [NORMAL, <25%, <25%]    <25%  NORMAL  [NORMAL, NORMAL]  -   \n",
       "3  NORMAL  [NORMAL, NORMAL, NORMAL]  NORMAL  NORMAL  [NORMAL, NORMAL]  -   \n",
       "4       -     [NORMAL, 70%, NORMAL]  NORMAL       -  [NORMAL, NORMAL]  -   \n",
       "\n",
       "     OM-1    OM-2    OM-3 PDA_LCX PLV_LCX  \n",
       "0  NORMAL       -       -       -       -  \n",
       "1  NORMAL  NORMAL       -  NORMAL       -  \n",
       "2  NORMAL       -       -       -       -  \n",
       "3  NORMAL  NORMAL       -       -       -  \n",
       "4  NORMAL  NORMAL  NORMAL       -       -  "
      ]
     },
     "execution_count": 12,
     "metadata": {},
     "output_type": "execute_result"
    }
   ],
   "source": [
    "lad_rca_lcx.head()"
   ]
  },
  {
   "cell_type": "code",
   "execution_count": 13,
   "metadata": {},
   "outputs": [],
   "source": [
    "lad_rca_lcx.to_excel('lad_rca_lcx.xlsx')"
   ]
  },
  {
   "cell_type": "code",
   "execution_count": null,
   "metadata": {
    "scrolled": true
   },
   "outputs": [],
   "source": [
    "stenosis_statistics = {}\n",
    "for branch in lad_rca_lcx:\n",
    "    if branch in ['PATIENT_ID', 'REPORT_ID']:\n",
    "        continue\n",
    "    cur_dict = pd.value_counts(lad_rca_lcx[branch]).to_dict()\n",
    "    for key in cur_dict:\n",
    "        if key in stenosis_statistics.keys():\n",
    "            stenosis_statistics[key] += cur_dict[key]\n",
    "        else:\n",
    "            stenosis_statistics[key] = cur_dict[key]\n",
    "    del stenosis_statistics['-']\n",
    "\n"
   ]
  },
  {
   "cell_type": "code",
   "execution_count": null,
   "metadata": {},
   "outputs": [],
   "source": [
    "normal_num = stenosis_statistics.pop('NORMAL')\n"
   ]
  },
  {
   "cell_type": "code",
   "execution_count": null,
   "metadata": {},
   "outputs": [],
   "source": [
    "pd.Series(stenosis_statistics).plot(kind='bar')"
   ]
  },
  {
   "cell_type": "code",
   "execution_count": null,
   "metadata": {},
   "outputs": [],
   "source": [
    "a = os.listdir('/home/petryshak/CoronaryArteryPlaqueIdentification/data/binary_classification_all_branches/train/imgs')\n",
    "b = os.listdir('/home/petryshak/CoronaryArteryPlaqueIdentification/data/binary_classification_all_branches/val/imgs')\n",
    "c = os.listdir('/home/petryshak/CoronaryArteryPlaqueIdentification/data/binary_classification_all_branches/test/imgs')\n",
    "f = a+b+c"
   ]
  },
  {
   "cell_type": "code",
   "execution_count": null,
   "metadata": {},
   "outputs": [],
   "source": [
    "[x for x in f if x not in list(lad_rca_lcx['PATIENT_ID'])]"
   ]
  },
  {
   "cell_type": "code",
   "execution_count": null,
   "metadata": {},
   "outputs": [],
   "source": [
    "fif = ['349 CTCANGM17081945',\n",
    " 'CTCASCK30061977',\n",
    " 'CTCAGOE28101952',\n",
    " 'CTCASIN11111959',\n",
    " 'CTCAPUP1208191941',\n",
    " 'CTCADOP23111947',\n",
    " 'CTCARUN25081958',\n",
    " 'CTCACOV10031966',\n",
    " 'CTCAONM04111950',\n",
    " 'CTCAGUN18021975',\n",
    " '371 CTCATRH10061944',\n",
    " 'CTCASCG29061959',\n",
    " '1000 CTCANEJ23051970',\n",
    " '353 CTCANGM17081945',\n",
    " 'CTCASTR19121963',\n",
    " '1057 CTCA1972',\n",
    " '348 CTCAGRH27071943',\n",
    " '351 CTCAGRH27071943',\n",
    " 'CTCAROS28091767',\n",
    " 'CTCASTV03081936',\n",
    " 'CTCATAA17041965',\n",
    " 'CTCAHAG13081961',\n",
    " '350 CTCATRH10061944',\n",
    " 'CTCAESL01121969',\n",
    " 'CTCAFEY20011971']\n",
    "\n",
    "fof = ['349 CTCANGM17081945',\n",
    " 'CTCASAA13011957',\n",
    " 'CTCABAM18061976',\n",
    " 'CTCASIN11111959',\n",
    " 'CTCAPUP1208191941',\n",
    " 'CTCADOP23111947',\n",
    " 'CTCAKOG14041971',\n",
    " 'CTCACOV10031966',\n",
    " 'CTCACHY14101949',\n",
    " 'CTCALAT23091942',\n",
    " '1003 CTCA1952',\n",
    " '371 CTCATRH10061944',\n",
    " '1000 CTCANEJ23051970',\n",
    " '353 CTCANGM17081945',\n",
    " '348 CTCAGRH27071943',\n",
    " '351 CTCAGRH27071943',\n",
    " 'CTCATRM02031956',\n",
    " 'CTCAROS28091767',\n",
    " 'CTCASTV03081936',\n",
    " 'CTCATAA17041965',\n",
    " '350 CTCATRH10061944',\n",
    " 'CTCAESL01121969',\n",
    " 'CTCAIKE28031986',\n",
    " 'CTCAFEY20011971',\n",
    " '1006 CTCA1961']"
   ]
  },
  {
   "cell_type": "code",
   "execution_count": null,
   "metadata": {},
   "outputs": [],
   "source": [
    "[x for x in fif if x not in fof]"
   ]
  },
  {
   "cell_type": "code",
   "execution_count": null,
   "metadata": {
    "scrolled": true
   },
   "outputs": [],
   "source": []
  },
  {
   "cell_type": "markdown",
   "metadata": {},
   "source": [
    "### Questions\n",
    "\n",
    "1. Wether 25% and <25% are the same or 25% is the same as 25-50% of stenosis score?\n",
    "2. Wether 50% and 50-70% are the same or 50% means 25-50% stenosis score estimation?\n",
    "3. Wether >50% are the same as 50-70% stenosis score estimation?\n",
    "4. Wether 70% is the same as 50-70% or it is the same as >70% i.e. 70-90%?"
   ]
  },
  {
   "cell_type": "markdown",
   "metadata": {},
   "source": [
    "# OLD VERSION BELOW"
   ]
  },
  {
   "cell_type": "code",
   "execution_count": null,
   "metadata": {},
   "outputs": [],
   "source": [
    "for branch in ['LAD', 'RCA', 'LCX', 'D-1', 'D-2', 'OM', 'OM1', 'OM2', 'OM3']:\n",
    "    s = lad_rca_lcx[branch].values\n",
    "    d = {'0':1, '25':2, '25-50':3, '50':4,'50-70':5, '70':6}\n",
    "    temp = [ ''.join(re.sub('[>,%<]', ' ', el)) for el in s]\n",
    "    temp = [re.findall(r'\\d+',el) for el in temp]\n",
    "    print(temp)\n",
    "    break\n",
    "#     if branch in ['LAD', 'RCA', 'LCX']:\n",
    "#         temp = [' '.join(re.sub('[>,%<]', ' ', el).split('_')).replace('NORMAL', '0').split() for el in s]\n",
    "#         temp = [list(d.keys())[list(d.values()).index(el)] for el in temp]\n",
    "#         print(temp)\n",
    "#         temp = [max([d[i] for i in t ]) for t in temp]\n",
    "#     else:\n",
    "#         temp = ' '.join(re.sub('[>,%<]', ' ', el))\n",
    "#         s = [list(d.keys())[list(d.values()).index(el)] for el in temp]\n",
    "#     print(s)\n",
    "#     lad_rca_lcx[branch] = s"
   ]
  },
  {
   "cell_type": "markdown",
   "metadata": {},
   "source": [
    "### Merge all tables"
   ]
  },
  {
   "cell_type": "code",
   "execution_count": null,
   "metadata": {
    "scrolled": true
   },
   "outputs": [],
   "source": [
    "result = pd.merge(lad, rca, on='PATIENT_ID', suffixes=['_LAD', '_RCA'])\n",
    "result.drop(['PDA', 'PLV','D-4','D-3'], axis=1, inplace=True)\n",
    "result = pd.merge(result, lcx, on='REPORT_ID')\n",
    "\n",
    "result.drop(['PDA','PLV', 'OM'], axis=1)"
   ]
  },
  {
   "cell_type": "code",
   "execution_count": null,
   "metadata": {},
   "outputs": [],
   "source": [
    "result.head()"
   ]
  },
  {
   "cell_type": "code",
   "execution_count": null,
   "metadata": {
    "scrolled": true
   },
   "outputs": [],
   "source": [
    "lad.head()"
   ]
  },
  {
   "cell_type": "code",
   "execution_count": null,
   "metadata": {},
   "outputs": [],
   "source": [
    "rca.head()"
   ]
  },
  {
   "cell_type": "code",
   "execution_count": null,
   "metadata": {},
   "outputs": [],
   "source": [
    "lcx.head()"
   ]
  },
  {
   "cell_type": "markdown",
   "metadata": {},
   "source": [
    "# 1. Stage statistics"
   ]
  },
  {
   "cell_type": "markdown",
   "metadata": {},
   "source": [
    "### RCA"
   ]
  },
  {
   "cell_type": "code",
   "execution_count": null,
   "metadata": {},
   "outputs": [],
   "source": [
    "pd.value_counts(rca['PROXIMAL']).plot(kind='bar')"
   ]
  },
  {
   "cell_type": "code",
   "execution_count": null,
   "metadata": {},
   "outputs": [],
   "source": [
    "pd.value_counts(rca['MID']).plot(kind='bar')"
   ]
  },
  {
   "cell_type": "code",
   "execution_count": null,
   "metadata": {},
   "outputs": [],
   "source": [
    "pd.value_counts(rca['DISTAL']).plot(kind='bar')"
   ]
  },
  {
   "cell_type": "markdown",
   "metadata": {},
   "source": [
    "### LCX"
   ]
  },
  {
   "cell_type": "code",
   "execution_count": null,
   "metadata": {},
   "outputs": [],
   "source": [
    "pd.value_counts(lcx['OM']).plot(kind='bar')"
   ]
  },
  {
   "cell_type": "markdown",
   "metadata": {},
   "source": [
    "### LAD"
   ]
  },
  {
   "cell_type": "code",
   "execution_count": null,
   "metadata": {},
   "outputs": [],
   "source": [
    "pd.value_counts(lad['D-1']).plot(kind='bar')"
   ]
  },
  {
   "cell_type": "markdown",
   "metadata": {},
   "source": [
    "\n",
    "# 2. Patient statistics"
   ]
  },
  {
   "cell_type": "markdown",
   "metadata": {},
   "source": [
    "# 3. Balance positive VS negative"
   ]
  },
  {
   "cell_type": "markdown",
   "metadata": {},
   "source": [
    "# 4. Statistics per branches"
   ]
  },
  {
   "cell_type": "code",
   "execution_count": null,
   "metadata": {},
   "outputs": [],
   "source": []
  },
  {
   "cell_type": "code",
   "execution_count": null,
   "metadata": {},
   "outputs": [],
   "source": []
  }
 ],
 "metadata": {
  "kernelspec": {
   "display_name": "Python 3",
   "language": "python",
   "name": "python3"
  },
  "language_info": {
   "codemirror_mode": {
    "name": "ipython",
    "version": 3
   },
   "file_extension": ".py",
   "mimetype": "text/x-python",
   "name": "python",
   "nbconvert_exporter": "python",
   "pygments_lexer": "ipython3",
   "version": "3.5.2"
  }
 },
 "nbformat": 4,
 "nbformat_minor": 2
}
