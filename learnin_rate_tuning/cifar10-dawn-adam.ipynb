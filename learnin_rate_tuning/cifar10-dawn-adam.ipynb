{
 "cells": [
  {
   "cell_type": "markdown",
   "metadata": {},
   "source": [
    "## CIFAR 10"
   ]
  },
  {
   "cell_type": "code",
   "execution_count": 1,
   "metadata": {},
   "outputs": [],
   "source": [
    "%matplotlib inline\n",
    "%reload_ext autoreload\n",
    "%autoreload 2"
   ]
  },
  {
   "cell_type": "code",
   "execution_count": 2,
   "metadata": {},
   "outputs": [],
   "source": [
    "from fastai.conv_learner import *\n",
    "from fastai.models.cifar10.wideresnet import wrn_22\n",
    "torch.backends.cudnn.benchmark = True\n",
    "PATH = Path(\"../data/cifar10/\")\n",
    "os.makedirs(PATH,exist_ok=True)"
   ]
  },
  {
   "cell_type": "code",
   "execution_count": 3,
   "metadata": {},
   "outputs": [],
   "source": [
    "classes = ['airplane', 'automobile', 'bird', 'cat', 'deer', 'dog', 'frog', 'horse', 'ship', 'truck']\n",
    "stats = (np.array([ 0.4914 ,  0.48216,  0.44653]), np.array([ 0.24703,  0.24349,  0.26159]))\n",
    "\n",
    "bs=128\n",
    "sz=32"
   ]
  },
  {
   "cell_type": "code",
   "execution_count": 4,
   "metadata": {},
   "outputs": [],
   "source": [
    "tfms = tfms_from_stats(stats, sz, aug_tfms=[RandomCrop(sz), RandomFlip()], pad=sz//8)\n",
    "data = ImageClassifierData.from_paths(PATH, val_name='test', tfms=tfms, bs=bs)"
   ]
  },
  {
   "cell_type": "markdown",
   "metadata": {},
   "source": [
    "Here is a benchmark with SGD (usually gives a result between 93.7% and 94% accuracy)"
   ]
  },
  {
   "cell_type": "code",
   "execution_count": 5,
   "metadata": {},
   "outputs": [],
   "source": [
    "m = wrn_22()\n",
    "learn = ConvLearner.from_model_data(m, data)\n",
    "learn.crit = nn.CrossEntropyLoss()\n",
    "learn.metrics = [accuracy]\n",
    "wd=1e-4\n",
    "lr = 0.5"
   ]
  },
  {
   "cell_type": "code",
   "execution_count": 6,
   "metadata": {},
   "outputs": [
    {
     "data": {
      "application/vnd.jupyter.widget-view+json": {
       "model_id": "e06c4c49647d4ceca70d0414ee1bca28",
       "version_major": 2,
       "version_minor": 0
      },
      "text/plain": [
       "HBox(children=(IntProgress(value=0, description='Epoch', max=30), HTML(value='')))"
      ]
     },
     "metadata": {},
     "output_type": "display_data"
    },
    {
     "name": "stdout",
     "output_type": "stream",
     "text": [
      "epoch      trn_loss   val_loss   accuracy                   \n",
      "    0      1.132085   1.281381   0.5677    \n",
      "    1      0.809292   0.865459   0.7012                      \n",
      "    2      0.634346   0.660822   0.7757                      \n",
      "    3      0.567303   0.611578   0.7882                      \n",
      "    4      0.511911   0.598666   0.7935                      \n",
      "    5      0.453896   0.554444   0.8164                      \n",
      "    6      0.459425   0.584449   0.8079                      \n",
      "    7      0.412847   0.414145   0.8558                      \n",
      "    8      0.394785   0.550501   0.8246                      \n",
      "    9      0.369612   0.430183   0.8594                      \n",
      "    10     0.367298   0.552524   0.8167                      \n",
      "    11     0.351999   0.773417   0.7883                      \n",
      "    12     0.340457   0.367909   0.8754                      \n",
      "    13     0.319416   0.682482   0.7775                      \n",
      "    14     0.315152   0.435242   0.8565                      \n",
      "    15     0.30741    0.528452   0.8269                      \n",
      "    16     0.279291   0.385991   0.8681                      \n",
      "    17     0.267453   0.411742   0.8625                      \n",
      "    18     0.245649   0.320672   0.8923                      \n",
      "    19     0.223371   0.338245   0.8873                      \n",
      "    20     0.208747   0.328782   0.8905                      \n",
      "    21     0.1713     0.327188   0.8941                      \n",
      "    22     0.129479   0.298646   0.9064                      \n",
      "    23     0.088385   0.21102    0.9338                       \n",
      "    24     0.058582   0.208668   0.9372                       \n",
      "    25     0.047196   0.203404   0.939                        \n",
      "    26     0.036714   0.205366   0.9418                       \n",
      "    27     0.029459   0.198845   0.9431                       \n",
      "    28     0.023771   0.204346   0.9421                       \n",
      "    29     0.019379   0.201611   0.9429                       \n",
      "\n",
      "CPU times: user 22min 47s, sys: 13min 17s, total: 36min 4s\n",
      "Wall time: 21min 15s\n"
     ]
    },
    {
     "data": {
      "text/plain": [
       "[0.20161142144203187, 0.9429]"
      ]
     },
     "execution_count": 6,
     "metadata": {},
     "output_type": "execute_result"
    }
   ],
   "source": [
    "%time learn.fit(lr, 1, wds=wd, cycle_len=30, use_clr_beta=(20,20,0.95,0.85))"
   ]
  },
  {
   "cell_type": "markdown",
   "metadata": {},
   "source": [
    "(Our findings on average: 94.18%)"
   ]
  },
  {
   "cell_type": "markdown",
   "metadata": {},
   "source": [
    "Let's try Adam now. Tests with beta2 varying in 0.999, 0.99, 0.9 and 0.7 showed that 0.99 seems to be the best value."
   ]
  },
  {
   "cell_type": "code",
   "execution_count": 6,
   "metadata": {},
   "outputs": [],
   "source": [
    "m = wrn_22()\n",
    "learn = ConvLearner.from_model_data(m, data)\n",
    "learn.crit = nn.CrossEntropyLoss()\n",
    "learn.metrics = [accuracy]\n",
    "wd=1e-4\n",
    "learn.opt_fn = partial(optim.Adam, betas=(0.95,0.99))"
   ]
  },
  {
   "cell_type": "code",
   "execution_count": 7,
   "metadata": {},
   "outputs": [],
   "source": [
    "learn.save('init')"
   ]
  },
  {
   "cell_type": "markdown",
   "metadata": {},
   "source": [
    "First with L2 regularization"
   ]
  },
  {
   "cell_type": "code",
   "execution_count": 9,
   "metadata": {},
   "outputs": [
    {
     "data": {
      "application/vnd.jupyter.widget-view+json": {
       "model_id": "94409776c4e34b37948f6b71de688d3b",
       "version_major": 2,
       "version_minor": 0
      },
      "text/plain": [
       "HBox(children=(IntProgress(value=0, description='Epoch', max=1), HTML(value='')))"
      ]
     },
     "metadata": {},
     "output_type": "display_data"
    },
    {
     "name": "stdout",
     "output_type": "stream",
     "text": [
      " 94%|█████████▍| 368/391 [00:39<00:02,  9.33it/s, loss=7]   "
     ]
    }
   ],
   "source": [
    "learn.lr_find(wds=wd)"
   ]
  },
  {
   "cell_type": "code",
   "execution_count": 10,
   "metadata": {},
   "outputs": [
    {
     "data": {
      "image/png": "[encoded data removed]",
      "text/plain": [
       "<Figure size 432x288 with 1 Axes>"
      ]
     },
     "metadata": {},
     "output_type": "display_data"
    }
   ],
   "source": [
    "learn.sched.plot()"
   ]
  },
  {
   "cell_type": "code",
   "execution_count": 9,
   "metadata": {},
   "outputs": [],
   "source": [
    "lr = 1e-3"
   ]
  },
  {
   "cell_type": "markdown",
   "metadata": {},
   "source": [
    "We pick a learning rate where the loss is still improving. Extensive tests show that 1e-3 is the best value of lr to get the maximum accuracy."
   ]
  },
  {
   "cell_type": "code",
   "execution_count": 10,
   "metadata": {},
   "outputs": [
    {
     "data": {
      "application/vnd.jupyter.widget-view+json": {
       "model_id": "bff4e99dc43a4f709d7dbbd973883811",
       "version_major": 2,
       "version_minor": 0
      },
      "text/plain": [
       "HBox(children=(IntProgress(value=0, description='Epoch', max=30), HTML(value='')))"
      ]
     },
     "metadata": {},
     "output_type": "display_data"
    },
    {
     "name": "stdout",
     "output_type": "stream",
     "text": [
      " 21%|██        | 83/391 [00:09<00:36,  8.50it/s, loss=1.84]\n",
      "epoch      trn_loss   val_loss   accuracy                   \n",
      "    0      1.209223   1.224005   0.5642    \n",
      "    1      0.912271   0.978291   0.653                       \n",
      "    2      0.745827   0.863427   0.7044                      \n",
      "    3      0.641443   0.818068   0.7229                      \n",
      "    4      0.58134    0.665084   0.7692                      \n",
      "    5      0.506466   0.719583   0.7553                      \n",
      "    6      0.461585   0.552324   0.8148                      \n",
      "    7      0.42836    0.621516   0.7956                      \n",
      "    8      0.417363   0.59709    0.8021                      \n",
      "    9      0.39944    0.548987   0.8125                      \n",
      "    10     0.381709   0.552056   0.8197                      \n",
      "    11     0.352291   0.541899   0.8292                      \n",
      "    12     0.362449   0.390104   0.8647                      \n",
      "    13     0.352621   0.548704   0.8255                      \n",
      "    14     0.308943   0.406213   0.863                       \n",
      "    15     0.288862   0.379828   0.8724                      \n",
      "    16     0.262865   0.357067   0.8833                      \n",
      "    17     0.234678   0.361622   0.8788                      \n",
      "    18     0.210156   0.382614   0.8764                      \n",
      "    19     0.195637   0.327902   0.8985                      \n",
      "    20     0.175906   0.303241   0.9045                      \n",
      "    21     0.153157   0.278721   0.9095                      \n",
      "    22     0.129632   0.297998   0.9056                      \n",
      "    23     0.104227   0.259063   0.9153                       \n",
      "    24     0.097322   0.273652   0.9203                       \n",
      "    25     0.070356   0.241397   0.9285                       \n",
      "    26     0.050511   0.251397   0.9251                       \n",
      "    27     0.039015   0.238815   0.9337                       \n",
      "    28     0.032106   0.238578   0.9337                       \n",
      "    29     0.022602   0.237138   0.9359                       \n",
      "\n",
      "CPU times: user 24min 10s, sys: 14min 1s, total: 38min 12s\n",
      "Wall time: 22min 34s\n"
     ]
    },
    {
     "data": {
      "text/plain": [
       "[0.23713780753612518, 0.9359]"
      ]
     },
     "execution_count": 10,
     "metadata": {},
     "output_type": "execute_result"
    }
   ],
   "source": [
    "learn.load('init')\n",
    "%time learn.fit(lr, 1, wds=wd, cycle_len=30, use_clr_beta=(10,7.5,0.95,0.85))"
   ]
  },
  {
   "cell_type": "markdown",
   "metadata": {},
   "source": [
    "(Our findings on average: 93.49%)"
   ]
  },
  {
   "cell_type": "code",
   "execution_count": 11,
   "metadata": {},
   "outputs": [],
   "source": [
    "val_l2 = learn.sched.val_losses\n",
    "met_l2 = learn.sched.rec_metrics"
   ]
  },
  {
   "cell_type": "markdown",
   "metadata": {},
   "source": [
    "Now let's do weight decay."
   ]
  },
  {
   "cell_type": "code",
   "execution_count": 14,
   "metadata": {},
   "outputs": [
    {
     "data": {
      "application/vnd.jupyter.widget-view+json": {
       "model_id": "5f8b6b8948cd498dba5abdc04e027755",
       "version_major": 2,
       "version_minor": 0
      },
      "text/plain": [
       "HBox(children=(IntProgress(value=0, description='Epoch', max=1), HTML(value='')))"
      ]
     },
     "metadata": {},
     "output_type": "display_data"
    },
    {
     "name": "stdout",
     "output_type": "stream",
     "text": [
      "epoch      trn_loss   val_loss   accuracy                   \n",
      "    0      4.265609   10837.737577 0.1173    \n",
      "\n"
     ]
    }
   ],
   "source": [
    "learn.load('init')\n",
    "learn.lr_find(wds=wd, use_wd_sched=True)"
   ]
  },
  {
   "cell_type": "code",
   "execution_count": 15,
   "metadata": {},
   "outputs": [
    {
     "data": {
      "image/png": "[encoded data removed]",
      "text/plain": [
       "<Figure size 432x288 with 1 Axes>"
      ]
     },
     "metadata": {},
     "output_type": "display_data"
    }
   ],
   "source": [
    "learn.sched.plot(10,20)"
   ]
  },
  {
   "cell_type": "markdown",
   "metadata": {},
   "source": [
    "Here the best learning rate in our experiments is 3e-3."
   ]
  },
  {
   "cell_type": "code",
   "execution_count": 14,
   "metadata": {},
   "outputs": [],
   "source": [
    "lr=3e-3"
   ]
  },
  {
   "cell_type": "code",
   "execution_count": 15,
   "metadata": {},
   "outputs": [
    {
     "data": {
      "application/vnd.jupyter.widget-view+json": {
       "model_id": "18995b12ca5f458fab0188a8a08069d3",
       "version_major": 2,
       "version_minor": 0
      },
      "text/plain": [
       "HBox(children=(IntProgress(value=0, description='Epoch', max=30), HTML(value='')))"
      ]
     },
     "metadata": {},
     "output_type": "display_data"
    },
    {
     "name": "stdout",
     "output_type": "stream",
     "text": [
      "epoch      trn_loss   val_loss   accuracy                   \n",
      "    0      1.114471   1.141272   0.6035    \n",
      "    1      0.835948   0.846035   0.7002                      \n",
      "    2      0.70201    0.744699   0.75                        \n",
      "    3      0.594873   0.606664   0.7962                      \n",
      "    4      0.522855   0.625445   0.7926                      \n",
      "    5      0.468955   0.680878   0.7796                      \n",
      "    6      0.437359   0.532818   0.8202                      \n",
      "    7      0.40571    0.62247    0.8031                      \n",
      "    8      0.37827    0.517      0.8306                      \n",
      "    9      0.349524   0.429428   0.8569                      \n",
      "    10     0.327598   0.453849   0.8563                      \n",
      "    11     0.302648   0.350249   0.8859                      \n",
      "    12     0.270317   0.495357   0.8445                      \n",
      "    13     0.270328   0.494772   0.8471                      \n",
      "    14     0.239715   0.338573   0.8881                      \n",
      "    15     0.218043   0.369312   0.8856                      \n",
      "    16     0.180363   0.318912   0.8997                      \n",
      "    17     0.154082   0.296758   0.9075                      \n",
      "    18     0.12349    0.279521   0.9132                      \n",
      "    19     0.115359   0.256414   0.9213                      \n",
      "    20     0.090927   0.272139   0.9212                       \n",
      "    21     0.076773   0.268438   0.9234                       \n",
      "    22     0.063907   0.291256   0.9219                       \n",
      "    23     0.048774   0.266322   0.9265                       \n",
      "    24     0.038304   0.261859   0.9332                       \n",
      "    25     0.026666   0.268749   0.9324                       \n",
      "    26     0.021308   0.272092   0.9348                       \n",
      "    27     0.015746   0.275391   0.9382                       \n",
      "    28     0.0123     0.271066   0.9388                       \n",
      "    29     0.008731   0.269167   0.9398                        \n",
      "\n",
      "CPU times: user 23min 47s, sys: 14min 7s, total: 37min 54s\n",
      "Wall time: 22min 16s\n"
     ]
    },
    {
     "data": {
      "text/plain": [
       "[0.26916724123060703, 0.9398]"
      ]
     },
     "execution_count": 15,
     "metadata": {},
     "output_type": "execute_result"
    }
   ],
   "source": [
    "learn.load('init')\n",
    "%time learn.fit(lr, 1, wds=wd, cycle_len=30, use_clr_beta=(10,7.5,0.95,0.85), use_wd_sched=True)"
   ]
  },
  {
   "cell_type": "markdown",
   "metadata": {},
   "source": [
    "(Our findings on average: 94%) And here is the last bit of accuracy! We also get to 93% in 25 epochs when it took 30 for the L2 reg."
   ]
  },
  {
   "cell_type": "code",
   "execution_count": 17,
   "metadata": {},
   "outputs": [],
   "source": [
    "val_wd = learn.sched.val_losses\n",
    "met_wd = learn.sched.rec_metrics"
   ]
  },
  {
   "cell_type": "code",
   "execution_count": 18,
   "metadata": {},
   "outputs": [],
   "source": [
    "epochs = list(range(1,31))"
   ]
  },
  {
   "cell_type": "code",
   "execution_count": 19,
   "metadata": {},
   "outputs": [
    {
     "data": {
      "text/plain": [
       "<matplotlib.legend.Legend at 0x7f1abd0ed390>"
      ]
     },
     "execution_count": 19,
     "metadata": {},
     "output_type": "execute_result"
    },
    {
     "data": {
      "image/png": "[encoded data removed]",
      "text/plain": [
       "<Figure size 432x288 with 1 Axes>"
      ]
     },
     "metadata": {},
     "output_type": "display_data"
    }
   ],
   "source": [
    "fig, ax = plt.subplots(1,1)\n",
    "ax.plot(epochs, val_wd, label='wd')\n",
    "ax.plot(epochs, val_l2, label='L2')\n",
    "ax.legend(loc='upper right')"
   ]
  },
  {
   "cell_type": "code",
   "execution_count": 20,
   "metadata": {},
   "outputs": [
    {
     "data": {
      "text/plain": [
       "<matplotlib.legend.Legend at 0x7f1abd08c320>"
      ]
     },
     "execution_count": 20,
     "metadata": {},
     "output_type": "execute_result"
    },
    {
     "data": {
      "image/png": "[encoded data removed]",
      "text/plain": [
       "<Figure size 432x288 with 1 Axes>"
      ]
     },
     "metadata": {},
     "output_type": "display_data"
    }
   ],
   "source": [
    "fig, ax = plt.subplots(1,1)\n",
    "ax.plot(epochs, met_wd, label='wd')\n",
    "ax.plot(epochs, met_l2, label='L2')\n",
    "ax.legend(loc='lower right')"
   ]
  },
  {
   "cell_type": "markdown",
   "metadata": {},
   "source": [
    "Now let's see how fast we can be to train the model to 94% accuracy."
   ]
  },
  {
   "cell_type": "code",
   "execution_count": 19,
   "metadata": {},
   "outputs": [
    {
     "data": {
      "application/vnd.jupyter.widget-view+json": {
       "model_id": "c9f2b7f944fd482983b0eea970afbf0a",
       "version_major": 2,
       "version_minor": 0
      },
      "text/plain": [
       "HBox(children=(IntProgress(value=0, description='Epoch', max=18), HTML(value='')))"
      ]
     },
     "metadata": {},
     "output_type": "display_data"
    },
    {
     "name": "stdout",
     "output_type": "stream",
     "text": [
      "epoch      trn_loss   val_loss   accuracy                   \n",
      "    0      1.100212   1.107082   0.5965    \n",
      "    1      0.837876   0.941279   0.6799                      \n",
      "    2      0.682582   0.677779   0.7676                      \n",
      "    3      0.603947   0.718723   0.7635                      \n",
      "    4      0.536209   0.668456   0.7704                      \n",
      "    5      0.462783   0.537996   0.8158                      \n",
      "    6      0.443069   0.618013   0.7959                      \n",
      "    7      0.406426   0.459833   0.8443                      \n",
      "    8      0.363596   0.459676   0.8481                      \n",
      "    9      0.308999   0.387687   0.8707                      \n",
      "    10     0.254811   0.365728   0.8815                      \n",
      "    11     0.20992    0.311081   0.8953                      \n",
      "    12     0.165968   0.301685   0.9048                      \n",
      "    13     0.141617   0.247372   0.9195                      \n",
      "    14     0.11061    0.256815   0.9202                      \n",
      "    15     0.077968   0.246931   0.9289                       \n",
      "    16     0.060403   0.244295   0.93                         \n",
      "    17     0.045489   0.240706   0.9322                       \n",
      "\n",
      "CPU times: user 14min 19s, sys: 8min 26s, total: 22min 46s\n",
      "Wall time: 13min 21s\n"
     ]
    },
    {
     "data": {
      "text/plain": [
       "[0.24070589029788972, 0.9322]"
      ]
     },
     "execution_count": 19,
     "metadata": {},
     "output_type": "execute_result"
    }
   ],
   "source": [
    "learn.load('init')\n",
    "learn.opt_fn = partial(optim.Adam, betas=(0.95,0.99))\n",
    "%time learn.fit(lr, 1, wds=wd, cycle_len=18, use_clr_beta=(10,7.5,0.95,0.85), use_wd_sched=True)"
   ]
  },
  {
   "cell_type": "code",
   "execution_count": 20,
   "metadata": {},
   "outputs": [],
   "source": [
    "def accuracy_with_TTA(learn):\n",
    "    preds, targs = learn.TTA()\n",
    "    probs = np.mean(np.exp(preds),0)\n",
    "    return accuracy_np(probs, targs)"
   ]
  },
  {
   "cell_type": "code",
   "execution_count": 21,
   "metadata": {},
   "outputs": [
    {
     "name": "stdout",
     "output_type": "stream",
     "text": [
      "                                             \r"
     ]
    },
    {
     "data": {
      "text/plain": [
       "0.9392"
      ]
     },
     "execution_count": 21,
     "metadata": {},
     "output_type": "execute_result"
    }
   ],
   "source": [
    "accuracy_with_TTA(learn)"
   ]
  },
  {
   "cell_type": "markdown",
   "metadata": {},
   "source": [
    "(and with a bit of luck you get to 94%)"
   ]
  },
  {
   "cell_type": "markdown",
   "metadata": {},
   "source": [
    "# With amsgrad"
   ]
  },
  {
   "cell_type": "markdown",
   "metadata": {},
   "source": [
    "To activate amsgrad, we just have to pass amsgrad=True to the optimizer."
   ]
  },
  {
   "cell_type": "code",
   "execution_count": 32,
   "metadata": {},
   "outputs": [],
   "source": [
    "learn.opt_fn = partial(optim.Adam, betas=(0.95,0.99), amsgrad=True)"
   ]
  },
  {
   "cell_type": "code",
   "execution_count": 33,
   "metadata": {},
   "outputs": [
    {
     "data": {
      "application/vnd.jupyter.widget-view+json": {
       "model_id": "c4c23522f97343de8593d4d284856b95",
       "version_major": 2,
       "version_minor": 0
      },
      "text/plain": [
       "HBox(children=(IntProgress(value=0, description='Epoch', max=30), HTML(value='')))"
      ]
     },
     "metadata": {},
     "output_type": "display_data"
    },
    {
     "name": "stdout",
     "output_type": "stream",
     "text": [
      "epoch      trn_loss   val_loss   accuracy                   \n",
      "    0      1.225979   1.299488   0.5321    \n",
      "    1      0.937289   0.962883   0.6511                      \n",
      "    2      0.733208   0.832843   0.7137                      \n",
      "    3      0.630176   0.780865   0.729                       \n",
      "    4      0.562199   0.595009   0.7941                      \n",
      "    5      0.492363   0.585122   0.7965                      \n",
      "    6      0.471037   0.621124   0.7891                      \n",
      "    7      0.422223   0.486214   0.8341                      \n",
      "    8      0.401842   0.542495   0.8248                      \n",
      "    9      0.372675   0.403706   0.8644                      \n",
      "    10     0.350397   0.435613   0.8484                      \n",
      "    11     0.330725   0.470373   0.8437                      \n",
      "    12     0.310322   0.454382   0.8441                      \n",
      "    13     0.302822   0.386894   0.8711                      \n",
      "    14     0.275275   0.34446    0.8867                      \n",
      "    15     0.246374   0.317218   0.8938                      \n",
      "    16     0.214621   0.320286   0.8935                      \n",
      "    17     0.201288   0.329252   0.8908                      \n",
      "    18     0.165644   0.294988   0.9032                      \n",
      "    19     0.162853   0.307869   0.8996                      \n",
      "    20     0.136779   0.297468   0.9055                      \n",
      "    21     0.111356   0.273247   0.9132                      \n",
      "    22     0.09505    0.24298    0.9242                       \n",
      "    23     0.076025   0.277183   0.921                        \n",
      "    24     0.060585   0.250612   0.9263                       \n",
      "    25     0.049334   0.274694   0.922                        \n",
      "    26     0.034033   0.23664    0.9315                       \n",
      "    27     0.024864   0.238172   0.931                        \n",
      "    28     0.020509   0.232823   0.9335                       \n",
      "    29     0.018482   0.232867   0.9342                       \n",
      "\n",
      "CPU times: user 24min 16s, sys: 14min 5s, total: 38min 21s\n",
      "Wall time: 22min 43s\n"
     ]
    },
    {
     "data": {
      "text/plain": [
       "[0.23286711130142213, 0.9342]"
      ]
     },
     "execution_count": 33,
     "metadata": {},
     "output_type": "execute_result"
    }
   ],
   "source": [
    "learn.load('init')\n",
    "%time learn.fit(1e-3, 1, wds=wd, cycle_len=30, use_clr_beta=(10,7.5,0.95,0.85))"
   ]
  },
  {
   "cell_type": "markdown",
   "metadata": {},
   "source": [
    "(Our findings on average: 93.36%) This is slightly below the training with L2 reg."
   ]
  },
  {
   "cell_type": "code",
   "execution_count": 35,
   "metadata": {},
   "outputs": [
    {
     "data": {
      "application/vnd.jupyter.widget-view+json": {
       "model_id": "cbab994a43ba4a838bca0be5e4d8181a",
       "version_major": 2,
       "version_minor": 0
      },
      "text/plain": [
       "HBox(children=(IntProgress(value=0, description='Epoch', max=30), HTML(value='')))"
      ]
     },
     "metadata": {},
     "output_type": "display_data"
    },
    {
     "name": "stdout",
     "output_type": "stream",
     "text": [
      "epoch      trn_loss   val_loss   accuracy                   \n",
      "    0      1.093954   1.056      0.6147    \n",
      "    1      0.8162     0.909985   0.6769                      \n",
      "    2      0.671625   0.872115   0.7017                      \n",
      "    3      0.580006   0.585453   0.7945                      \n",
      "    4      0.5061     0.522762   0.8195                      \n",
      "    5      0.450187   0.517454   0.8278                      \n",
      "    6      0.409246   0.469816   0.8428                      \n",
      "    7      0.377618   0.419576   0.8578                      \n",
      "    8      0.340505   0.391217   0.8677                      \n",
      "    9      0.306417   0.417701   0.8636                      \n",
      "    10     0.279903   0.372138   0.8779                      \n",
      "    11     0.261991   0.336245   0.8878                      \n",
      "    12     0.263883   0.445708   0.8566                      \n",
      "    13     0.222472   0.32966    0.8897                      \n",
      "    14     0.221655   0.31933    0.8976                      \n",
      "    15     0.180152   0.286763   0.9049                      \n",
      "    16     0.148392   0.295632   0.9104                      \n",
      "    17     0.128845   0.294224   0.9103                      \n",
      "    18     0.113204   0.277649   0.9154                       \n",
      "    19     0.089267   0.289071   0.9189                       \n",
      "    20     0.080626   0.274612   0.9223                       \n",
      "    21     0.063699   0.286323   0.9217                       \n",
      "    22     0.048266   0.277178   0.9265                       \n",
      "    23     0.039019   0.281147   0.9255                       \n",
      "    24     0.027182   0.277396   0.9316                       \n",
      "    25     0.018869   0.275511   0.9305                       \n",
      "    26     0.014582   0.285447   0.931                        \n",
      "    27     0.011788   0.272793   0.9334                        \n",
      "    28     0.010942   0.280525   0.9328                        \n",
      "    29     0.009462   0.275538   0.9347                        \n",
      "\n",
      "CPU times: user 24min 2s, sys: 14min 7s, total: 38min 9s\n",
      "Wall time: 22min 31s\n"
     ]
    },
    {
     "data": {
      "text/plain": [
       "[0.27553789917230603, 0.9347]"
      ]
     },
     "execution_count": 35,
     "metadata": {},
     "output_type": "execute_result"
    }
   ],
   "source": [
    "learn.load('init')\n",
    "%time learn.fit(3e-3, 1, wds=wd, cycle_len=30, use_clr_beta=(10,7.5,0.95,0.85), use_wd_sched=True)"
   ]
  },
  {
   "cell_type": "markdown",
   "metadata": {},
   "source": [
    "(Our findings on average: 93.74%) Again, this is slightly below the training with weight decay."
   ]
  },
  {
   "cell_type": "code",
   "execution_count": null,
   "metadata": {},
   "outputs": [],
   "source": []
  }
 ],
 "metadata": {
  "kernelspec": {
   "display_name": "Python 3",
   "language": "python",
   "name": "python3"
  },
  "language_info": {
   "codemirror_mode": {
    "name": "ipython",
    "version": 3
   },
   "file_extension": ".py",
   "mimetype": "text/x-python",
   "name": "python",
   "nbconvert_exporter": "python",
   "pygments_lexer": "ipython3",
   "version": "3.6.5"
  },
  "toc": {
   "colors": {
    "hover_highlight": "#DAA520",
    "navigate_num": "#000000",
    "navigate_text": "#333333",
    "running_highlight": "#FF0000",
    "selected_highlight": "#FFD700",
    "sidebar_border": "#EEEEEE",
    "wrapper_background": "#FFFFFF"
   },
   "moveMenuLeft": true,
   "nav_menu": {
    "height": "266px",
    "width": "252px"
   },
   "navigate_menu": true,
   "number_sections": true,
   "sideBar": true,
   "threshold": 4,
   "toc_cell": false,
   "toc_section_display": "block",
   "toc_window_display": false,
   "widenNotebook": false
  }
 },
 "nbformat": 4,
 "nbformat_minor": 2
}
